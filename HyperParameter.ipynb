{
 "cells": [
  {
   "cell_type": "code",
   "execution_count": 148,
   "metadata": {},
   "outputs": [
    {
     "name": "stderr",
     "output_type": "stream",
     "text": [
      "C:\\Users\\G V Swetha\\anaconda3\\lib\\site-packages\\seaborn\\utils.py:384: GuessedAtParserWarning: No parser was explicitly specified, so I'm using the best available HTML parser for this system (\"lxml\"). This usually isn't a problem, but if you run this code on another system, or in a different virtual environment, it may use a different parser and behave differently.\n",
      "\n",
      "The code that caused this warning is on line 384 of the file C:\\Users\\G V Swetha\\anaconda3\\lib\\site-packages\\seaborn\\utils.py. To get rid of this warning, pass the additional argument 'features=\"lxml\"' to the BeautifulSoup constructor.\n",
      "\n",
      "  gh_list = BeautifulSoup(http)\n"
     ]
    },
    {
     "data": {
      "text/plain": [
       "['anagrams',\n",
       " 'anscombe',\n",
       " 'attention',\n",
       " 'brain_networks',\n",
       " 'car_crashes',\n",
       " 'diamonds',\n",
       " 'dots',\n",
       " 'exercise',\n",
       " 'flights',\n",
       " 'fmri',\n",
       " 'gammas',\n",
       " 'geyser',\n",
       " 'iris',\n",
       " 'mpg',\n",
       " 'penguins',\n",
       " 'planets',\n",
       " 'tips',\n",
       " 'titanic']"
      ]
     },
     "execution_count": 148,
     "metadata": {},
     "output_type": "execute_result"
    }
   ],
   "source": [
    "import numpy as np\n",
    "import pandas as pd\n",
    "import seaborn as sns\n",
    "sns.get_dataset_names()"
   ]
  },
  {
   "cell_type": "code",
   "execution_count": 149,
   "metadata": {},
   "outputs": [
    {
     "data": {
      "text/html": [
       "<div>\n",
       "<style scoped>\n",
       "    .dataframe tbody tr th:only-of-type {\n",
       "        vertical-align: middle;\n",
       "    }\n",
       "\n",
       "    .dataframe tbody tr th {\n",
       "        vertical-align: top;\n",
       "    }\n",
       "\n",
       "    .dataframe thead th {\n",
       "        text-align: right;\n",
       "    }\n",
       "</style>\n",
       "<table border=\"1\" class=\"dataframe\">\n",
       "  <thead>\n",
       "    <tr style=\"text-align: right;\">\n",
       "      <th></th>\n",
       "      <th>survived</th>\n",
       "      <th>pclass</th>\n",
       "      <th>sex</th>\n",
       "      <th>age</th>\n",
       "      <th>sibsp</th>\n",
       "      <th>parch</th>\n",
       "      <th>fare</th>\n",
       "      <th>embarked</th>\n",
       "      <th>class</th>\n",
       "      <th>who</th>\n",
       "      <th>adult_male</th>\n",
       "      <th>deck</th>\n",
       "      <th>embark_town</th>\n",
       "      <th>alive</th>\n",
       "      <th>alone</th>\n",
       "    </tr>\n",
       "  </thead>\n",
       "  <tbody>\n",
       "    <tr>\n",
       "      <th>0</th>\n",
       "      <td>0</td>\n",
       "      <td>3</td>\n",
       "      <td>male</td>\n",
       "      <td>22.0</td>\n",
       "      <td>1</td>\n",
       "      <td>0</td>\n",
       "      <td>7.2500</td>\n",
       "      <td>S</td>\n",
       "      <td>Third</td>\n",
       "      <td>man</td>\n",
       "      <td>True</td>\n",
       "      <td>NaN</td>\n",
       "      <td>Southampton</td>\n",
       "      <td>no</td>\n",
       "      <td>False</td>\n",
       "    </tr>\n",
       "    <tr>\n",
       "      <th>1</th>\n",
       "      <td>1</td>\n",
       "      <td>1</td>\n",
       "      <td>female</td>\n",
       "      <td>38.0</td>\n",
       "      <td>1</td>\n",
       "      <td>0</td>\n",
       "      <td>71.2833</td>\n",
       "      <td>C</td>\n",
       "      <td>First</td>\n",
       "      <td>woman</td>\n",
       "      <td>False</td>\n",
       "      <td>C</td>\n",
       "      <td>Cherbourg</td>\n",
       "      <td>yes</td>\n",
       "      <td>False</td>\n",
       "    </tr>\n",
       "    <tr>\n",
       "      <th>2</th>\n",
       "      <td>1</td>\n",
       "      <td>3</td>\n",
       "      <td>female</td>\n",
       "      <td>26.0</td>\n",
       "      <td>0</td>\n",
       "      <td>0</td>\n",
       "      <td>7.9250</td>\n",
       "      <td>S</td>\n",
       "      <td>Third</td>\n",
       "      <td>woman</td>\n",
       "      <td>False</td>\n",
       "      <td>NaN</td>\n",
       "      <td>Southampton</td>\n",
       "      <td>yes</td>\n",
       "      <td>True</td>\n",
       "    </tr>\n",
       "    <tr>\n",
       "      <th>3</th>\n",
       "      <td>1</td>\n",
       "      <td>1</td>\n",
       "      <td>female</td>\n",
       "      <td>35.0</td>\n",
       "      <td>1</td>\n",
       "      <td>0</td>\n",
       "      <td>53.1000</td>\n",
       "      <td>S</td>\n",
       "      <td>First</td>\n",
       "      <td>woman</td>\n",
       "      <td>False</td>\n",
       "      <td>C</td>\n",
       "      <td>Southampton</td>\n",
       "      <td>yes</td>\n",
       "      <td>False</td>\n",
       "    </tr>\n",
       "    <tr>\n",
       "      <th>4</th>\n",
       "      <td>0</td>\n",
       "      <td>3</td>\n",
       "      <td>male</td>\n",
       "      <td>35.0</td>\n",
       "      <td>0</td>\n",
       "      <td>0</td>\n",
       "      <td>8.0500</td>\n",
       "      <td>S</td>\n",
       "      <td>Third</td>\n",
       "      <td>man</td>\n",
       "      <td>True</td>\n",
       "      <td>NaN</td>\n",
       "      <td>Southampton</td>\n",
       "      <td>no</td>\n",
       "      <td>True</td>\n",
       "    </tr>\n",
       "  </tbody>\n",
       "</table>\n",
       "</div>"
      ],
      "text/plain": [
       "   survived  pclass     sex   age  sibsp  parch     fare embarked  class  \\\n",
       "0         0       3    male  22.0      1      0   7.2500        S  Third   \n",
       "1         1       1  female  38.0      1      0  71.2833        C  First   \n",
       "2         1       3  female  26.0      0      0   7.9250        S  Third   \n",
       "3         1       1  female  35.0      1      0  53.1000        S  First   \n",
       "4         0       3    male  35.0      0      0   8.0500        S  Third   \n",
       "\n",
       "     who  adult_male deck  embark_town alive  alone  \n",
       "0    man        True  NaN  Southampton    no  False  \n",
       "1  woman       False    C    Cherbourg   yes  False  \n",
       "2  woman       False  NaN  Southampton   yes   True  \n",
       "3  woman       False    C  Southampton   yes  False  \n",
       "4    man        True  NaN  Southampton    no   True  "
      ]
     },
     "execution_count": 149,
     "metadata": {},
     "output_type": "execute_result"
    }
   ],
   "source": [
    "titanic = sns.load_dataset('titanic')\n",
    "titanic.head()"
   ]
  },
  {
   "cell_type": "code",
   "execution_count": 150,
   "metadata": {},
   "outputs": [],
   "source": [
    "#Print multiple statements in same line\n",
    "from IPython.core.interactiveshell import InteractiveShell\n",
    "InteractiveShell.ast_node_interactivity = 'all'"
   ]
  },
  {
   "cell_type": "code",
   "execution_count": 151,
   "metadata": {},
   "outputs": [],
   "source": [
    "titanic.drop(columns=['who','adult_male','embark_town','alone','alive','class','deck'],inplace=True)"
   ]
  },
  {
   "cell_type": "code",
   "execution_count": 152,
   "metadata": {},
   "outputs": [],
   "source": [
    "titanic['embarked']= titanic['embarked'].fillna(titanic['embarked'].mode()[0])"
   ]
  },
  {
   "cell_type": "code",
   "execution_count": 153,
   "metadata": {},
   "outputs": [],
   "source": [
    "titanic['age']=titanic['age'].fillna(titanic['age'].median())\n",
    "titanic_treated = titanic.fillna({'age':999,'embarked':'Missing'})"
   ]
  },
  {
   "cell_type": "code",
   "execution_count": 154,
   "metadata": {},
   "outputs": [],
   "source": [
    "for x in titanic_treated.columns:\n",
    "    if titanic_treated[x].dtype == \"object\":\n",
    "        titanic_treated[x]=pd.Categorical(titanic_treated[x]).codes\n",
    "        "
   ]
  },
  {
   "cell_type": "code",
   "execution_count": 155,
   "metadata": {},
   "outputs": [
    {
     "name": "stdout",
     "output_type": "stream",
     "text": [
      "<class 'pandas.core.frame.DataFrame'>\n",
      "RangeIndex: 891 entries, 0 to 890\n",
      "Data columns (total 8 columns):\n",
      " #   Column    Non-Null Count  Dtype  \n",
      "---  ------    --------------  -----  \n",
      " 0   survived  891 non-null    int64  \n",
      " 1   pclass    891 non-null    int64  \n",
      " 2   sex       891 non-null    int8   \n",
      " 3   age       891 non-null    float64\n",
      " 4   sibsp     891 non-null    int64  \n",
      " 5   parch     891 non-null    int64  \n",
      " 6   fare      891 non-null    float64\n",
      " 7   embarked  891 non-null    int8   \n",
      "dtypes: float64(2), int64(4), int8(2)\n",
      "memory usage: 43.6 KB\n"
     ]
    }
   ],
   "source": [
    "titanic_treated.info()"
   ]
  },
  {
   "cell_type": "code",
   "execution_count": 156,
   "metadata": {},
   "outputs": [
    {
     "data": {
      "text/plain": [
       "survived\n",
       "0    549\n",
       "1    342\n",
       "dtype: int64"
      ]
     },
     "execution_count": 156,
     "metadata": {},
     "output_type": "execute_result"
    }
   ],
   "source": [
    "titanic.groupby('survived').size()"
   ]
  },
  {
   "cell_type": "code",
   "execution_count": 157,
   "metadata": {},
   "outputs": [
    {
     "name": "stdout",
     "output_type": "stream",
     "text": [
      "(712, 7)\n",
      "(179, 7)\n",
      "(712,)\n",
      "(179,)\n"
     ]
    }
   ],
   "source": [
    "x=titanic_treated.drop(['survived'],axis=1)\n",
    "y=titanic_treated['survived']\n",
    "\n",
    "from sklearn.model_selection import train_test_split\n",
    "#Create train and test data with 75% and 25% split\n",
    "train_x,test_x,train_y,test_y=train_test_split(x,y,test_size=0.20,random_state=0)\n",
    "print(train_x.shape)\n",
    "print(test_x.shape)\n",
    "print(train_y.shape)\n",
    "print(test_y.shape)\n",
    "\n"
   ]
  },
  {
   "cell_type": "code",
   "execution_count": 158,
   "metadata": {},
   "outputs": [
    {
     "data": {
      "text/plain": [
       "DecisionTreeClassifier()"
      ]
     },
     "execution_count": 158,
     "metadata": {},
     "output_type": "execute_result"
    },
    {
     "data": {
      "text/plain": [
       "DecisionTreeClassifier()"
      ]
     },
     "execution_count": 158,
     "metadata": {},
     "output_type": "execute_result"
    }
   ],
   "source": [
    "from sklearn import tree\n",
    "clf=tree.DecisionTreeClassifier()\n",
    "clf\n",
    "\n",
    "clf.fit(train_x,train_y)\n"
   ]
  },
  {
   "cell_type": "code",
   "execution_count": 159,
   "metadata": {},
   "outputs": [],
   "source": [
    "dtree_predicted=clf.predict(test_x)"
   ]
  },
  {
   "cell_type": "code",
   "execution_count": 160,
   "metadata": {},
   "outputs": [
    {
     "name": "stdout",
     "output_type": "stream",
     "text": [
      "Accuracy Score\n",
      "0.7541899441340782\n",
      "Precision/Recall Matrix\n",
      "              precision    recall  f1-score   support\n",
      "\n",
      "           0       0.79      0.82      0.80       110\n",
      "           1       0.69      0.65      0.67        69\n",
      "\n",
      "    accuracy                           0.75       179\n",
      "   macro avg       0.74      0.74      0.74       179\n",
      "weighted avg       0.75      0.75      0.75       179\n",
      "\n",
      "AUC\n"
     ]
    },
    {
     "data": {
      "text/plain": [
       "0.7351778656126482"
      ]
     },
     "execution_count": 160,
     "metadata": {},
     "output_type": "execute_result"
    }
   ],
   "source": [
    "# Model evaluation\n",
    "from sklearn import metrics\n",
    "from sklearn.metrics import roc_curve,auc,recall_score,precision_score,accuracy_score,confusion_matrix\n",
    "import matplotlib.pyplot as plt\n",
    "print(\"Accuracy Score\")\n",
    "print(metrics.accuracy_score(test_y,dtree_predicted))\n",
    "print(\"Precision/Recall Matrix\")\n",
    "print(metrics.classification_report(test_y,dtree_predicted))\n",
    "print(\"AUC\")\n",
    "auc=metrics.roc_auc_score(test_y,dtree_predicted)\n",
    "auc"
   ]
  },
  {
   "cell_type": "code",
   "execution_count": 161,
   "metadata": {},
   "outputs": [
    {
     "name": "stdout",
     "output_type": "stream",
     "text": [
      "Confusion Matrix\n"
     ]
    },
    {
     "data": {
      "image/png": "[encoded data removed]",
      "text/plain": [
       "<Figure size 432x288 with 2 Axes>"
      ]
     },
     "metadata": {
      "needs_background": "light"
     },
     "output_type": "display_data"
    }
   ],
   "source": [
    "import matplotlib.pyplot as plt\n",
    "#Confusion matrix for Decision Trees\n",
    "print(\"Confusion Matrix\")\n",
    "cf=metrics.confusion_matrix(test_y,dtree_predicted)\n",
    "lbl1=[\"Predicted 0\", \"Predicted 1\"]\n",
    "lbl2=[\"True 0\", \"True 1\"]\n",
    "sns.heatmap(cf,annot=True,cmap='Greens',fmt='d',xticklabels=lbl1,yticklabels=lbl2)\n",
    "plt.show();"
   ]
  },
  {
   "cell_type": "code",
   "execution_count": 162,
   "metadata": {},
   "outputs": [],
   "source": [
    "my_max_depth =[5,10,15,20,50]\n",
    "my_criterion = ['gini','entropy']\n",
    "my_min_samples_leaf = [2,5,10,15,20,25]\n",
    "my_min_samples_split = [2,5,10,15,50,100]\n"
   ]
  },
  {
   "cell_type": "code",
   "execution_count": 163,
   "metadata": {},
   "outputs": [
    {
     "data": {
      "text/plain": [
       "360"
      ]
     },
     "execution_count": 163,
     "metadata": {},
     "output_type": "execute_result"
    }
   ],
   "source": [
    "#number of models \n",
    "len(my_max_depth)*len(my_criterion)*len(my_min_samples_leaf)*len(my_min_samples_split)"
   ]
  },
  {
   "cell_type": "code",
   "execution_count": 164,
   "metadata": {},
   "outputs": [
    {
     "data": {
      "text/plain": [
       "DecisionTreeClassifier()"
      ]
     },
     "execution_count": 164,
     "metadata": {},
     "output_type": "execute_result"
    }
   ],
   "source": [
    "clf"
   ]
  },
  {
   "cell_type": "code",
   "execution_count": 165,
   "metadata": {},
   "outputs": [],
   "source": [
    "#Importinh GRidSearch\n",
    "\n",
    "from sklearn.model_selection import GridSearchCV"
   ]
  },
  {
   "cell_type": "code",
   "execution_count": 166,
   "metadata": {},
   "outputs": [
    {
     "data": {
      "text/plain": [
       "(712, 7)"
      ]
     },
     "execution_count": 166,
     "metadata": {},
     "output_type": "execute_result"
    }
   ],
   "source": [
    "train_x.shape"
   ]
  },
  {
   "cell_type": "code",
   "execution_count": 167,
   "metadata": {},
   "outputs": [],
   "source": [
    "#Building Model\n",
    "\n",
    "grid = GridSearchCV(estimator=clf,cv=4,scoring='recall',\n",
    "                    param_grid=dict(max_depth= my_max_depth,criterion=my_criterion,min_samples_leaf=my_min_samples_leaf,min_samples_split=my_min_samples_split) )"
   ]
  },
  {
   "cell_type": "code",
   "execution_count": 168,
   "metadata": {},
   "outputs": [
    {
     "data": {
      "text/plain": [
       "GridSearchCV(cv=4, estimator=DecisionTreeClassifier(),\n",
       "             param_grid={'criterion': ['gini', 'entropy'],\n",
       "                         'max_depth': [5, 10, 15, 20, 50],\n",
       "                         'min_samples_leaf': [2, 5, 10, 15, 20, 25],\n",
       "                         'min_samples_split': [2, 5, 10, 15, 50, 100]},\n",
       "             scoring='recall')"
      ]
     },
     "execution_count": 168,
     "metadata": {},
     "output_type": "execute_result"
    }
   ],
   "source": [
    "grid.fit(train_x,train_y)"
   ]
  },
  {
   "cell_type": "raw",
   "metadata": {},
   "source": [
    "grid()"
   ]
  },
  {
   "cell_type": "code",
   "execution_count": 169,
   "metadata": {},
   "outputs": [
    {
     "data": {
      "text/plain": [
       "',mean_fit_time,std_fit_time,mean_score_time,std_score_time,param_criterion,param_max_depth,param_min_samples_leaf,param_min_samples_split,params,split0_test_score,split1_test_score,split2_test_score,split3_test_score,mean_test_score,std_test_score,rank_test_score\\r\\n0,0.003754258155822754,0.0012928678774464704,0.002898693084716797,0.0009293239529637157,gini,5,2,2,\"{\\'criterion\\': \\'gini\\', \\'max_depth\\': 5, \\'min_samples_leaf\\': 2, \\'min_samples_split\\': 2}\",0.5735294117647058,0.75,0.6176470588235294,0.6666666666666666,0.6519607843137255,0.06549210399944799,278\\r\\n1,0.0027538537979125977,0.00043963912443622773,0.0021249055862426758,0.0002247301264243358,gini,5,2,5,\"{\\'criterion\\': \\'gini\\', \\'max_depth\\': 5, \\'min_samples_leaf\\': 2, \\'min_samples_split\\': 5}\",0.5735294117647058,0.75,0.6176470588235294,0.6666666666666666,0.6519607843137255,0.06549210399944799,278\\r\\n2,0.0027408599853515625,0.0004312609871227591,0.0019933581352233887,4.5783196376971053e-07,gini,5,2,10,\"{\\'criterion\\': \\'gini\\', \\'max_depth\\': 5, \\'min_samples_leaf\\': 2, \\'min_samples_split\\': 10}\",0.5735294117647058,0.75,0.6176470588235294,0.6666666666666666,0.6519607843137255,0.06549210399944799,278\\r\\n3,0.002491593360900879,0.0004988909052549146,0.001993715763092041,5.685920723777685e-07,gini,5,2,15,\"{\\'criterion\\': \\'gini\\', \\'max_depth\\': 5, \\'min_samples_leaf\\': 2, \\'min_samples_split\\': 15}\",0.5735294117647058,0.75,0.5882352941176471,0.6666666666666666,0.6446078431372548,0.07039905204090721,320\\r\\n4,0.002740621566772461,0.00043098571823048067,0.0012453198432922363,0.00043150171158762003,gini,5,2,50,\"{\\'criterion\\': \\'gini\\', \\'max_depth\\': 5, \\'min_samples_leaf\\': 2, \\'min_samples_split\\': 50}\",0.6470588235294118,0.75,0.6764705882352942,0.6666666666666666,0.685049019607843,0.0389659634695702,105\\r\\n5,0.002491295337677002,0.0004979971281286879,0.001495361328125,0.0004990101999719219,gini,5,2,100,\"{\\'criterion\\': \\'gini\\', \\'max_depth\\': 5, \\'min_samples_leaf\\': 2, \\'min_samples_split\\': 100}\",0.6617647058823529,0.7647058823529411,0.6617647058823529,0.4927536231884058,0.6452472293265131,0.09755809007898596,315\\r\\n6,0.0022413134574890137,0.00043212271956007744,0.0014960765838623047,0.0004993702893430912,gini,5,5,2,\"{\\'criterion\\': \\'gini\\', \\'max_depth\\': 5, \\'min_samples_leaf\\': 5, \\'min_samples_split\\': 2}\",0.7058823529411765,0.75,0.6176470588235294,0.6811594202898551,0.6886722080136403,0.047849506150035574,81\\r\\n7,0.0024915337562561035,0.000498354499127042,0.0014950037002563477,0.0004984140681239633,gini,5,5,5,\"{\\'criterion\\': \\'gini\\', \\'max_depth\\': 5, \\'min_samples_leaf\\': 5, \\'min_samples_split\\': 5}\",0.7058823529411765,0.75,0.6176470588235294,0.6811594202898551,0.6886722080136403,0.047849506150035574,81\\r\\n8,0.0022422075271606445,0.0004307789119602536,0.0012456774711608887,0.00043157040536732525,gini,5,5,10,\"{\\'criterion\\': \\'gini\\', \\'max_depth\\': 5, \\'min_samples_leaf\\': 5, \\'min_samples_split\\': 10}\",0.7058823529411765,0.75,0.6176470588235294,0.6811594202898551,0.6886722080136403,0.047849506150035574,81\\r\\n9,0.001993238925933838,1.97686242482388e-07,0.0009965300559997559,1.0323827311807139e-07,gini,5,5,15,\"{\\'criterion\\': \\'gini\\', \\'max_depth\\': 5, \\'min_samples_leaf\\': 5, \\'min_samples_split\\': 15}\",0.7058823529411765,0.75,0.5882352941176471,0.6956521739130435,0.6849424552429668,0.05945152759251777,111\\r\\n10,0.001993238925933838,1.0323827311807139e-07,0.0017441511154174805,0.00043160485104977133,gini,5,5,50,\"{\\'criterion\\': \\'gini\\', \\'max_depth\\': 5, \\'min_samples_leaf\\': 5, \\'min_samples_split\\': 50}\",0.7205882352941176,0.75,0.6764705882352942,0.6956521739130435,0.7106777493606139,0.02756970672934831,19\\r\\n11,0.0019931793212890625,2.9200193199910854e-07,0.001744389533996582,0.0004317424910948931,gini,5,5,100,\"{\\'criterion\\': \\'gini\\', \\'max_depth\\': 5, \\'min_samples_leaf\\': 5, \\'min_samples_split\\': 100}\",0.6764705882352942,0.7647058823529411,0.6617647058823529,0.4927536231884058,0.6489236999147485,0.09838486815215457,286\\r\\n12,0.0019932985305786133,1.1920928955078125e-07,0.001744091510772705,0.00043157040536732525,gini,5,10,2,\"{\\'criterion\\': \\'gini\\', \\'max_depth\\': 5, \\'min_samples_leaf\\': 10, \\'min_samples_split\\': 2}\",0.7205882352941176,0.7941176470588235,0.5882352941176471,0.6956521739130435,0.6996483375959079,0.07381017092393277,40\\r\\n13,0.0019933581352233887,1.97686242482388e-07,0.0019933581352233887,2.5981062314156735e-07,gini,5,10,5,\"{\\'criterion\\': \\'gini\\', \\'max_depth\\': 5, \\'min_samples_leaf\\': 10, \\'min_samples_split\\': 5}\",0.7205882352941176,0.7941176470588235,0.5882352941176471,0.6956521739130435,0.6996483375959079,0.07381017092393277,40\\r\\n14,0.002491474151611328,0.0004982948588412336,0.0014951229095458984,0.0004984141108921806,gini,5,10,10,\"{\\'criterion\\': \\'gini\\', \\'max_depth\\': 5, \\'min_samples_leaf\\': 10, \\'min_samples_split\\': 10}\",0.7205882352941176,0.7941176470588235,0.5882352941176471,0.6956521739130435,0.6996483375959079,0.07381017092393277,40\\r\\n15,0.0022425055503845215,0.00043170812223012993,0.0009965896606445312,1.6858739404357614e-07,gini,5,10,15,\"{\\'criterion\\': \\'gini\\', \\'max_depth\\': 5, \\'min_samples_leaf\\': 10, \\'min_samples_split\\': 15}\",0.7205882352941176,0.7941176470588235,0.5882352941176471,0.6956521739130435,0.6996483375959079,0.07381017092393277,40\\r\\n16,0.001993238925933838,1.0323827311807139e-07,0.0014950037002563477,0.0004984140396118164,gini,5,10,50,\"{\\'criterion\\': \\'gini\\', \\'max_depth\\': 5, \\'min_samples_leaf\\': 10, \\'min_samples_split\\': 50}\",0.7205882352941176,0.7941176470588235,0.6764705882352942,0.6956521739130435,0.7217071611253197,0.0446367011370922,9\\r\\n17,0.001993119716644287,1.0323827311807139e-07,0.001995086669921875,2.754740717003666e-06,gini,5,10,100,\"{\\'criterion\\': \\'gini\\', \\'max_depth\\': 5, \\'min_samples_leaf\\': 10, \\'min_samples_split\\': 100}\",0.6764705882352942,0.7647058823529411,0.6617647058823529,0.4927536231884058,0.6489236999147485,0.09838486815215457,286\\r\\n18,0.0019912123680114746,2.4568395430475413e-06,0.0019937753677368164,4.2981520598697533e-07,gini,5,15,2,\"{\\'criterion\\': \\'gini\\', \\'max_depth\\': 5, \\'min_samples_leaf\\': 15, \\'min_samples_split\\': 2}\",0.6617647058823529,0.7647058823529411,0.6176470588235294,0.6521739130434783,0.6740728900255755,0.05483901511428704,153\\r\\n19,0.0024915337562561035,0.0004982352613304646,0.0009969472885131836,1.1920928955078125e-07,gini,5,15,5,\"{\\'criterion\\': \\'gini\\', \\'max_depth\\': 5, \\'min_samples_leaf\\': 15, \\'min_samples_split\\': 5}\",0.6617647058823529,0.7647058823529411,0.6176470588235294,0.6521739130434783,0.6740728900255755,0.05483901511428704,153\\r\\n20,0.001993417739868164,2.9200193199910854e-07,0.0019933581352233887,1.97686242482388e-07,gini,5,15,10,\"{\\'criterion\\': \\'gini\\', \\'max_depth\\': 5, \\'min_samples_leaf\\': 15, \\'min_samples_split\\': 10}\",0.6617647058823529,0.7647058823529411,0.6176470588235294,0.6521739130434783,0.6740728900255755,0.05483901511428704,153\\r\\n21,0.0024917125701904297,0.0004982948588412336,0.0014948844909667969,0.0004982948588412336,gini,5,15,15,\"{\\'criterion\\': \\'gini\\', \\'max_depth\\': 5, \\'min_samples_leaf\\': 15, \\'min_samples_split\\': 15}\",0.6617647058823529,0.7647058823529411,0.6176470588235294,0.6521739130434783,0.6740728900255755,0.05483901511428704,153\\r\\n22,0.002242565155029297,0.0004315360145644058,0.0009965896606445312,0.0,gini,5,15,50,\"{\\'criterion\\': \\'gini\\', \\'max_depth\\': 5, \\'min_samples_leaf\\': 15, \\'min_samples_split\\': 50}\",0.6029411764705882,0.75,0.6764705882352942,0.6521739130434783,0.6703964194373402,0.05304690167191621,196\\r\\n23,0.0019930005073547363,1.97686242482388e-07,0.0009965300559997559,1.0323827311807139e-07,gini,5,15,100,\"{\\'criterion\\': \\'gini\\', \\'max_depth\\': 5, \\'min_samples_leaf\\': 15, \\'min_samples_split\\': 100}\",0.6764705882352942,0.7647058823529411,0.7058823529411765,0.4927536231884058,0.6599531116794544,0.10162570313421032,228\\r\\n24,0.0019933581352233887,3.5262583393452264e-07,0.0009965896606445312,1.6858739404357614e-07,gini,5,20,2,\"{\\'criterion\\': \\'gini\\', \\'max_depth\\': 5, \\'min_samples_leaf\\': 20, \\'min_samples_split\\': 2}\",0.7352941176470589,0.7352941176470589,0.6617647058823529,0.6231884057971014,0.688885336743393,0.048371389384613314,61\\r\\n25,0.001993417739868164,2.9200193199910854e-07,0.0019931793212890625,1.6858739404357614e-07,gini,5,20,5,\"{\\'criterion\\': \\'gini\\', \\'max_depth\\': 5, \\'min_samples_leaf\\': 20, \\'min_samples_split\\': 5}\",0.7352941176470589,0.7352941176470589,0.6617647058823529,0.6231884057971014,0.688885336743393,0.048371389384613314,61\\r\\n26,0.0019932985305786133,2.0647654623614278e-07,0.0019933581352233887,1.97686242482388e-07,gini,5,20,10,\"{\\'criterion\\': \\'gini\\', \\'max_depth\\': 5, \\'min_samples_leaf\\': 20, \\'min_samples_split\\': 10}\",0.7352941176470589,0.7352941176470589,0.6617647058823529,0.6231884057971014,0.688885336743393,0.048371389384613314,61\\r\\n27,0.002242565155029297,0.00043167364363781827,0.0017440319061279297,0.00043167364363781827,gini,5,20,15,\"{\\'criterion\\': \\'gini\\', \\'max_depth\\': 5, \\'min_samples_leaf\\': 20, \\'min_samples_split\\': 15}\",0.7352941176470589,0.7352941176470589,0.6617647058823529,0.6231884057971014,0.688885336743393,0.048371389384613314,61\\r\\n28,0.002491772174835205,0.000498354499127042,0.0014950037002563477,0.0004984140966361086,gini,5,20,50,\"{\\'criterion\\': \\'gini\\', \\'max_depth\\': 5, \\'min_samples_leaf\\': 20, \\'min_samples_split\\': 50}\",0.7058823529411765,0.7352941176470589,0.6617647058823529,0.6231884057971014,0.6815323955669225,0.04265567337083144,112\\r\\n29,0.002242445945739746,0.00043146716709683343,0.0017442703247070312,0.000431673709478547,gini,5,20,100,\"{\\'criterion\\': \\'gini\\', \\'max_depth\\': 5, \\'min_samples_leaf\\': 20, \\'min_samples_split\\': 100}\",0.7058823529411765,0.7647058823529411,0.7058823529411765,0.4927536231884058,0.667306052855925,0.1035996372404566,208\\r\\n30,0.0019931793212890625,1.6858739404357614e-07,0.001993417739868164,1.6858739404357614e-07,gini,5,25,2,\"{\\'criterion\\': \\'gini\\', \\'max_depth\\': 5, \\'min_samples_leaf\\': 25, \\'min_samples_split\\': 2}\",0.5882352941176471,0.75,0.6323529411764706,0.6376811594202898,0.6520673486786019,0.059709621688734796,253\\r\\n31,0.001993119716644287,1.0323827311807139e-07,0.0019934773445129395,2.5981062314156735e-07,gini,5,25,5,\"{\\'criterion\\': \\'gini\\', \\'max_depth\\': 5, \\'min_samples_leaf\\': 25, \\'min_samples_split\\': 5}\",0.5882352941176471,0.75,0.6323529411764706,0.6376811594202898,0.6520673486786019,0.059709621688734796,253\\r\\n32,0.0020282864570617676,6.053211906012147e-05,0.002010345458984375,2.932015424825439e-05,gini,5,25,10,\"{\\'criterion\\': \\'gini\\', \\'max_depth\\': 5, \\'min_samples_leaf\\': 25, \\'min_samples_split\\': 10}\",0.5882352941176471,0.75,0.6323529411764706,0.6376811594202898,0.6520673486786019,0.059709621688734796,253\\r\\n33,0.0027407407760620117,0.0004314672000329529,0.001245737075805664,0.00043167364363781827,gini,5,25,15,\"{\\'criterion\\': \\'gini\\', \\'max_depth\\': 5, \\'min_samples_leaf\\': 25, \\'min_samples_split\\': 15}\",0.5882352941176471,0.75,0.6323529411764706,0.6376811594202898,0.6520673486786019,0.059709621688734796,253\\r\\n34,0.0019931793212890625,5.840038639982171e-07,0.0012456178665161133,0.00043160481812415613,gini,5,25,50,\"{\\'criterion\\': \\'gini\\', \\'max_depth\\': 5, \\'min_samples_leaf\\': 25, \\'min_samples_split\\': 50}\",0.5882352941176471,0.75,0.6323529411764706,0.6376811594202898,0.6520673486786019,0.059709621688734796,253\\r\\n35,0.002491891384124756,0.0004983544420959304,0.001494765281677246,0.0004984140681239633,gini,5,25,100,\"{\\'criterion\\': \\'gini\\', \\'max_depth\\': 5, \\'min_samples_leaf\\': 25, \\'min_samples_split\\': 100}\",0.6323529411764706,0.7794117647058824,0.7058823529411765,0.5072463768115942,0.6562233589087809,0.10050539419434326,245\\r\\n36,0.0024921298027038574,0.0004988317350598973,0.0017435550689697266,0.0004312614154968181,gini,10,2,2,\"{\\'criterion\\': \\'gini\\', \\'max_depth\\': 10, \\'min_samples_leaf\\': 2, \\'min_samples_split\\': 2}\",0.5441176470588235,0.7205882352941176,0.5735294117647058,0.7101449275362319,0.6370950554134698,0.07904553184804694,333\\r\\n37,0.002491593360900879,0.0004984140396118164,0.0014949440956115723,0.0004984736798925135,gini,10,2,5,\"{\\'criterion\\': \\'gini\\', \\'max_depth\\': 10, \\'min_samples_leaf\\': 2, \\'min_samples_split\\': 5}\",0.5882352941176471,0.7205882352941176,0.6176470588235294,0.7101449275362319,0.6591538789428815,0.057285532569258515,239\\r\\n38,0.002242445945739746,0.0004314672329690699,0.0014950037002563477,0.0004982948445817498,gini,10,2,10,\"{\\'criterion\\': \\'gini\\', \\'max_depth\\': 10, \\'min_samples_leaf\\': 2, \\'min_samples_split\\': 10}\",0.5588235294117647,0.7941176470588235,0.6176470588235294,0.6956521739130435,0.6665601023017903,0.08819995863869613,213\\r\\n39,0.0027408599853515625,0.00043153598163353843,0.0012456774711608887,0.00043143274336042035,gini,10,2,15,\"{\\'criterion\\': \\'gini\\', \\'max_depth\\': 10, \\'min_samples_leaf\\': 2, \\'min_samples_split\\': 15}\",0.5588235294117647,0.75,0.5735294117647058,0.7246376811594203,0.6517476555839727,0.08619667322854427,284\\r\\n40,0.002741098403930664,0.0008264018552185387,0.0012456774711608887,0.0004315704382955659,gini,10,2,50,\"{\\'criterion\\': \\'gini\\', \\'max_depth\\': 10, \\'min_samples_leaf\\': 2, \\'min_samples_split\\': 50}\",0.6470588235294118,0.7941176470588235,0.6764705882352942,0.6666666666666666,0.696078431372549,0.05758500061015062,48\\r\\n41,0.0019931793212890625,1.6858739404357614e-07,0.0019933581352233887,3.5262583393452264e-07,gini,10,2,100,\"{\\'criterion\\': \\'gini\\', \\'max_depth\\': 10, \\'min_samples_leaf\\': 2, \\'min_samples_split\\': 100}\",0.6617647058823529,0.7647058823529411,0.6617647058823529,0.4927536231884058,0.6452472293265131,0.09755809007898596,315\\r\\n42,0.002239823341369629,0.00043286488592124856,0.0017545223236083984,0.00041364135907823873,gini,10,5,2,\"{\\'criterion\\': \\'gini\\', \\'max_depth\\': 10, \\'min_samples_leaf\\': 5, \\'min_samples_split\\': 2}\",0.6617647058823529,0.7794117647058824,0.6176470588235294,0.7536231884057971,0.7031116794543903,0.06592967683273734,28\\r\\n43,0.002491772174835205,0.0004984736513837764,0.0017439723014831543,0.0004315015798536639,gini,10,5,5,\"{\\'criterion\\': \\'gini\\', \\'max_depth\\': 10, \\'min_samples_leaf\\': 5, \\'min_samples_split\\': 5}\",0.6617647058823529,0.7794117647058824,0.6176470588235294,0.7536231884057971,0.7031116794543903,0.06592967683273734,28\\r\\n44,0.002242445945739746,0.00043160494982660196,0.0017443299293518066,0.00043157040536732525,gini,10,5,10,\"{\\'criterion\\': \\'gini\\', \\'max_depth\\': 10, \\'min_samples_leaf\\': 5, \\'min_samples_split\\': 10}\",0.6617647058823529,0.7794117647058824,0.6176470588235294,0.7536231884057971,0.7031116794543903,0.06592967683273734,28\\r\\n45,0.0019934773445129395,1.0323827311807139e-07,0.0019931793212890625,2.9200193199910854e-07,gini,10,5,15,\"{\\'criterion\\': \\'gini\\', \\'max_depth\\': 10, \\'min_samples_leaf\\': 5, \\'min_samples_split\\': 15}\",0.6323529411764706,0.7941176470588235,0.5735294117647058,0.7681159420289855,0.6920289855072463,0.09194386740596949,57\\r\\n46,0.0022405385971069336,0.0004331386652836294,0.0023578405380249023,0.0006016406866826979,gini,10,5,50,\"{\\'criterion\\': \\'gini\\', \\'max_depth\\': 10, \\'min_samples_leaf\\': 5, \\'min_samples_split\\': 50}\",0.75,0.7941176470588235,0.6764705882352942,0.6956521739130435,0.7290601023017903,0.046240431751884345,1\\r\\n47,0.0024985671043395996,0.0005025558369381952,0.00148850679397583,0.0004909491962418783,gini,10,5,100,\"{\\'criterion\\': \\'gini\\', \\'max_depth\\': 10, \\'min_samples_leaf\\': 5, \\'min_samples_split\\': 100}\",0.6764705882352942,0.7647058823529411,0.6617647058823529,0.4927536231884058,0.6489236999147485,0.09838486815215457,286\\r\\n48,0.002497553825378418,0.0004940711375502629,0.0014864206314086914,0.0004897158386010603,gini,10,10,2,\"{\\'criterion\\': \\'gini\\', \\'max_depth\\': 10, \\'min_samples_leaf\\': 10, \\'min_samples_split\\': 2}\",0.6470588235294118,0.75,0.5882352941176471,0.7391304347826086,0.6811061381074168,0.06689057576458507,117\\r\\n49,0.0022410154342651367,0.00043091932215520945,0.0017441511154174805,0.00043160843992677344,gini,10,10,5,\"{\\'criterion\\': \\'gini\\', \\'max_depth\\': 10, \\'min_samples_leaf\\': 10, \\'min_samples_split\\': 5}\",0.6470588235294118,0.75,0.5882352941176471,0.7391304347826086,0.6811061381074168,0.06689057576458507,117\\r\\n50,0.0022438764572143555,0.0004326427026746313,0.0017432570457458496,0.00043284413290530096,gini,10,10,10,\"{\\'criterion\\': \\'gini\\', \\'max_depth\\': 10, \\'min_samples_leaf\\': 10, \\'min_samples_split\\': 10}\",0.6470588235294118,0.75,0.5882352941176471,0.7391304347826086,0.6811061381074168,0.06689057576458507,117\\r\\n51,0.0022354722023010254,0.0004283572259709324,0.0015015602111816406,0.0005017576349872757,gini,10,10,15,\"{\\'criterion\\': \\'gini\\', \\'max_depth\\': 10, \\'min_samples_leaf\\': 10, \\'min_samples_split\\': 15}\",0.6470588235294118,0.75,0.5882352941176471,0.7391304347826086,0.6811061381074168,0.06689057576458507,117\\r\\n52,0.00199282169342041,3.4775619854485565e-06,0.0017344355583190918,0.00042597959278411617,gini,10,10,50,\"{\\'criterion\\': \\'gini\\', \\'max_depth\\': 10, \\'min_samples_leaf\\': 10, \\'min_samples_split\\': 50}\",0.7205882352941176,0.7941176470588235,0.6764705882352942,0.6956521739130435,0.7217071611253197,0.0446367011370922,9\\r\\n53,0.0022370219230651855,0.00042693649560154135,0.0015020966529846191,0.0005031763638490213,gini,10,10,100,\"{\\'criterion\\': \\'gini\\', \\'max_depth\\': 10, \\'min_samples_leaf\\': 10, \\'min_samples_split\\': 100}\",0.6764705882352942,0.7647058823529411,0.6617647058823529,0.4927536231884058,0.6489236999147485,0.09838486815215457,286\\r\\n54,0.001990973949432373,5.951815529006237e-06,0.0017434954643249512,0.00043095127252443466,gini,10,15,2,\"{\\'criterion\\': \\'gini\\', \\'max_depth\\': 10, \\'min_samples_leaf\\': 15, \\'min_samples_split\\': 2}\",0.6617647058823529,0.7647058823529411,0.6176470588235294,0.6521739130434783,0.6740728900255755,0.05483901511428704,153\\r\\n55,0.002493917942047119,0.0004996062996164769,0.0009971857070922852,2.040534349515878e-06,gini,10,15,5,\"{\\'criterion\\': \\'gini\\', \\'max_depth\\': 10, \\'min_samples_leaf\\': 15, \\'min_samples_split\\': 5}\",0.6617647058823529,0.7647058823529411,0.6176470588235294,0.6521739130434783,0.6740728900255755,0.05483901511428704,153\\r\\n56,0.0024950504302978516,0.0004996244075175222,0.0014925003051757812,0.0005016409058315137,gini,10,15,10,\"{\\'criterion\\': \\'gini\\', \\'max_depth\\': 10, \\'min_samples_leaf\\': 15, \\'min_samples_split\\': 10}\",0.6617647058823529,0.7647058823529411,0.6176470588235294,0.6521739130434783,0.6740728900255755,0.05483901511428704,153\\r\\n57,0.0022462010383605957,0.00043178642642653756,0.0017382502555847168,0.00043288585953254224,gini,10,15,15,\"{\\'criterion\\': \\'gini\\', \\'max_depth\\': 10, \\'min_samples_leaf\\': 15, \\'min_samples_split\\': 15}\",0.6617647058823529,0.7647058823529411,0.6176470588235294,0.6521739130434783,0.6740728900255755,0.05483901511428704,153\\r\\n58,0.0019940733909606934,6.38493457008259e-06,0.00173109769821167,0.000806721374006615,gini,10,15,50,\"{\\'criterion\\': \\'gini\\', \\'max_depth\\': 10, \\'min_samples_leaf\\': 15, \\'min_samples_split\\': 50}\",0.6029411764705882,0.75,0.6764705882352942,0.6521739130434783,0.6703964194373402,0.05304690167191621,196\\r\\n59,0.0027557015419006348,0.0008265464162876548,0.0014930367469787598,0.00047754647352544284,gini,10,15,100,\"{\\'criterion\\': \\'gini\\', \\'max_depth\\': 10, \\'min_samples_leaf\\': 15, \\'min_samples_split\\': 100}\",0.6764705882352942,0.7647058823529411,0.7058823529411765,0.4927536231884058,0.6599531116794544,0.10162570313421032,228\\r\\n60,0.001993119716644287,4.0262926516047845e-06,0.0019853711128234863,1.9605035954274344e-05,gini,10,20,2,\"{\\'criterion\\': \\'gini\\', \\'max_depth\\': 10, \\'min_samples_leaf\\': 20, \\'min_samples_split\\': 2}\",0.7352941176470589,0.7352941176470589,0.6617647058823529,0.6231884057971014,0.688885336743393,0.048371389384613314,61\\r\\n61,0.001999795436859131,1.670153629134222e-05,0.001742243766784668,0.0004354700335965728,gini,10,20,5,\"{\\'criterion\\': \\'gini\\', \\'max_depth\\': 10, \\'min_samples_leaf\\': 20, \\'min_samples_split\\': 5}\",0.7352941176470589,0.7352941176470589,0.6617647058823529,0.6231884057971014,0.688885336743393,0.048371389384613314,61\\r\\n62,0.0019927024841308594,1.6082212404289295e-06,0.0022397637367248535,0.00044093907623543436,gini,10,20,10,\"{\\'criterion\\': \\'gini\\', \\'max_depth\\': 10, \\'min_samples_leaf\\': 20, \\'min_samples_split\\': 10}\",0.7352941176470589,0.7352941176470589,0.6617647058823529,0.6231884057971014,0.688885336743393,0.048371389384613314,61\\r\\n63,0.002246558666229248,0.0004382041505949873,0.0014982223510742188,0.0004935617019674633,gini,10,20,15,\"{\\'criterion\\': \\'gini\\', \\'max_depth\\': 10, \\'min_samples_leaf\\': 20, \\'min_samples_split\\': 15}\",0.7352941176470589,0.7352941176470589,0.6617647058823529,0.6231884057971014,0.688885336743393,0.048371389384613314,61\\r\\n64,0.002012193202972412,1.7903135909323327e-05,0.0014899969100952148,0.0005054483576756293,gini,10,20,50,\"{\\'criterion\\': \\'gini\\', \\'max_depth\\': 10, \\'min_samples_leaf\\': 20, \\'min_samples_split\\': 50}\",0.7058823529411765,0.7352941176470589,0.6617647058823529,0.6231884057971014,0.6815323955669225,0.04265567337083144,112\\r\\n65,0.001986682415008545,5.937472343913475e-06,0.0009987354278564453,1.7438815639409772e-06,gini,10,20,100,\"{\\'criterion\\': \\'gini\\', \\'max_depth\\': 10, \\'min_samples_leaf\\': 20, \\'min_samples_split\\': 100}\",0.7058823529411765,0.7647058823529411,0.7058823529411765,0.4927536231884058,0.667306052855925,0.1035996372404566,208\\r\\n66,0.001996755599975586,7.12668188936001e-06,0.0017412304878234863,0.0004307974471113381,gini,10,25,2,\"{\\'criterion\\': \\'gini\\', \\'max_depth\\': 10, \\'min_samples_leaf\\': 25, \\'min_samples_split\\': 2}\",0.5882352941176471,0.75,0.6323529411764706,0.6376811594202898,0.6520673486786019,0.059709621688734796,253\\r\\n67,0.001993834972381592,1.8725726690775166e-06,0.0012451410293579102,0.00043380745295126523,gini,10,25,5,\"{\\'criterion\\': \\'gini\\', \\'max_depth\\': 10, \\'min_samples_leaf\\': 25, \\'min_samples_split\\': 5}\",0.5882352941176471,0.75,0.6323529411764706,0.6376811594202898,0.6520673486786019,0.059709621688734796,253\\r\\n68,0.0019958019256591797,2.5511902045050496e-06,0.0019937753677368164,5.683420868425473e-06,gini,10,25,10,\"{\\'criterion\\': \\'gini\\', \\'max_depth\\': 10, \\'min_samples_leaf\\': 25, \\'min_samples_split\\': 10}\",0.5882352941176471,0.75,0.6323529411764706,0.6376811594202898,0.6520673486786019,0.059709621688734796,253\\r\\n69,0.0024899840354919434,0.0004966936948515997,0.0014957785606384277,0.000496572999401857,gini,10,25,15,\"{\\'criterion\\': \\'gini\\', \\'max_depth\\': 10, \\'min_samples_leaf\\': 25, \\'min_samples_split\\': 15}\",0.5882352941176471,0.75,0.6323529411764706,0.6376811594202898,0.6520673486786019,0.059709621688734796,253\\r\\n70,0.002997159957885742,0.0007100507375438883,0.0014882087707519531,0.0004907499118760958,gini,10,25,50,\"{\\'criterion\\': \\'gini\\', \\'max_depth\\': 10, \\'min_samples_leaf\\': 25, \\'min_samples_split\\': 50}\",0.5882352941176471,0.75,0.6323529411764706,0.6376811594202898,0.6520673486786019,0.059709621688734796,253\\r\\n71,0.0019927620887756348,4.20582469995454e-06,0.001248776912689209,0.00044024590627737744,gini,10,25,100,\"{\\'criterion\\': \\'gini\\', \\'max_depth\\': 10, \\'min_samples_leaf\\': 25, \\'min_samples_split\\': 100}\",0.6323529411764706,0.7794117647058824,0.7058823529411765,0.5072463768115942,0.6562233589087809,0.10050539419434326,245\\r\\n72,0.003010094165802002,0.0007341814816579879,0.001469254493713379,0.00047687186174470784,gini,15,2,2,\"{\\'criterion\\': \\'gini\\', \\'max_depth\\': 15, \\'min_samples_leaf\\': 2, \\'min_samples_split\\': 2}\",0.5147058823529411,0.7352941176470589,0.5882352941176471,0.6956521739130435,0.6334718670076727,0.08715771327019572,360\\r\\n73,0.0022413134574890137,0.00043008776705659766,0.0022440552711486816,0.0004269640552223727,gini,15,2,5,\"{\\'criterion\\': \\'gini\\', \\'max_depth\\': 15, \\'min_samples_leaf\\': 2, \\'min_samples_split\\': 5}\",0.5294117647058824,0.7352941176470589,0.6176470588235294,0.7101449275362319,0.6481244671781756,0.08134289092198468,312\\r\\n74,0.002741694450378418,0.0004307811881774907,0.0012451410293579102,0.0004298197851476618,gini,15,2,10,\"{\\'criterion\\': \\'gini\\', \\'max_depth\\': 15, \\'min_samples_leaf\\': 2, \\'min_samples_split\\': 10}\",0.5147058823529411,0.75,0.6176470588235294,0.6956521739130435,0.6445012787723785,0.08847935962004748,321\\r\\n75,0.0024631619453430176,0.0005065836980908684,0.0015189647674560547,0.0004972827480248724,gini,15,2,15,\"{\\'criterion\\': \\'gini\\', \\'max_depth\\': 15, \\'min_samples_leaf\\': 2, \\'min_samples_split\\': 15}\",0.5882352941176471,0.75,0.5735294117647058,0.7246376811594203,0.6591005967604433,0.07890204332122203,240\\r\\n76,0.0019931793212890625,6.628722560147211e-06,0.0017461776733398438,0.00043048499745591373,gini,15,2,50,\"{\\'criterion\\': \\'gini\\', \\'max_depth\\': 15, \\'min_samples_leaf\\': 2, \\'min_samples_split\\': 50}\",0.6470588235294118,0.7941176470588235,0.6764705882352942,0.6666666666666666,0.696078431372549,0.05758500061015062,48\\r\\n77,0.0019936561584472656,4.68418185815537e-06,0.0019935965538024902,2.9267033808686537e-06,gini,15,2,100,\"{\\'criterion\\': \\'gini\\', \\'max_depth\\': 15, \\'min_samples_leaf\\': 2, \\'min_samples_split\\': 100}\",0.6617647058823529,0.7647058823529411,0.6617647058823529,0.4927536231884058,0.6452472293265131,0.09755809007898596,315\\r\\n78,0.002497553825378418,0.0004992678743492489,0.0014886260032653809,0.0004976731674945869,gini,15,5,2,\"{\\'criterion\\': \\'gini\\', \\'max_depth\\': 15, \\'min_samples_leaf\\': 5, \\'min_samples_split\\': 2}\",0.6617647058823529,0.7794117647058824,0.6176470588235294,0.7536231884057971,0.7031116794543903,0.06592967683273734,28\\r\\n79,0.0022364258766174316,0.0004367334902977234,0.0014953017234802246,0.0005003838967880315,gini,15,5,5,\"{\\'criterion\\': \\'gini\\', \\'max_depth\\': 15, \\'min_samples_leaf\\': 5, \\'min_samples_split\\': 5}\",0.6617647058823529,0.7794117647058824,0.6176470588235294,0.7536231884057971,0.7031116794543903,0.06592967683273734,28\\r\\n80,0.0022429823875427246,0.00043117676628377544,0.0017459392547607422,0.00042962108405345933,gini,15,5,10,\"{\\'criterion\\': \\'gini\\', \\'max_depth\\': 15, \\'min_samples_leaf\\': 5, \\'min_samples_split\\': 10}\",0.6617647058823529,0.7794117647058824,0.6176470588235294,0.7536231884057971,0.7031116794543903,0.06592967683273734,28\\r\\n81,0.0022388696670532227,0.0004272102529583326,0.00174635648727417,0.00043054145539760173,gini,15,5,15,\"{\\'criterion\\': \\'gini\\', \\'max_depth\\': 15, \\'min_samples_leaf\\': 5, \\'min_samples_split\\': 15}\",0.6323529411764706,0.7941176470588235,0.5735294117647058,0.7681159420289855,0.6920289855072463,0.09194386740596949,57\\r\\n82,0.002490103244781494,0.0005006353431625568,0.0012434124946594238,0.00042988761961635936,gini,15,5,50,\"{\\'criterion\\': \\'gini\\', \\'max_depth\\': 15, \\'min_samples_leaf\\': 5, \\'min_samples_split\\': 50}\",0.75,0.7941176470588235,0.6764705882352942,0.6956521739130435,0.7290601023017903,0.046240431751884345,1\\r\\n83,0.00199282169342041,3.926675103187705e-06,0.0009971261024475098,4.7034825478458745e-06,gini,15,5,100,\"{\\'criterion\\': \\'gini\\', \\'max_depth\\': 15, \\'min_samples_leaf\\': 5, \\'min_samples_split\\': 100}\",0.6764705882352942,0.7647058823529411,0.6617647058823529,0.4927536231884058,0.6489236999147485,0.09838486815215457,286\\r\\n84,0.0022388696670532227,0.00042720559592940993,0.0017476677894592285,0.000430341783141319,gini,15,10,2,\"{\\'criterion\\': \\'gini\\', \\'max_depth\\': 15, \\'min_samples_leaf\\': 10, \\'min_samples_split\\': 2}\",0.6470588235294118,0.75,0.5882352941176471,0.7391304347826086,0.6811061381074168,0.06689057576458507,117\\r\\n85,0.0022600889205932617,0.000423132344724386,0.0020328760147094727,6.776154244455164e-05,gini,15,10,5,\"{\\'criterion\\': \\'gini\\', \\'max_depth\\': 15, \\'min_samples_leaf\\': 10, \\'min_samples_split\\': 5}\",0.6470588235294118,0.75,0.5882352941176471,0.7391304347826086,0.6811061381074168,0.06689057576458507,117\\r\\n86,0.002494215965270996,0.0004946035372081986,0.001496434211730957,0.0004955821800689483,gini,15,10,10,\"{\\'criterion\\': \\'gini\\', \\'max_depth\\': 15, \\'min_samples_leaf\\': 10, \\'min_samples_split\\': 10}\",0.6470588235294118,0.75,0.5882352941176471,0.7391304347826086,0.6811061381074168,0.06689057576458507,117\\r\\n87,0.002489626407623291,0.0004955335411755534,0.0014936327934265137,0.0004951717809751142,gini,15,10,15,\"{\\'criterion\\': \\'gini\\', \\'max_depth\\': 15, \\'min_samples_leaf\\': 10, \\'min_samples_split\\': 15}\",0.6470588235294118,0.75,0.5882352941176471,0.7391304347826086,0.6811061381074168,0.06689057576458507,117\\r\\n88,0.002492666244506836,0.0004985514919787003,0.0014933943748474121,0.0004993140931924701,gini,15,10,50,\"{\\'criterion\\': \\'gini\\', \\'max_depth\\': 15, \\'min_samples_leaf\\': 10, \\'min_samples_split\\': 50}\",0.7205882352941176,0.7941176470588235,0.6764705882352942,0.6956521739130435,0.7217071611253197,0.0446367011370922,9\\r\\n89,0.00199735164642334,4.2998048774889545e-06,0.0009929537773132324,4.403891911999196e-06,gini,15,10,100,\"{\\'criterion\\': \\'gini\\', \\'max_depth\\': 15, \\'min_samples_leaf\\': 10, \\'min_samples_split\\': 100}\",0.6764705882352942,0.7647058823529411,0.6617647058823529,0.4927536231884058,0.6489236999147485,0.09838486815215457,286\\r\\n90,0.0022429227828979492,0.00043229340199263307,0.0014913082122802734,0.0004947428237751764,gini,15,15,2,\"{\\'criterion\\': \\'gini\\', \\'max_depth\\': 15, \\'min_samples_leaf\\': 15, \\'min_samples_split\\': 2}\",0.6617647058823529,0.7647058823529411,0.6176470588235294,0.6521739130434783,0.6740728900255755,0.05483901511428704,153\\r\\n91,0.0022388100624084473,0.00043346397168254994,0.001744389533996582,0.00043117690223675587,gini,15,15,5,\"{\\'criterion\\': \\'gini\\', \\'max_depth\\': 15, \\'min_samples_leaf\\': 15, \\'min_samples_split\\': 5}\",0.6617647058823529,0.7647058823529411,0.6176470588235294,0.6521739130434783,0.6740728900255755,0.05483901511428704,153\\r\\n92,0.002743244171142578,0.00043391221816592966,0.0012469887733459473,0.0004313854077817733,gini,15,15,10,\"{\\'criterion\\': \\'gini\\', \\'max_depth\\': 15, \\'min_samples_leaf\\': 15, \\'min_samples_split\\': 10}\",0.6617647058823529,0.7647058823529411,0.6176470588235294,0.6521739130434783,0.6740728900255755,0.05483901511428704,153\\r\\n93,0.0019903182983398438,6.557594556558164e-06,0.0017461180686950684,0.0004315474208424087,gini,15,15,15,\"{\\'criterion\\': \\'gini\\', \\'max_depth\\': 15, \\'min_samples_leaf\\': 15, \\'min_samples_split\\': 15}\",0.6617647058823529,0.7647058823529411,0.6176470588235294,0.6521739130434783,0.6740728900255755,0.05483901511428704,153\\r\\n94,0.002245604991912842,0.0004260880670326137,0.001244962215423584,0.00042915209713698517,gini,15,15,50,\"{\\'criterion\\': \\'gini\\', \\'max_depth\\': 15, \\'min_samples_leaf\\': 15, \\'min_samples_split\\': 50}\",0.6029411764705882,0.75,0.6764705882352942,0.6521739130434783,0.6703964194373402,0.05304690167191621,196\\r\\n95,0.001992940902709961,3.5643378228488097e-06,0.0019913911819458008,6.794929504394531e-06,gini,15,15,100,\"{\\'criterion\\': \\'gini\\', \\'max_depth\\': 15, \\'min_samples_leaf\\': 15, \\'min_samples_split\\': 100}\",0.6764705882352942,0.7647058823529411,0.7058823529411765,0.4927536231884058,0.6599531116794544,0.10162570313421032,228\\r\\n96,0.0019782185554504395,1.7558500514925204e-05,0.0020082592964172363,8.6988073116245e-06,gini,15,20,2,\"{\\'criterion\\': \\'gini\\', \\'max_depth\\': 15, \\'min_samples_leaf\\': 20, \\'min_samples_split\\': 2}\",0.7352941176470589,0.7352941176470589,0.6617647058823529,0.6231884057971014,0.688885336743393,0.048371389384613314,61\\r\\n97,0.0022432804107666016,0.0004350114401263437,0.0017451047897338867,0.0004292278920604674,gini,15,20,5,\"{\\'criterion\\': \\'gini\\', \\'max_depth\\': 15, \\'min_samples_leaf\\': 20, \\'min_samples_split\\': 5}\",0.7352941176470589,0.7352941176470589,0.6617647058823529,0.6231884057971014,0.688885336743393,0.048371389384613314,61\\r\\n98,0.001993238925933838,5.879749723279697e-06,0.001494765281677246,0.0004956812425419924,gini,15,20,10,\"{\\'criterion\\': \\'gini\\', \\'max_depth\\': 15, \\'min_samples_leaf\\': 20, \\'min_samples_split\\': 10}\",0.7352941176470589,0.7352941176470589,0.6617647058823529,0.6231884057971014,0.688885336743393,0.048371389384613314,61\\r\\n99,0.0027430057525634766,0.001309478890168924,0.0019916296005249023,7.933465543734949e-06,gini,15,20,15,\"{\\'criterion\\': \\'gini\\', \\'max_depth\\': 15, \\'min_samples_leaf\\': 20, \\'min_samples_split\\': 15}\",0.7352941176470589,0.7352941176470589,0.6617647058823529,0.6231884057971014,0.688885336743393,0.048371389384613314,61\\r\\n100,0.0022397637367248535,0.00043329696858007374,0.0017458796501159668,0.0004338704715145923,gini,15,20,50,\"{\\'criterion\\': \\'gini\\', \\'max_depth\\': 15, \\'min_samples_leaf\\': 20, \\'min_samples_split\\': 50}\",0.7058823529411765,0.7352941176470589,0.6617647058823529,0.6231884057971014,0.6815323955669225,0.04265567337083144,112\\r\\n101,0.0019946694374084473,4.4520320769316115e-06,0.0012461543083190918,0.0004321723748011171,gini,15,20,100,\"{\\'criterion\\': \\'gini\\', \\'max_depth\\': 15, \\'min_samples_leaf\\': 20, \\'min_samples_split\\': 100}\",0.7058823529411765,0.7647058823529411,0.7058823529411765,0.4927536231884058,0.667306052855925,0.1035996372404566,208\\r\\n102,0.001993238925933838,1.8264715011172966e-06,0.0019968748092651367,5.411891681106647e-06,gini,15,25,2,\"{\\'criterion\\': \\'gini\\', \\'max_depth\\': 15, \\'min_samples_leaf\\': 25, \\'min_samples_split\\': 2}\",0.5882352941176471,0.75,0.6323529411764706,0.6376811594202898,0.6520673486786019,0.059709621688734796,253\\r\\n103,0.0024919509887695312,0.0004990780016852789,0.0012436509132385254,0.00043358420817299283,gini,15,25,5,\"{\\'criterion\\': \\'gini\\', \\'max_depth\\': 15, \\'min_samples_leaf\\': 25, \\'min_samples_split\\': 5}\",0.5882352941176471,0.75,0.6323529411764706,0.6376811594202898,0.6520673486786019,0.059709621688734796,253\\r\\n104,0.002246856689453125,0.00043224295516901517,0.001246035099029541,0.0004323381359540069,gini,15,25,10,\"{\\'criterion\\': \\'gini\\', \\'max_depth\\': 15, \\'min_samples_leaf\\': 25, \\'min_samples_split\\': 10}\",0.5882352941176471,0.75,0.6323529411764706,0.6376811594202898,0.6520673486786019,0.059709621688734796,253\\r\\n105,0.0022466182708740234,0.0004320874518304679,0.0017969608306884766,0.0004715051862882947,gini,15,25,15,\"{\\'criterion\\': \\'gini\\', \\'max_depth\\': 15, \\'min_samples_leaf\\': 25, \\'min_samples_split\\': 15}\",0.5882352941176471,0.75,0.6323529411764706,0.6376811594202898,0.6520673486786019,0.059709621688734796,253\\r\\n106,0.002241969108581543,0.0004320226724057705,0.0012477636337280273,0.0004301021771506807,gini,15,25,50,\"{\\'criterion\\': \\'gini\\', \\'max_depth\\': 15, \\'min_samples_leaf\\': 25, \\'min_samples_split\\': 50}\",0.5882352941176471,0.75,0.6323529411764706,0.6376811594202898,0.6520673486786019,0.059709621688734796,253\\r\\n107,0.0019984841346740723,4.4520320769316115e-06,0.001491248607635498,0.0004959841240206388,gini,15,25,100,\"{\\'criterion\\': \\'gini\\', \\'max_depth\\': 15, \\'min_samples_leaf\\': 25, \\'min_samples_split\\': 100}\",0.6323529411764706,0.7794117647058824,0.7058823529411765,0.5072463768115942,0.6562233589087809,0.10050539419434326,245\\r\\n108,0.002490699291229248,0.0005034965578263399,0.0014981627464294434,0.0004960911270777205,gini,20,2,2,\"{\\'criterion\\': \\'gini\\', \\'max_depth\\': 20, \\'min_samples_leaf\\': 2, \\'min_samples_split\\': 2}\",0.5147058823529411,0.75,0.5882352941176471,0.6956521739130435,0.6371483375959079,0.09157351860584685,331\\r\\n109,0.002242445945739746,0.0004336758751083483,0.0017452239990234375,0.0004247958426802497,gini,20,2,5,\"{\\'criterion\\': \\'gini\\', \\'max_depth\\': 20, \\'min_samples_leaf\\': 2, \\'min_samples_split\\': 5}\",0.5294117647058824,0.75,0.6176470588235294,0.7101449275362319,0.6518009377664109,0.0854293188769264,283\\r\\n110,0.0022412538528442383,0.0004299541295667566,0.0017453432083129883,0.0004322941252017794,gini,20,2,10,\"{\\'criterion\\': \\'gini\\', \\'max_depth\\': 20, \\'min_samples_leaf\\': 2, \\'min_samples_split\\': 10}\",0.5,0.75,0.6176470588235294,0.6956521739130435,0.6408248081841432,0.09393361646173838,325\\r\\n111,0.002495706081390381,0.0004939455972751886,0.00124281644821167,0.00042744250361735294,gini,20,2,15,\"{\\'criterion\\': \\'gini\\', \\'max_depth\\': 20, \\'min_samples_leaf\\': 2, \\'min_samples_split\\': 15}\",0.5882352941176471,0.7941176470588235,0.5735294117647058,0.7246376811594203,0.6701300085251491,0.09271251321628873,205\\r\\n112,0.0019933581352233887,3.698851223969508e-06,0.001990020275115967,7.870296245370102e-06,gini,20,2,50,\"{\\'criterion\\': \\'gini\\', \\'max_depth\\': 20, \\'min_samples_leaf\\': 2, \\'min_samples_split\\': 50}\",0.6470588235294118,0.7941176470588235,0.6764705882352942,0.6666666666666666,0.696078431372549,0.05758500061015062,48\\r\\n113,0.0022429823875427246,0.0004494045826631343,0.0017459392547607422,0.00043516736812589275,gini,20,2,100,\"{\\'criterion\\': \\'gini\\', \\'max_depth\\': 20, \\'min_samples_leaf\\': 2, \\'min_samples_split\\': 100}\",0.6617647058823529,0.7647058823529411,0.6617647058823529,0.4927536231884058,0.6452472293265131,0.09755809007898596,315\\r\\n114,0.002241969108581543,0.00042679091683621787,0.0014917254447937012,0.0004981460068134931,gini,20,5,2,\"{\\'criterion\\': \\'gini\\', \\'max_depth\\': 20, \\'min_samples_leaf\\': 5, \\'min_samples_split\\': 2}\",0.6617647058823529,0.7794117647058824,0.6176470588235294,0.7536231884057971,0.7031116794543903,0.06592967683273734,28\\r\\n115,0.002501249313354492,0.0004940141408330073,0.0014861822128295898,0.0004951006637349738,gini,20,5,5,\"{\\'criterion\\': \\'gini\\', \\'max_depth\\': 20, \\'min_samples_leaf\\': 5, \\'min_samples_split\\': 5}\",0.6617647058823529,0.7794117647058824,0.6176470588235294,0.7536231884057971,0.7031116794543903,0.06592967683273734,28\\r\\n116,0.002492189407348633,0.0005006842669711202,0.0017454028129577637,0.00043042060003868355,gini,20,5,10,\"{\\'criterion\\': \\'gini\\', \\'max_depth\\': 20, \\'min_samples_leaf\\': 5, \\'min_samples_split\\': 10}\",0.6617647058823529,0.7794117647058824,0.6176470588235294,0.7536231884057971,0.7031116794543903,0.06592967683273734,28\\r\\n117,0.002246558666229248,0.0004302107639238465,0.0014930963516235352,0.0004994987728789088,gini,20,5,15,\"{\\'criterion\\': \\'gini\\', \\'max_depth\\': 20, \\'min_samples_leaf\\': 5, \\'min_samples_split\\': 15}\",0.6323529411764706,0.7941176470588235,0.5735294117647058,0.7681159420289855,0.6920289855072463,0.09194386740596949,57\\r\\n118,0.0022385716438293457,0.00042792426930907086,0.001984536647796631,2.0607266163678836e-05,gini,20,5,50,\"{\\'criterion\\': \\'gini\\', \\'max_depth\\': 20, \\'min_samples_leaf\\': 5, \\'min_samples_split\\': 50}\",0.75,0.7941176470588235,0.6764705882352942,0.6956521739130435,0.7290601023017903,0.046240431751884345,1\\r\\n119,0.00274050235748291,0.0004316049827522071,0.0009967684745788574,1.0323827311807139e-07,gini,20,5,100,\"{\\'criterion\\': \\'gini\\', \\'max_depth\\': 20, \\'min_samples_leaf\\': 5, \\'min_samples_split\\': 100}\",0.6764705882352942,0.7647058823529411,0.6617647058823529,0.4927536231884058,0.6489236999147485,0.09838486815215457,286\\r\\n120,0.001993238925933838,2.5981062314156735e-07,0.0014950037002563477,0.0004981756780842979,gini,20,10,2,\"{\\'criterion\\': \\'gini\\', \\'max_depth\\': 20, \\'min_samples_leaf\\': 10, \\'min_samples_split\\': 2}\",0.6470588235294118,0.75,0.5882352941176471,0.7391304347826086,0.6811061381074168,0.06689057576458507,117\\r\\n121,0.0027408599853515625,0.0004315360145644058,0.0012458562850952148,0.00043188012017880814,gini,20,10,5,\"{\\'criterion\\': \\'gini\\', \\'max_depth\\': 20, \\'min_samples_leaf\\': 10, \\'min_samples_split\\': 5}\",0.6470588235294118,0.75,0.5882352941176471,0.7391304347826086,0.6811061381074168,0.06689057576458507,117\\r\\n122,0.0019932985305786133,4.2981520598697533e-07,0.001993119716644287,3.5262583393452264e-07,gini,20,10,10,\"{\\'criterion\\': \\'gini\\', \\'max_depth\\': 20, \\'min_samples_leaf\\': 10, \\'min_samples_split\\': 10}\",0.6470588235294118,0.75,0.5882352941176471,0.7391304347826086,0.6811061381074168,0.06689057576458507,117\\r\\n123,0.002491772174835205,0.0004983544706114871,0.0012455582618713379,0.0004315015798536639,gini,20,10,15,\"{\\'criterion\\': \\'gini\\', \\'max_depth\\': 20, \\'min_samples_leaf\\': 10, \\'min_samples_split\\': 15}\",0.6470588235294118,0.75,0.5882352941176471,0.7391304347826086,0.6811061381074168,0.06689057576458507,117\\r\\n124,0.0019931793212890625,3.371747880871523e-07,0.001744389533996582,0.00043174255692512254,gini,20,10,50,\"{\\'criterion\\': \\'gini\\', \\'max_depth\\': 20, \\'min_samples_leaf\\': 10, \\'min_samples_split\\': 50}\",0.7205882352941176,0.7941176470588235,0.6764705882352942,0.6956521739130435,0.7217071611253197,0.0446367011370922,9\\r\\n125,0.0019932985305786133,3.5762786865234375e-07,0.001993238925933838,1.0323827311807139e-07,gini,20,10,100,\"{\\'criterion\\': \\'gini\\', \\'max_depth\\': 20, \\'min_samples_leaf\\': 10, \\'min_samples_split\\': 100}\",0.6764705882352942,0.7647058823529411,0.6617647058823529,0.4927536231884058,0.6489236999147485,0.09838486815215457,286\\r\\n126,0.002242445945739746,0.00043160481812415613,0.0012459754943847656,0.00043167377531926564,gini,20,15,2,\"{\\'criterion\\': \\'gini\\', \\'max_depth\\': 20, \\'min_samples_leaf\\': 15, \\'min_samples_split\\': 2}\",0.6617647058823529,0.7647058823529411,0.6176470588235294,0.6521739130434783,0.6740728900255755,0.05483901511428704,153\\r\\n127,0.0019934773445129395,1.0323827311807139e-07,0.0017440319061279297,0.00043167364363781827,gini,20,15,5,\"{\\'criterion\\': \\'gini\\', \\'max_depth\\': 20, \\'min_samples_leaf\\': 15, \\'min_samples_split\\': 5}\",0.6617647058823529,0.7647058823529411,0.6176470588235294,0.6521739130434783,0.6740728900255755,0.05483901511428704,153\\r\\n128,0.0027408599853515625,0.0004316736765581839,0.0012457966804504395,0.00043150164572064697,gini,20,15,10,\"{\\'criterion\\': \\'gini\\', \\'max_depth\\': 20, \\'min_samples_leaf\\': 15, \\'min_samples_split\\': 10}\",0.6617647058823529,0.7647058823529411,0.6176470588235294,0.6521739130434783,0.6740728900255755,0.05483901511428704,153\\r\\n129,0.0019932985305786133,2.6656007498500226e-07,0.0017440319061279297,0.0004315360145644058,gini,20,15,15,\"{\\'criterion\\': \\'gini\\', \\'max_depth\\': 20, \\'min_samples_leaf\\': 15, \\'min_samples_split\\': 15}\",0.6617647058823529,0.7647058823529411,0.6176470588235294,0.6521739130434783,0.6740728900255755,0.05483901511428704,153\\r\\n130,0.002740621566772461,0.000431673709478547,0.0012459754943847656,0.000431673709478547,gini,20,15,50,\"{\\'criterion\\': \\'gini\\', \\'max_depth\\': 20, \\'min_samples_leaf\\': 15, \\'min_samples_split\\': 50}\",0.6029411764705882,0.75,0.6764705882352942,0.6521739130434783,0.6703964194373402,0.05304690167191621,196\\r\\n131,0.00224226713180542,0.0004314327762991678,0.000996708869934082,2.6656007498500226e-07,gini,20,15,100,\"{\\'criterion\\': \\'gini\\', \\'max_depth\\': 20, \\'min_samples_leaf\\': 15, \\'min_samples_split\\': 100}\",0.6764705882352942,0.7647058823529411,0.7058823529411765,0.4927536231884058,0.6599531116794544,0.10162570313421032,228\\r\\n132,0.0022422075271606445,0.00043160485104977133,0.0017443299293518066,0.00043143274336042035,gini,20,20,2,\"{\\'criterion\\': \\'gini\\', \\'max_depth\\': 20, \\'min_samples_leaf\\': 20, \\'min_samples_split\\': 2}\",0.7352941176470589,0.7352941176470589,0.6617647058823529,0.6231884057971014,0.688885336743393,0.048371389384613314,61\\r\\n133,0.0019930005073547363,3.097148193542142e-07,0.0017443299293518066,0.00043143287511539506,gini,20,20,5,\"{\\'criterion\\': \\'gini\\', \\'max_depth\\': 20, \\'min_samples_leaf\\': 20, \\'min_samples_split\\': 5}\",0.7352941176470589,0.7352941176470589,0.6617647058823529,0.6231884057971014,0.688885336743393,0.048371389384613314,61\\r\\n134,0.0019933581352233887,3.5262583393452264e-07,0.0019933581352233887,3.5262583393452264e-07,gini,20,20,10,\"{\\'criterion\\': \\'gini\\', \\'max_depth\\': 20, \\'min_samples_leaf\\': 20, \\'min_samples_split\\': 10}\",0.7352941176470589,0.7352941176470589,0.6617647058823529,0.6231884057971014,0.688885336743393,0.048371389384613314,61\\r\\n135,0.001993715763092041,3.9085379387748244e-07,0.001992940902709961,1.6858739404357614e-07,gini,20,20,15,\"{\\'criterion\\': \\'gini\\', \\'max_depth\\': 20, \\'min_samples_leaf\\': 20, \\'min_samples_split\\': 15}\",0.7352941176470589,0.7352941176470589,0.6617647058823529,0.6231884057971014,0.688885336743393,0.048371389384613314,61\\r\\n136,0.0024909377098083496,0.0008624181922749689,0.001994013786315918,9.902267292640298e-07,gini,20,20,50,\"{\\'criterion\\': \\'gini\\', \\'max_depth\\': 20, \\'min_samples_leaf\\': 20, \\'min_samples_split\\': 50}\",0.7058823529411765,0.7352941176470589,0.6617647058823529,0.6231884057971014,0.6815323955669225,0.04265567337083144,112\\r\\n137,0.0019933581352233887,3.5262583393452264e-07,0.001993417739868164,1.6858739404357614e-07,gini,20,20,100,\"{\\'criterion\\': \\'gini\\', \\'max_depth\\': 20, \\'min_samples_leaf\\': 20, \\'min_samples_split\\': 100}\",0.7058823529411765,0.7647058823529411,0.7058823529411765,0.4927536231884058,0.667306052855925,0.1035996372404566,208\\r\\n138,0.001993238925933838,1.0323827311807139e-07,0.001245737075805664,0.0004315360145644058,gini,20,25,2,\"{\\'criterion\\': \\'gini\\', \\'max_depth\\': 20, \\'min_samples_leaf\\': 25, \\'min_samples_split\\': 2}\",0.5882352941176471,0.75,0.6323529411764706,0.6376811594202898,0.6520673486786019,0.059709621688734796,253\\r\\n139,0.001993238925933838,1.0323827311807139e-07,0.0019934773445129395,1.97686242482388e-07,gini,20,25,5,\"{\\'criterion\\': \\'gini\\', \\'max_depth\\': 20, \\'min_samples_leaf\\': 25, \\'min_samples_split\\': 5}\",0.5882352941176471,0.75,0.6323529411764706,0.6376811594202898,0.6520673486786019,0.059709621688734796,253\\r\\n140,0.001993238925933838,1.0323827311807139e-07,0.0019935965538024902,3.097148193542142e-07,gini,20,25,10,\"{\\'criterion\\': \\'gini\\', \\'max_depth\\': 20, \\'min_samples_leaf\\': 25, \\'min_samples_split\\': 10}\",0.5882352941176471,0.75,0.6323529411764706,0.6376811594202898,0.6520673486786019,0.059709621688734796,253\\r\\n141,0.0024917125701904297,0.0004985337334917396,0.0014950037002563477,0.0004979372595325133,gini,20,25,15,\"{\\'criterion\\': \\'gini\\', \\'max_depth\\': 20, \\'min_samples_leaf\\': 25, \\'min_samples_split\\': 15}\",0.5882352941176471,0.75,0.6323529411764706,0.6376811594202898,0.6520673486786019,0.059709621688734796,253\\r\\n142,0.0019932985305786133,1.1920928955078125e-07,0.0017442107200622559,0.0004315015798536639,gini,20,25,50,\"{\\'criterion\\': \\'gini\\', \\'max_depth\\': 20, \\'min_samples_leaf\\': 25, \\'min_samples_split\\': 50}\",0.5882352941176471,0.75,0.6323529411764706,0.6376811594202898,0.6520673486786019,0.059709621688734796,253\\r\\n143,0.0019931793212890625,0.0,0.0014951825141906738,0.0004984736513837764,gini,20,25,100,\"{\\'criterion\\': \\'gini\\', \\'max_depth\\': 20, \\'min_samples_leaf\\': 25, \\'min_samples_split\\': 100}\",0.6323529411764706,0.7794117647058824,0.7058823529411765,0.5072463768115942,0.6562233589087809,0.10050539419434326,245\\r\\n144,0.00224226713180542,0.00043170808931239103,0.001744389533996582,0.00043174255692512254,gini,50,2,2,\"{\\'criterion\\': \\'gini\\', \\'max_depth\\': 50, \\'min_samples_leaf\\': 2, \\'min_samples_split\\': 2}\",0.5147058823529411,0.7352941176470589,0.6176470588235294,0.7101449275362319,0.6444479965899403,0.08677616452507571,323\\r\\n145,0.0024918317794799805,0.0004986524866894325,0.0014950037002563477,0.000498175877764787,gini,50,2,5,\"{\\'criterion\\': \\'gini\\', \\'max_depth\\': 50, \\'min_samples_leaf\\': 2, \\'min_samples_split\\': 5}\",0.5,0.75,0.6176470588235294,0.7101449275362319,0.6444479965899403,0.09622996693292259,323\\r\\n146,0.0024917125701904297,0.0004978181358954711,0.0014950037002563477,0.0004980564260094742,gini,50,2,10,\"{\\'criterion\\': \\'gini\\', \\'max_depth\\': 50, \\'min_samples_leaf\\': 2, \\'min_samples_split\\': 10}\",0.5,0.7941176470588235,0.6176470588235294,0.6956521739130435,0.6518542199488491,0.10768818116795792,281\\r\\n147,0.002491891384124756,0.0004982352613304646,0.0014948844909667969,0.00049841405386789,gini,50,2,15,\"{\\'criterion\\': \\'gini\\', \\'max_depth\\': 50, \\'min_samples_leaf\\': 2, \\'min_samples_split\\': 15}\",0.5588235294117647,0.7941176470588235,0.5735294117647058,0.7246376811594203,0.6627770673486786,0.09981052737120903,227\\r\\n148,0.0022423863410949707,0.0004317768819083126,0.0017442107200622559,0.0004316393186756221,gini,50,2,50,\"{\\'criterion\\': \\'gini\\', \\'max_depth\\': 50, \\'min_samples_leaf\\': 2, \\'min_samples_split\\': 50}\",0.6470588235294118,0.7941176470588235,0.6764705882352942,0.6666666666666666,0.696078431372549,0.05758500061015062,48\\r\\n149,0.0022423267364501953,0.00043167364363781827,0.0012459754943847656,0.0004315360145644058,gini,50,2,100,\"{\\'criterion\\': \\'gini\\', \\'max_depth\\': 50, \\'min_samples_leaf\\': 2, \\'min_samples_split\\': 100}\",0.6617647058823529,0.7647058823529411,0.6617647058823529,0.4927536231884058,0.6452472293265131,0.09755809007898596,315\\r\\n150,0.002242565155029297,0.0004318112946651443,0.0014948844909667969,0.0004985333059120237,gini,50,5,2,\"{\\'criterion\\': \\'gini\\', \\'max_depth\\': 50, \\'min_samples_leaf\\': 5, \\'min_samples_split\\': 2}\",0.6617647058823529,0.7794117647058824,0.6176470588235294,0.7536231884057971,0.7031116794543903,0.06592967683273734,28\\r\\n151,0.0024915337562561035,0.0004981160520494464,0.0017442107200622559,0.00043163925282964756,gini,50,5,5,\"{\\'criterion\\': \\'gini\\', \\'max_depth\\': 50, \\'min_samples_leaf\\': 5, \\'min_samples_split\\': 5}\",0.6617647058823529,0.7794117647058824,0.6176470588235294,0.7536231884057971,0.7031116794543903,0.06592967683273734,28\\r\\n152,0.0022425055503845215,0.00043143284217665517,0.001744091510772705,0.00043157040536732525,gini,50,5,10,\"{\\'criterion\\': \\'gini\\', \\'max_depth\\': 50, \\'min_samples_leaf\\': 5, \\'min_samples_split\\': 10}\",0.6617647058823529,0.7794117647058824,0.6176470588235294,0.7536231884057971,0.7031116794543903,0.06592967683273734,28\\r\\n153,0.001993238925933838,1.97686242482388e-07,0.0019935965538024902,3.097148193542142e-07,gini,50,5,15,\"{\\'criterion\\': \\'gini\\', \\'max_depth\\': 50, \\'min_samples_leaf\\': 5, \\'min_samples_split\\': 15}\",0.6323529411764706,0.7941176470588235,0.5735294117647058,0.7681159420289855,0.6920289855072463,0.09194386740596949,57\\r\\n154,0.002242565155029297,0.0004313984074659187,0.000996232032775879,2.6656007498500226e-07,gini,50,5,50,\"{\\'criterion\\': \\'gini\\', \\'max_depth\\': 50, \\'min_samples_leaf\\': 5, \\'min_samples_split\\': 50}\",0.75,0.7941176470588235,0.6764705882352942,0.6956521739130435,0.7290601023017903,0.046240431751884345,1\\r\\n155,0.002242863178253174,0.0004316393186756221,0.0014945268630981445,0.0004980564830747109,gini,50,5,100,\"{\\'criterion\\': \\'gini\\', \\'max_depth\\': 50, \\'min_samples_leaf\\': 5, \\'min_samples_split\\': 100}\",0.6764705882352942,0.7647058823529411,0.6617647058823529,0.4927536231884058,0.6489236999147485,0.09838486815215457,286\\r\\n156,0.002241849899291992,0.0004315361133569928,0.001993536949157715,4.2981520598697533e-07,gini,50,10,2,\"{\\'criterion\\': \\'gini\\', \\'max_depth\\': 50, \\'min_samples_leaf\\': 10, \\'min_samples_split\\': 2}\",0.6470588235294118,0.75,0.5882352941176471,0.7391304347826086,0.6811061381074168,0.06689057576458507,117\\r\\n157,0.0022426843643188477,0.00043160485104977133,0.0014947056770324707,0.0004983544706114871,gini,50,10,5,\"{\\'criterion\\': \\'gini\\', \\'max_depth\\': 50, \\'min_samples_leaf\\': 10, \\'min_samples_split\\': 5}\",0.6470588235294118,0.75,0.5882352941176471,0.7391304347826086,0.6811061381074168,0.06689057576458507,117\\r\\n158,0.0022423863410949707,0.0004317768819083126,0.001744389533996582,0.00043132960392718863,gini,50,10,10,\"{\\'criterion\\': \\'gini\\', \\'max_depth\\': 50, \\'min_samples_leaf\\': 10, \\'min_samples_split\\': 10}\",0.6470588235294118,0.75,0.5882352941176471,0.7391304347826086,0.6811061381074168,0.06689057576458507,117\\r\\n159,0.0019932985305786133,1.1920928955078125e-07,0.0017442107200622559,0.0004313639288263429,gini,50,10,15,\"{\\'criterion\\': \\'gini\\', \\'max_depth\\': 50, \\'min_samples_leaf\\': 10, \\'min_samples_split\\': 15}\",0.6470588235294118,0.75,0.5882352941176471,0.7391304347826086,0.6811061381074168,0.06689057576458507,117\\r\\n160,0.002740621566772461,0.0004313984733486544,0.001495361328125,0.0004986526434312331,gini,50,10,50,\"{\\'criterion\\': \\'gini\\', \\'max_depth\\': 50, \\'min_samples_leaf\\': 10, \\'min_samples_split\\': 50}\",0.7205882352941176,0.7941176470588235,0.6764705882352942,0.6956521739130435,0.7217071611253197,0.0446367011370922,9\\r\\n161,0.002740621566772461,0.00043139837452454706,0.000996708869934082,3.5762786865234375e-07,gini,50,10,100,\"{\\'criterion\\': \\'gini\\', \\'max_depth\\': 50, \\'min_samples_leaf\\': 10, \\'min_samples_split\\': 100}\",0.6764705882352942,0.7647058823529411,0.6617647058823529,0.4927536231884058,0.6489236999147485,0.09838486815215457,286\\r\\n162,0.0019931793212890625,1.6858739404357614e-07,0.0014950037002563477,0.0004984140966361086,gini,50,15,2,\"{\\'criterion\\': \\'gini\\', \\'max_depth\\': 50, \\'min_samples_leaf\\': 15, \\'min_samples_split\\': 2}\",0.6617647058823529,0.7647058823529411,0.6176470588235294,0.6521739130434783,0.6740728900255755,0.05483901511428704,153\\r\\n163,0.0022426843643188477,0.0004317424910948931,0.0017441511154174805,0.00043146716709683343,gini,50,15,5,\"{\\'criterion\\': \\'gini\\', \\'max_depth\\': 50, \\'min_samples_leaf\\': 15, \\'min_samples_split\\': 5}\",0.6617647058823529,0.7647058823529411,0.6176470588235294,0.6521739130434783,0.6740728900255755,0.05483901511428704,153\\r\\n164,0.0022423863410949707,0.0004313639288263429,0.0014948844909667969,0.0004981756352956113,gini,50,15,10,\"{\\'criterion\\': \\'gini\\', \\'max_depth\\': 50, \\'min_samples_leaf\\': 15, \\'min_samples_split\\': 10}\",0.6617647058823529,0.7647058823529411,0.6176470588235294,0.6521739130434783,0.6740728900255755,0.05483901511428704,153\\r\\n165,0.002258777618408203,0.0004559087236864834,0.001989126205444336,7.433155664501141e-06,gini,50,15,15,\"{\\'criterion\\': \\'gini\\', \\'max_depth\\': 50, \\'min_samples_leaf\\': 15, \\'min_samples_split\\': 15}\",0.6617647058823529,0.7647058823529411,0.6176470588235294,0.6521739130434783,0.6740728900255755,0.05483901511428704,153\\r\\n166,0.0022441744804382324,0.00042830188609225444,0.001742720603942871,0.0004320727009343073,gini,50,15,50,\"{\\'criterion\\': \\'gini\\', \\'max_depth\\': 50, \\'min_samples_leaf\\': 15, \\'min_samples_split\\': 50}\",0.6029411764705882,0.75,0.6764705882352942,0.6521739130434783,0.6703964194373402,0.05304690167191621,196\\r\\n167,0.001998007297515869,7.870296245370102e-06,0.001988351345062256,3.918977064675751e-06,gini,50,15,100,\"{\\'criterion\\': \\'gini\\', \\'max_depth\\': 50, \\'min_samples_leaf\\': 15, \\'min_samples_split\\': 100}\",0.6764705882352942,0.7647058823529411,0.7058823529411765,0.4927536231884058,0.6599531116794544,0.10162570313421032,228\\r\\n168,0.002252519130706787,0.00044877680491000883,0.0019832253456115723,0.0006832957802257405,gini,50,20,2,\"{\\'criterion\\': \\'gini\\', \\'max_depth\\': 50, \\'min_samples_leaf\\': 20, \\'min_samples_split\\': 2}\",0.7352941176470589,0.7352941176470589,0.6617647058823529,0.6231884057971014,0.688885336743393,0.048371389384613314,61\\r\\n169,0.001991569995880127,6.411587165234564e-06,0.0017432570457458496,0.00043096601234267297,gini,50,20,5,\"{\\'criterion\\': \\'gini\\', \\'max_depth\\': 50, \\'min_samples_leaf\\': 20, \\'min_samples_split\\': 5}\",0.7352941176470589,0.7352941176470589,0.6617647058823529,0.6231884057971014,0.688885336743393,0.048371389384613314,61\\r\\n170,0.0024889707565307617,0.0004969883891302786,0.00125199556350708,0.00042864817356235796,gini,50,20,10,\"{\\'criterion\\': \\'gini\\', \\'max_depth\\': 50, \\'min_samples_leaf\\': 20, \\'min_samples_split\\': 10}\",0.7352941176470589,0.7352941176470589,0.6617647058823529,0.6231884057971014,0.688885336743393,0.048371389384613314,61\\r\\n171,0.002238333225250244,0.00043413824847854225,0.0014972686767578125,0.0005014045317938331,gini,50,20,15,\"{\\'criterion\\': \\'gini\\', \\'max_depth\\': 50, \\'min_samples_leaf\\': 20, \\'min_samples_split\\': 15}\",0.7352941176470589,0.7352941176470589,0.6617647058823529,0.6231884057971014,0.688885336743393,0.048371389384613314,61\\r\\n172,0.0022485852241516113,0.00042806734214331023,0.0012444853782653809,0.00043874225148753034,gini,50,20,50,\"{\\'criterion\\': \\'gini\\', \\'max_depth\\': 50, \\'min_samples_leaf\\': 20, \\'min_samples_split\\': 50}\",0.7058823529411765,0.7352941176470589,0.6617647058823529,0.6231884057971014,0.6815323955669225,0.04265567337083144,112\\r\\n173,0.001993119716644287,6.82206341162896e-07,0.0019895434379577637,6.737961717121254e-06,gini,50,20,100,\"{\\'criterion\\': \\'gini\\', \\'max_depth\\': 50, \\'min_samples_leaf\\': 20, \\'min_samples_split\\': 100}\",0.7058823529411765,0.7647058823529411,0.7058823529411765,0.4927536231884058,0.667306052855925,0.1035996372404566,208\\r\\n174,0.002252519130706787,0.00044685062348197465,0.0012418031692504883,0.0004211709075999615,gini,50,25,2,\"{\\'criterion\\': \\'gini\\', \\'max_depth\\': 50, \\'min_samples_leaf\\': 25, \\'min_samples_split\\': 2}\",0.5882352941176471,0.75,0.6323529411764706,0.6376811594202898,0.6520673486786019,0.059709621688734796,253\\r\\n175,0.001993834972381592,2.5754449010453583e-06,0.0014937520027160645,0.0004994334717774523,gini,50,25,5,\"{\\'criterion\\': \\'gini\\', \\'max_depth\\': 50, \\'min_samples_leaf\\': 25, \\'min_samples_split\\': 5}\",0.5882352941176471,0.75,0.6323529411764706,0.6376811594202898,0.6520673486786019,0.059709621688734796,253\\r\\n176,0.0019974708557128906,2.5511902045050496e-06,0.001989126205444336,3.251595901724304e-06,gini,50,25,10,\"{\\'criterion\\': \\'gini\\', \\'max_depth\\': 50, \\'min_samples_leaf\\': 25, \\'min_samples_split\\': 10}\",0.5882352941176471,0.75,0.6323529411764706,0.6376811594202898,0.6520673486786019,0.059709621688734796,253\\r\\n177,0.0022453665733337402,0.00044604268840265385,0.0012375116348266602,0.00043536350524707446,gini,50,25,15,\"{\\'criterion\\': \\'gini\\', \\'max_depth\\': 50, \\'min_samples_leaf\\': 25, \\'min_samples_split\\': 15}\",0.5882352941176471,0.75,0.6323529411764706,0.6376811594202898,0.6520673486786019,0.059709621688734796,253\\r\\n178,0.0019936561584472656,3.4877631278819545e-06,0.0019949674606323242,3.7146655204016885e-06,gini,50,25,50,\"{\\'criterion\\': \\'gini\\', \\'max_depth\\': 50, \\'min_samples_leaf\\': 25, \\'min_samples_split\\': 50}\",0.5882352941176471,0.75,0.6323529411764706,0.6376811594202898,0.6520673486786019,0.059709621688734796,253\\r\\n179,0.0027303099632263184,0.0012828235263488536,0.0022526979446411133,0.00044126901004982056,gini,50,25,100,\"{\\'criterion\\': \\'gini\\', \\'max_depth\\': 50, \\'min_samples_leaf\\': 25, \\'min_samples_split\\': 100}\",0.6323529411764706,0.7794117647058824,0.7058823529411765,0.5072463768115942,0.6562233589087809,0.10050539419434326,245\\r\\n180,0.002237379550933838,0.00042891437358578966,0.0014974474906921387,0.0004982605029960555,entropy,5,2,2,\"{\\'criterion\\': \\'entropy\\', \\'max_depth\\': 5, \\'min_samples_leaf\\': 2, \\'min_samples_split\\': 2}\",0.5735294117647058,0.75,0.5882352941176471,0.7681159420289855,0.6699701619778345,0.08946895556769444,206\\r\\n181,0.0024974942207336426,0.0004994338985865103,0.0014931559562683105,0.0005021167269339581,entropy,5,2,5,\"{\\'criterion\\': \\'entropy\\', \\'max_depth\\': 5, \\'min_samples_leaf\\': 2, \\'min_samples_split\\': 5}\",0.5735294117647058,0.75,0.5882352941176471,0.7681159420289855,0.6699701619778345,0.08946895556769444,206\\r\\n182,0.002239525318145752,0.0004315109328646102,0.0014942288398742676,0.0005033745574766513,entropy,5,2,10,\"{\\'criterion\\': \\'entropy\\', \\'max_depth\\': 5, \\'min_samples_leaf\\': 2, \\'min_samples_split\\': 10}\",0.5882352941176471,0.75,0.5882352941176471,0.7681159420289855,0.6736466325660699,0.08565115384512183,175\\r\\n183,0.0022388100624084473,0.00043305065845265485,0.0014988183975219727,0.0005015330892256503,entropy,5,2,15,\"{\\'criterion\\': \\'entropy\\', \\'max_depth\\': 5, \\'min_samples_leaf\\': 2, \\'min_samples_split\\': 15}\",0.6470588235294118,0.75,0.5882352941176471,0.7681159420289855,0.6883525149190111,0.0739784488393537,104\\r\\n184,0.0019952058792114258,1.147199745107563e-05,0.001990675926208496,1.2454375906340304e-05,entropy,5,2,50,\"{\\'criterion\\': \\'entropy\\', \\'max_depth\\': 5, \\'min_samples_leaf\\': 2, \\'min_samples_split\\': 50}\",0.6617647058823529,0.75,0.6764705882352942,0.7681159420289855,0.714087809036658,0.04572058354543055,18\\r\\n185,0.00224459171295166,0.00043051439298456194,0.0014954209327697754,0.0004981163943997827,entropy,5,2,100,\"{\\'criterion\\': \\'entropy\\', \\'max_depth\\': 5, \\'min_samples_leaf\\': 2, \\'min_samples_split\\': 100}\",0.6764705882352942,0.7647058823529411,0.6617647058823529,0.4927536231884058,0.6489236999147485,0.09838486815215457,286\\r\\n186,0.0022437572479248047,0.00043016721274961124,0.0017424225807189941,0.0004306348548986405,entropy,5,5,2,\"{\\'criterion\\': \\'entropy\\', \\'max_depth\\': 5, \\'min_samples_leaf\\': 5, \\'min_samples_split\\': 2}\",0.6764705882352942,0.75,0.5882352941176471,0.7536231884057971,0.6920822676896845,0.06739745376127776,54\\r\\n187,0.0022398829460144043,0.0004344693849875411,0.0017410516738891602,0.00043312560709721454,entropy,5,5,5,\"{\\'criterion\\': \\'entropy\\', \\'max_depth\\': 5, \\'min_samples_leaf\\': 5, \\'min_samples_split\\': 5}\",0.6764705882352942,0.75,0.5882352941176471,0.7536231884057971,0.6920822676896845,0.06739745376127776,54\\r\\n188,0.00224381685256958,0.00043626155050351215,0.0014938712120056152,0.0004991016738750221,entropy,5,5,10,\"{\\'criterion\\': \\'entropy\\', \\'max_depth\\': 5, \\'min_samples_leaf\\': 5, \\'min_samples_split\\': 10}\",0.6764705882352942,0.75,0.5882352941176471,0.7536231884057971,0.6920822676896845,0.06739745376127776,54\\r\\n189,0.0022464990615844727,0.0004383528522900653,0.0014902949333190918,0.0005046915691843164,entropy,5,5,15,\"{\\'criterion\\': \\'entropy\\', \\'max_depth\\': 5, \\'min_samples_leaf\\': 5, \\'min_samples_split\\': 15}\",0.6764705882352942,0.75,0.5882352941176471,0.7681159420289855,0.6957054560954816,0.07090661433897881,53\\r\\n190,0.0019987821578979492,4.91657033617527e-06,0.0017434954643249512,0.0004309858295140487,entropy,5,5,50,\"{\\'criterion\\': \\'entropy\\', \\'max_depth\\': 5, \\'min_samples_leaf\\': 5, \\'min_samples_split\\': 50}\",0.6323529411764706,0.75,0.6764705882352942,0.7681159420289855,0.7067348678601875,0.05497296054331277,24\\r\\n191,0.002736508846282959,0.00043962328139524,0.0012456178665161133,0.00043229313900718894,entropy,5,5,100,\"{\\'criterion\\': \\'entropy\\', \\'max_depth\\': 5, \\'min_samples_leaf\\': 5, \\'min_samples_split\\': 100}\",0.6764705882352942,0.7647058823529411,0.6617647058823529,0.4927536231884058,0.6489236999147485,0.09838486815215457,286\\r\\n192,0.002248525619506836,0.0004290253063809077,0.0017383694648742676,0.00042831575491070184,entropy,5,10,2,\"{\\'criterion\\': \\'entropy\\', \\'max_depth\\': 5, \\'min_samples_leaf\\': 10, \\'min_samples_split\\': 2}\",0.6617647058823529,0.7941176470588235,0.5882352941176471,0.7101449275362319,0.6885656436487638,0.07481871460264516,84\\r\\n193,0.001994907855987549,2.597422429263702e-06,0.0015000700950622559,0.0004950455186892232,entropy,5,10,5,\"{\\'criterion\\': \\'entropy\\', \\'max_depth\\': 5, \\'min_samples_leaf\\': 10, \\'min_samples_split\\': 5}\",0.6617647058823529,0.7941176470588235,0.5882352941176471,0.7101449275362319,0.6885656436487638,0.07481871460264516,84\\r\\n194,0.0024875998497009277,0.0005019589190728626,0.0014957189559936523,0.0004977011252251106,entropy,5,10,10,\"{\\'criterion\\': \\'entropy\\', \\'max_depth\\': 5, \\'min_samples_leaf\\': 10, \\'min_samples_split\\': 10}\",0.6617647058823529,0.7941176470588235,0.5882352941176471,0.7101449275362319,0.6885656436487638,0.07481871460264516,84\\r\\n195,0.0019945502281188965,1.946983691580424e-06,0.0017430782318115234,0.00043030309996253336,entropy,5,10,15,\"{\\'criterion\\': \\'entropy\\', \\'max_depth\\': 5, \\'min_samples_leaf\\': 10, \\'min_samples_split\\': 15}\",0.6617647058823529,0.7941176470588235,0.5882352941176471,0.7101449275362319,0.6885656436487638,0.07481871460264516,84\\r\\n196,0.0024911165237426758,0.0008643951896959408,0.0015020370483398438,0.0004916574093693785,entropy,5,10,50,\"{\\'criterion\\': \\'entropy\\', \\'max_depth\\': 5, \\'min_samples_leaf\\': 10, \\'min_samples_split\\': 50}\",0.6029411764705882,0.7941176470588235,0.6764705882352942,0.6666666666666666,0.685049019607843,0.06900935404559357,105\\r\\n197,0.001988351345062256,1.185443332955877e-05,0.0019968748092651367,1.7849177904321355e-05,entropy,5,10,100,\"{\\'criterion\\': \\'entropy\\', \\'max_depth\\': 5, \\'min_samples_leaf\\': 10, \\'min_samples_split\\': 100}\",0.6764705882352942,0.7647058823529411,0.6617647058823529,0.4927536231884058,0.6489236999147485,0.09838486815215457,286\\r\\n198,0.0025037527084350586,0.0005001330379024256,0.0014815330505371094,0.0005015113984443974,entropy,5,15,2,\"{\\'criterion\\': \\'entropy\\', \\'max_depth\\': 5, \\'min_samples_leaf\\': 15, \\'min_samples_split\\': 2}\",0.6617647058823529,0.7647058823529411,0.6176470588235294,0.6666666666666666,0.6776960784313725,0.05374022536588404,133\\r\\n199,0.00249481201171875,0.0005005629439004673,0.001494765281677246,0.0004984644465400137,entropy,5,15,5,\"{\\'criterion\\': \\'entropy\\', \\'max_depth\\': 5, \\'min_samples_leaf\\': 15, \\'min_samples_split\\': 5}\",0.6617647058823529,0.7647058823529411,0.6176470588235294,0.6666666666666666,0.6776960784313725,0.05374022536588404,133\\r\\n200,0.001992642879486084,6.165264280587375e-06,0.0017459392547607422,0.0004315765176289489,entropy,5,15,10,\"{\\'criterion\\': \\'entropy\\', \\'max_depth\\': 5, \\'min_samples_leaf\\': 15, \\'min_samples_split\\': 10}\",0.6617647058823529,0.7647058823529411,0.6176470588235294,0.6666666666666666,0.6776960784313725,0.05374022536588404,133\\r\\n201,0.0022425055503845215,0.0004388757426956056,0.0017418265342712402,0.00043425594211147904,entropy,5,15,15,\"{\\'criterion\\': \\'entropy\\', \\'max_depth\\': 5, \\'min_samples_leaf\\': 15, \\'min_samples_split\\': 15}\",0.6617647058823529,0.7647058823529411,0.6176470588235294,0.6666666666666666,0.6776960784313725,0.05374022536588404,133\\r\\n202,0.0019952058792114258,2.873413751886833e-06,0.0017423033714294434,0.000430539375955546,entropy,5,15,50,\"{\\'criterion\\': \\'entropy\\', \\'max_depth\\': 5, \\'min_samples_leaf\\': 15, \\'min_samples_split\\': 50}\",0.6029411764705882,0.75,0.6764705882352942,0.6231884057971014,0.663150042625746,0.05688231714021497,215\\r\\n203,0.0022429823875427246,0.00042978265038502673,0.0017455816268920898,0.00042816725973354974,entropy,5,15,100,\"{\\'criterion\\': \\'entropy\\', \\'max_depth\\': 5, \\'min_samples_leaf\\': 15, \\'min_samples_split\\': 100}\",0.6764705882352942,0.7647058823529411,0.7058823529411765,0.4927536231884058,0.6599531116794544,0.10162570313421032,228\\r\\n204,0.0019930005073547363,7.059314044050925e-06,0.0017476677894592285,0.00042788574535822406,entropy,5,20,2,\"{\\'criterion\\': \\'entropy\\', \\'max_depth\\': 5, \\'min_samples_leaf\\': 20, \\'min_samples_split\\': 2}\",0.6617647058823529,0.7352941176470589,0.6617647058823529,0.6231884057971014,0.6705029838022165,0.04058717567998526,176\\r\\n205,0.0024856925010681152,0.000498262043124089,0.0014945268630981445,0.00049984648435998,entropy,5,20,5,\"{\\'criterion\\': \\'entropy\\', \\'max_depth\\': 5, \\'min_samples_leaf\\': 20, \\'min_samples_split\\': 5}\",0.6617647058823529,0.7352941176470589,0.6617647058823529,0.6231884057971014,0.6705029838022165,0.04058717567998526,176\\r\\n206,0.0019963979721069336,4.550298377035216e-06,0.001992642879486084,3.2488632380751714e-06,entropy,5,20,10,\"{\\'criterion\\': \\'entropy\\', \\'max_depth\\': 5, \\'min_samples_leaf\\': 20, \\'min_samples_split\\': 10}\",0.6617647058823529,0.7352941176470589,0.6617647058823529,0.6231884057971014,0.6705029838022165,0.04058717567998526,176\\r\\n207,0.0024930238723754883,0.0004982984949962796,0.0012473464012145996,0.0004271922191631041,entropy,5,20,15,\"{\\'criterion\\': \\'entropy\\', \\'max_depth\\': 5, \\'min_samples_leaf\\': 20, \\'min_samples_split\\': 15}\",0.6617647058823529,0.7352941176470589,0.6617647058823529,0.6231884057971014,0.6705029838022165,0.04058717567998526,176\\r\\n208,0.0019968748092651367,3.6373487239819426e-06,0.0009949803352355957,5.197237929893166e-06,entropy,5,20,50,\"{\\'criterion\\': \\'entropy\\', \\'max_depth\\': 5, \\'min_samples_leaf\\': 20, \\'min_samples_split\\': 50}\",0.6323529411764706,0.7352941176470589,0.6617647058823529,0.6231884057971014,0.663150042625746,0.04402295024835018,215\\r\\n209,0.0019913315773010254,8.122650166602283e-06,0.0012496113777160645,0.0004356328069788074,entropy,5,20,100,\"{\\'criterion\\': \\'entropy\\', \\'max_depth\\': 5, \\'min_samples_leaf\\': 20, \\'min_samples_split\\': 100}\",0.6323529411764706,0.7647058823529411,0.7058823529411765,0.4927536231884058,0.6489236999147485,0.1016285944439481,286\\r\\n210,0.0019957423210144043,4.33231882080521e-06,0.0014925003051757812,0.0004965074494528959,entropy,5,25,2,\"{\\'criterion\\': \\'entropy\\', \\'max_depth\\': 5, \\'min_samples_leaf\\': 25, \\'min_samples_split\\': 2}\",0.5882352941176471,0.75,0.5588235294117647,0.6376811594202898,0.6336849957374254,0.0728269593944061,335\\r\\n211,0.001994907855987549,3.003388091884642e-06,0.0019930005073547363,7.043191116041889e-06,entropy,5,25,5,\"{\\'criterion\\': \\'entropy\\', \\'max_depth\\': 5, \\'min_samples_leaf\\': 25, \\'min_samples_split\\': 5}\",0.5882352941176471,0.75,0.5588235294117647,0.6376811594202898,0.6336849957374254,0.0728269593944061,335\\r\\n212,0.0020254850387573242,4.923112739153804e-05,0.002014338970184326,3.909024203363094e-05,entropy,5,25,10,\"{\\'criterion\\': \\'entropy\\', \\'max_depth\\': 5, \\'min_samples_leaf\\': 25, \\'min_samples_split\\': 10}\",0.5882352941176471,0.75,0.5588235294117647,0.6376811594202898,0.6336849957374254,0.0728269593944061,335\\r\\n213,0.0024875998497009277,0.0004980029779778973,0.0009987354278564453,2.0509541671377722e-06,entropy,5,25,15,\"{\\'criterion\\': \\'entropy\\', \\'max_depth\\': 5, \\'min_samples_leaf\\': 25, \\'min_samples_split\\': 15}\",0.5882352941176471,0.75,0.5588235294117647,0.6376811594202898,0.6336849957374254,0.0728269593944061,335\\r\\n214,0.001990020275115967,3.7103592151369848e-06,0.0017468929290771484,0.0004371830653177871,entropy,5,25,50,\"{\\'criterion\\': \\'entropy\\', \\'max_depth\\': 5, \\'min_samples_leaf\\': 25, \\'min_samples_split\\': 50}\",0.5882352941176471,0.75,0.5588235294117647,0.6376811594202898,0.6336849957374254,0.0728269593944061,335\\r\\n215,0.001993417739868164,3.705089156131757e-06,0.0019915103912353516,7.537572364586466e-06,entropy,5,25,100,\"{\\'criterion\\': \\'entropy\\', \\'max_depth\\': 5, \\'min_samples_leaf\\': 25, \\'min_samples_split\\': 100}\",0.6323529411764706,0.7794117647058824,0.6323529411764706,0.5072463768115942,0.6378410059676044,0.09638137087169762,326\\r\\n216,0.00249481201171875,0.0005031428002936923,0.0014910101890563965,0.0005012530593885069,entropy,10,2,2,\"{\\'criterion\\': \\'entropy\\', \\'max_depth\\': 10, \\'min_samples_leaf\\': 2, \\'min_samples_split\\': 2}\",0.4852941176470588,0.7205882352941176,0.6029411764705882,0.7391304347826086,0.6369884910485932,0.10197094740579012,334\\r\\n217,0.0024916529655456543,0.0004988373757060861,0.0017455220222473145,0.00043074502706515514,entropy,10,2,5,\"{\\'criterion\\': \\'entropy\\', \\'max_depth\\': 10, \\'min_samples_leaf\\': 2, \\'min_samples_split\\': 5}\",0.4852941176470588,0.7205882352941176,0.6323529411764706,0.7536231884057971,0.647964620630861,0.1038548740158566,314\\r\\n218,0.0024758577346801758,0.0005092712516040043,0.0017476677894592285,0.00043461367106139117,entropy,10,2,10,\"{\\'criterion\\': \\'entropy\\', \\'max_depth\\': 10, \\'min_samples_leaf\\': 2, \\'min_samples_split\\': 10}\",0.5294117647058824,0.7352941176470589,0.6176470588235294,0.7391304347826086,0.6553708439897699,0.08759590792838874,252\\r\\n219,0.003491818904876709,0.0014986515338647154,0.0014911890029907227,0.0005023778890413345,entropy,10,2,15,\"{\\'criterion\\': \\'entropy\\', \\'max_depth\\': 10, \\'min_samples_leaf\\': 2, \\'min_samples_split\\': 15}\",0.5588235294117647,0.7352941176470589,0.5882352941176471,0.7246376811594203,0.6517476555839727,0.07899632971781938,284\\r\\n220,0.0027406811714172363,0.00043170812223012993,0.0019935965538024902,0.0007047797444644086,entropy,10,2,50,\"{\\'criterion\\': \\'entropy\\', \\'max_depth\\': 10, \\'min_samples_leaf\\': 2, \\'min_samples_split\\': 50}\",0.6617647058823529,0.7647058823529411,0.7058823529411765,0.7681159420289855,0.725117220801364,0.04415787992764831,5\\r\\n221,0.002486288547515869,0.0005037700620049605,0.0019932985305786133,2.0647654623614278e-07,entropy,10,2,100,\"{\\'criterion\\': \\'entropy\\', \\'max_depth\\': 10, \\'min_samples_leaf\\': 2, \\'min_samples_split\\': 100}\",0.6764705882352942,0.7647058823529411,0.6911764705882353,0.4927536231884058,0.6562766410912191,0.10015297217858166,241\\r\\n222,0.0022422075271606445,0.00043160481812415613,0.001993417739868164,0.0007050324818902354,entropy,10,5,2,\"{\\'criterion\\': \\'entropy\\', \\'max_depth\\': 10, \\'min_samples_leaf\\': 5, \\'min_samples_split\\': 2}\",0.6911764705882353,0.7794117647058824,0.5882352941176471,0.7391304347826086,0.6994884910485935,0.07142404512242019,44\\r\\n223,0.0027437210083007812,0.00043321459510288967,0.0014922022819519043,0.0004952729914332372,entropy,10,5,5,\"{\\'criterion\\': \\'entropy\\', \\'max_depth\\': 10, \\'min_samples_leaf\\': 5, \\'min_samples_split\\': 5}\",0.6764705882352942,0.7794117647058824,0.5882352941176471,0.7391304347826086,0.6958120204603582,0.07213224887046449,52\\r\\n224,0.0024915337562561035,0.0004982352613304646,0.0015854239463806152,0.0006027292972598388,entropy,10,5,10,\"{\\'criterion\\': \\'entropy\\', \\'max_depth\\': 10, \\'min_samples_leaf\\': 5, \\'min_samples_split\\': 10}\",0.6764705882352942,0.7794117647058824,0.5882352941176471,0.7536231884057971,0.6994352088661553,0.0745408972500474,47\\r\\n225,0.0029987096786499023,0.0012353748056908728,0.001984536647796631,1.5253549473428262e-05,entropy,10,5,15,\"{\\'criterion\\': \\'entropy\\', \\'max_depth\\': 10, \\'min_samples_leaf\\': 5, \\'min_samples_split\\': 15}\",0.6470588235294118,0.7794117647058824,0.5735294117647058,0.6811594202898551,0.6702898550724637,0.07404053421222596,201\\r\\n226,0.002898097038269043,0.000581375101083301,0.0019948482513427734,3.4836862555032867e-06,entropy,10,5,50,\"{\\'criterion\\': \\'entropy\\', \\'max_depth\\': 10, \\'min_samples_leaf\\': 5, \\'min_samples_split\\': 50}\",0.6323529411764706,0.7941176470588235,0.6764705882352942,0.7681159420289855,0.7177642796248933,0.06588890708891537,14\\r\\n227,0.0024910569190979004,0.0004983545561581471,0.002497255802154541,0.0004929266320317717,entropy,10,5,100,\"{\\'criterion\\': \\'entropy\\', \\'max_depth\\': 10, \\'min_samples_leaf\\': 5, \\'min_samples_split\\': 100}\",0.6764705882352942,0.7647058823529411,0.6617647058823529,0.4927536231884058,0.6489236999147485,0.09838486815215457,286\\r\\n228,0.0029873251914978027,4.648780195722685e-06,0.0017467141151428223,0.0008304475459688516,entropy,10,10,2,\"{\\'criterion\\': \\'entropy\\', \\'max_depth\\': 10, \\'min_samples_leaf\\': 10, \\'min_samples_split\\': 2}\",0.6617647058823529,0.75,0.5882352941176471,0.7536231884057971,0.6884057971014492,0.06854019143652941,88\\r\\n229,0.0029841065406799316,0.0007137432473166164,0.0017440319061279297,0.000431673709478547,entropy,10,10,5,\"{\\'criterion\\': \\'entropy\\', \\'max_depth\\': 10, \\'min_samples_leaf\\': 10, \\'min_samples_split\\': 5}\",0.6617647058823529,0.75,0.5882352941176471,0.7536231884057971,0.6884057971014492,0.06854019143652941,88\\r\\n230,0.0024973154067993164,0.0005037021618680988,0.001988351345062256,8.820480534078185e-06,entropy,10,10,10,\"{\\'criterion\\': \\'entropy\\', \\'max_depth\\': 10, \\'min_samples_leaf\\': 10, \\'min_samples_split\\': 10}\",0.6617647058823529,0.75,0.5882352941176471,0.7536231884057971,0.6884057971014492,0.06854019143652941,88\\r\\n231,0.002740323543548584,0.0008263108035208965,0.0019932985305786133,0.0007047796058400561,entropy,10,10,15,\"{\\'criterion\\': \\'entropy\\', \\'max_depth\\': 10, \\'min_samples_leaf\\': 10, \\'min_samples_split\\': 15}\",0.6617647058823529,0.75,0.5882352941176471,0.7536231884057971,0.6884057971014492,0.06854019143652941,88\\r\\n232,0.0027462244033813477,0.0004347243753624866,0.001987934112548828,0.0007047574961670676,entropy,10,10,50,\"{\\'criterion\\': \\'entropy\\', \\'max_depth\\': 10, \\'min_samples_leaf\\': 10, \\'min_samples_split\\': 50}\",0.6029411764705882,0.7941176470588235,0.6764705882352942,0.6666666666666666,0.685049019607843,0.06900935404559357,105\\r\\n233,0.0024915337562561035,0.0004983544420959304,0.0017446279525756836,0.0004318809098891593,entropy,10,10,100,\"{\\'criterion\\': \\'entropy\\', \\'max_depth\\': 10, \\'min_samples_leaf\\': 10, \\'min_samples_split\\': 100}\",0.6764705882352942,0.7647058823529411,0.6617647058823529,0.4927536231884058,0.6489236999147485,0.09838486815215457,286\\r\\n234,0.0027340054512023926,0.0008244147723998911,0.0019933581352233887,1.0323827311807139e-07,entropy,10,15,2,\"{\\'criterion\\': \\'entropy\\', \\'max_depth\\': 10, \\'min_samples_leaf\\': 15, \\'min_samples_split\\': 2}\",0.6617647058823529,0.7647058823529411,0.6176470588235294,0.6666666666666666,0.6776960784313725,0.05374022536588404,133\\r\\n235,0.003504812717437744,0.000506592758913475,0.0024918317794799805,0.0011177101321834114,entropy,10,15,5,\"{\\'criterion\\': \\'entropy\\', \\'max_depth\\': 10, \\'min_samples_leaf\\': 15, \\'min_samples_split\\': 5}\",0.6617647058823529,0.7647058823529411,0.6176470588235294,0.6666666666666666,0.6776960784313725,0.05374022536588404,133\\r\\n236,0.0032293200492858887,0.0008168233285598611,0.0015117526054382324,0.0005140306051398701,entropy,10,15,10,\"{\\'criterion\\': \\'entropy\\', \\'max_depth\\': 10, \\'min_samples_leaf\\': 15, \\'min_samples_split\\': 10}\",0.6617647058823529,0.7647058823529411,0.6176470588235294,0.6666666666666666,0.6776960784313725,0.05374022536588404,133\\r\\n237,0.002999603748321533,0.0007000446014066175,0.0019858479499816895,3.0256799548107355e-05,entropy,10,15,15,\"{\\'criterion\\': \\'entropy\\', \\'max_depth\\': 10, \\'min_samples_leaf\\': 15, \\'min_samples_split\\': 15}\",0.6617647058823529,0.7647058823529411,0.6176470588235294,0.6666666666666666,0.6776960784313725,0.05374022536588404,133\\r\\n238,0.003257453441619873,0.0010827127317916397,0.0027431249618530273,0.0008099365920620045,entropy,10,15,50,\"{\\'criterion\\': \\'entropy\\', \\'max_depth\\': 10, \\'min_samples_leaf\\': 15, \\'min_samples_split\\': 50}\",0.6029411764705882,0.75,0.6764705882352942,0.6231884057971014,0.663150042625746,0.05688231714021497,215\\r\\n239,0.004267871379852295,0.0008722421830312227,0.0022466182708740234,0.00044526043644735455,entropy,10,15,100,\"{\\'criterion\\': \\'entropy\\', \\'max_depth\\': 10, \\'min_samples_leaf\\': 15, \\'min_samples_split\\': 100}\",0.6764705882352942,0.7647058823529411,0.7058823529411765,0.4927536231884058,0.6599531116794544,0.10162570313421032,228\\r\\n240,0.003002643585205078,0.0007111176153208438,0.0017386674880981445,0.0004346590571457843,entropy,10,20,2,\"{\\'criterion\\': \\'entropy\\', \\'max_depth\\': 10, \\'min_samples_leaf\\': 20, \\'min_samples_split\\': 2}\",0.6617647058823529,0.7352941176470589,0.6617647058823529,0.6231884057971014,0.6705029838022165,0.04058717567998526,176\\r\\n241,0.002988278865814209,0.0012104119413098627,0.0017476677894592285,0.00043150398399203257,entropy,10,20,5,\"{\\'criterion\\': \\'entropy\\', \\'max_depth\\': 10, \\'min_samples_leaf\\': 20, \\'min_samples_split\\': 5}\",0.6617647058823529,0.7352941176470589,0.6617647058823529,0.6231884057971014,0.6705029838022165,0.04058717567998526,176\\r\\n242,0.002980053424835205,0.000980095518693107,0.0019933581352233887,0.0007164710840642219,entropy,10,20,10,\"{\\'criterion\\': \\'entropy\\', \\'max_depth\\': 10, \\'min_samples_leaf\\': 20, \\'min_samples_split\\': 10}\",0.6617647058823529,0.7352941176470589,0.6617647058823529,0.6231884057971014,0.6705029838022165,0.04058717567998526,176\\r\\n243,0.0032434463500976562,0.0010683064443939316,0.002257823944091797,0.00039999749411351294,entropy,10,20,15,\"{\\'criterion\\': \\'entropy\\', \\'max_depth\\': 10, \\'min_samples_leaf\\': 20, \\'min_samples_split\\': 15}\",0.6617647058823529,0.7352941176470589,0.6617647058823529,0.6231884057971014,0.6705029838022165,0.04058717567998526,176\\r\\n244,0.0037389397621154785,0.0014472192492770973,0.0037301182746887207,0.0008269861663244631,entropy,10,20,50,\"{\\'criterion\\': \\'entropy\\', \\'max_depth\\': 10, \\'min_samples_leaf\\': 20, \\'min_samples_split\\': 50}\",0.6323529411764706,0.7352941176470589,0.6617647058823529,0.6231884057971014,0.663150042625746,0.04402295024835018,215\\r\\n245,0.0029918551445007324,0.0007002328376274619,0.002002239227294922,0.0012248994715857396,entropy,10,20,100,\"{\\'criterion\\': \\'entropy\\', \\'max_depth\\': 10, \\'min_samples_leaf\\': 20, \\'min_samples_split\\': 100}\",0.6323529411764706,0.7647058823529411,0.7058823529411765,0.4927536231884058,0.6489236999147485,0.1016285944439481,286\\r\\n246,0.0027382969856262207,0.0008404727742408056,0.0027434825897216797,0.0010786925256840083,entropy,10,25,2,\"{\\'criterion\\': \\'entropy\\', \\'max_depth\\': 10, \\'min_samples_leaf\\': 25, \\'min_samples_split\\': 2}\",0.5882352941176471,0.75,0.5588235294117647,0.6376811594202898,0.6336849957374254,0.0728269593944061,335\\r\\n247,0.00273972749710083,0.0004089796535668086,0.0022578835487365723,0.001081202881238231,entropy,10,25,5,\"{\\'criterion\\': \\'entropy\\', \\'max_depth\\': 10, \\'min_samples_leaf\\': 25, \\'min_samples_split\\': 5}\",0.5882352941176471,0.75,0.5588235294117647,0.6376811594202898,0.6336849957374254,0.0728269593944061,335\\r\\n248,0.0032538175582885742,0.0004272433164040092,0.0014805793762207031,0.0008376075461809444,entropy,10,25,10,\"{\\'criterion\\': \\'entropy\\', \\'max_depth\\': 10, \\'min_samples_leaf\\': 25, \\'min_samples_split\\': 10}\",0.5882352941176471,0.75,0.5588235294117647,0.6376811594202898,0.6336849957374254,0.0728269593944061,335\\r\\n249,0.0027523040771484375,0.0013162215356159958,0.0014786720275878906,0.00048578032686037536,entropy,10,25,15,\"{\\'criterion\\': \\'entropy\\', \\'max_depth\\': 10, \\'min_samples_leaf\\': 25, \\'min_samples_split\\': 15}\",0.5882352941176471,0.75,0.5588235294117647,0.6376811594202898,0.6336849957374254,0.0728269593944061,335\\r\\n250,0.0030083656311035156,0.0012127301936585733,0.002233266830444336,0.0004435913018004541,entropy,10,25,50,\"{\\'criterion\\': \\'entropy\\', \\'max_depth\\': 10, \\'min_samples_leaf\\': 25, \\'min_samples_split\\': 50}\",0.5882352941176471,0.75,0.5588235294117647,0.6376811594202898,0.6336849957374254,0.0728269593944061,335\\r\\n251,0.002970874309539795,0.0006853684782188125,0.0022597908973693848,0.0004448782519538888,entropy,10,25,100,\"{\\'criterion\\': \\'entropy\\', \\'max_depth\\': 10, \\'min_samples_leaf\\': 25, \\'min_samples_split\\': 100}\",0.6323529411764706,0.7794117647058824,0.6323529411764706,0.5072463768115942,0.6378410059676044,0.09638137087169762,326\\r\\n252,0.0035061240196228027,0.0004899400101775672,0.002236306667327881,0.00045733771570010025,entropy,15,2,2,\"{\\'criterion\\': \\'entropy\\', \\'max_depth\\': 15, \\'min_samples_leaf\\': 2, \\'min_samples_split\\': 2}\",0.5294117647058824,0.75,0.6029411764705882,0.6956521739130435,0.6445012787723785,0.08473374859781695,321\\r\\n253,0.003214895725250244,0.000801911124252467,0.0017412900924682617,0.000429826232258713,entropy,15,2,5,\"{\\'criterion\\': \\'entropy\\', \\'max_depth\\': 15, \\'min_samples_leaf\\': 2, \\'min_samples_split\\': 5}\",0.5294117647058824,0.7352941176470589,0.6176470588235294,0.7101449275362319,0.6481244671781756,0.08134289092198468,312\\r\\n254,0.0027616024017333984,0.0004467300965807616,0.0017229914665222168,0.00042158952612110896,entropy,15,2,10,\"{\\'criterion\\': \\'entropy\\', \\'max_depth\\': 15, \\'min_samples_leaf\\': 2, \\'min_samples_split\\': 10}\",0.5735294117647058,0.75,0.6176470588235294,0.6956521739130435,0.6592071611253196,0.06826327231179379,238\\r\\n255,0.0029679536819458008,1.9451581087208652e-05,0.0017665624618530273,0.0008556668837668954,entropy,15,2,15,\"{\\'criterion\\': \\'entropy\\', \\'max_depth\\': 15, \\'min_samples_leaf\\': 2, \\'min_samples_split\\': 15}\",0.5882352941176471,0.7647058823529411,0.5882352941176471,0.7101449275362319,0.6628303495311169,0.0770489098946409,225\\r\\n256,0.002244114875793457,0.00042796050273524597,0.001743614673614502,0.00042982735222776137,entropy,15,2,50,\"{\\'criterion\\': \\'entropy\\', \\'max_depth\\': 15, \\'min_samples_leaf\\': 2, \\'min_samples_split\\': 50}\",0.6617647058823529,0.7647058823529411,0.7058823529411765,0.7681159420289855,0.725117220801364,0.04415787992764831,5\\r\\n257,0.002499997615814209,0.0005104196381486878,0.0024782419204711914,0.0010916018207404222,entropy,15,2,100,\"{\\'criterion\\': \\'entropy\\', \\'max_depth\\': 15, \\'min_samples_leaf\\': 2, \\'min_samples_split\\': 100}\",0.6764705882352942,0.7647058823529411,0.6911764705882353,0.4927536231884058,0.6562766410912191,0.10015297217858166,241\\r\\n258,0.0027450919151306152,0.0004586813891476073,0.0014847517013549805,0.0004885270718329592,entropy,15,5,2,\"{\\'criterion\\': \\'entropy\\', \\'max_depth\\': 15, \\'min_samples_leaf\\': 5, \\'min_samples_split\\': 2}\",0.6911764705882353,0.7941176470588235,0.5882352941176471,0.7536231884057971,0.7067881500426259,0.07765060535974141,20\\r\\n259,0.002492547035217285,0.0004980689802040278,0.0018132328987121582,0.0004895149562302037,entropy,15,5,5,\"{\\'criterion\\': \\'entropy\\', \\'max_depth\\': 15, \\'min_samples_leaf\\': 5, \\'min_samples_split\\': 5}\",0.6764705882352942,0.7941176470588235,0.5882352941176471,0.7391304347826086,0.6994884910485935,0.07653962788565428,44\\r\\n260,0.001230478286743164,0.0012521853064251132,0.002542853355407715,0.004404351207763162,entropy,15,5,10,\"{\\'criterion\\': \\'entropy\\', \\'max_depth\\': 15, \\'min_samples_leaf\\': 5, \\'min_samples_split\\': 10}\",0.6764705882352942,0.7941176470588235,0.5882352941176471,0.7391304347826086,0.6994884910485935,0.07653962788565428,44\\r\\n261,0.0025786161422729492,0.003325712051378586,0.0005489587783813477,0.0009508244954174375,entropy,15,5,15,\"{\\'criterion\\': \\'entropy\\', \\'max_depth\\': 15, \\'min_samples_leaf\\': 5, \\'min_samples_split\\': 15}\",0.6617647058823529,0.7794117647058824,0.5735294117647058,0.6811594202898551,0.673966325660699,0.07315554391832163,173\\r\\n262,0.0005525946617126465,0.00095712203007764,0.002052128314971924,0.00355439050518208,entropy,15,5,50,\"{\\'criterion\\': \\'entropy\\', \\'max_depth\\': 15, \\'min_samples_leaf\\': 5, \\'min_samples_split\\': 50}\",0.6323529411764706,0.7941176470588235,0.6764705882352942,0.7681159420289855,0.7177642796248933,0.06588890708891537,14\\r\\n263,0.0026369094848632812,0.0033768958510289205,0.0031577348709106445,0.004265199796007219,entropy,15,5,100,\"{\\'criterion\\': \\'entropy\\', \\'max_depth\\': 15, \\'min_samples_leaf\\': 5, \\'min_samples_split\\': 100}\",0.6764705882352942,0.7647058823529411,0.6617647058823529,0.4927536231884058,0.6489236999147485,0.09838486815215457,286\\r\\n264,0.003497600555419922,0.0005095805186542252,0.002012312412261963,0.0007279836244970931,entropy,15,10,2,\"{\\'criterion\\': \\'entropy\\', \\'max_depth\\': 15, \\'min_samples_leaf\\': 10, \\'min_samples_split\\': 2}\",0.6617647058823529,0.75,0.5882352941176471,0.7536231884057971,0.6884057971014492,0.06854019143652941,88\\r\\n265,0.0030135512351989746,4.272297786626749e-05,0.0025364160537719727,0.0008383314866818989,entropy,15,10,5,\"{\\'criterion\\': \\'entropy\\', \\'max_depth\\': 15, \\'min_samples_leaf\\': 10, \\'min_samples_split\\': 5}\",0.6617647058823529,0.75,0.5882352941176471,0.7536231884057971,0.6884057971014492,0.06854019143652941,88\\r\\n266,0.0027309060096740723,0.00042005603231959083,0.0019893646240234375,4.034102948953463e-05,entropy,15,10,10,\"{\\'criterion\\': \\'entropy\\', \\'max_depth\\': 15, \\'min_samples_leaf\\': 10, \\'min_samples_split\\': 10}\",0.6617647058823529,0.75,0.5882352941176471,0.7536231884057971,0.6884057971014492,0.06854019143652941,88\\r\\n267,0.0023080110549926758,0.0007148736191308217,0.0012431740760803223,0.0008251372417054574,entropy,15,10,15,\"{\\'criterion\\': \\'entropy\\', \\'max_depth\\': 15, \\'min_samples_leaf\\': 10, \\'min_samples_split\\': 15}\",0.6617647058823529,0.75,0.5882352941176471,0.7536231884057971,0.6884057971014492,0.06854019143652941,88\\r\\n268,0.002671539783477783,0.002272035724521925,0.0,0.0,entropy,15,10,50,\"{\\'criterion\\': \\'entropy\\', \\'max_depth\\': 15, \\'min_samples_leaf\\': 10, \\'min_samples_split\\': 50}\",0.6029411764705882,0.7941176470588235,0.6764705882352942,0.6666666666666666,0.685049019607843,0.06900935404559357,105\\r\\n269,0.002019345760345459,0.003497609454967141,0.002603292465209961,0.003328745808851654,entropy,15,10,100,\"{\\'criterion\\': \\'entropy\\', \\'max_depth\\': 15, \\'min_samples_leaf\\': 10, \\'min_samples_split\\': 100}\",0.6764705882352942,0.7647058823529411,0.6617647058823529,0.4927536231884058,0.6489236999147485,0.09838486815215457,286\\r\\n270,0.00262296199798584,0.0033841577755998357,0.0005553960800170898,0.0009619742289141892,entropy,15,15,2,\"{\\'criterion\\': \\'entropy\\', \\'max_depth\\': 15, \\'min_samples_leaf\\': 15, \\'min_samples_split\\': 2}\",0.6617647058823529,0.7647058823529411,0.6176470588235294,0.6666666666666666,0.6776960784313725,0.05374022536588404,133\\r\\n271,0.0020165443420410156,0.0034927572561305915,0.0030760765075683594,0.00422250063924389,entropy,15,15,5,\"{\\'criterion\\': \\'entropy\\', \\'max_depth\\': 15, \\'min_samples_leaf\\': 15, \\'min_samples_split\\': 5}\",0.6617647058823529,0.7647058823529411,0.6176470588235294,0.6666666666666666,0.6776960784313725,0.05374022536588404,133\\r\\n272,0.0028154850006103516,0.0007798588082306143,0.002919614315032959,0.0006296908514334408,entropy,15,15,10,\"{\\'criterion\\': \\'entropy\\', \\'max_depth\\': 15, \\'min_samples_leaf\\': 15, \\'min_samples_split\\': 10}\",0.6617647058823529,0.7647058823529411,0.6176470588235294,0.6666666666666666,0.6776960784313725,0.05374022536588404,133\\r\\n273,0.0034703612327575684,0.0004801020718075784,0.0020222067832946777,0.000740636530366609,entropy,15,15,15,\"{\\'criterion\\': \\'entropy\\', \\'max_depth\\': 15, \\'min_samples_leaf\\': 15, \\'min_samples_split\\': 15}\",0.6617647058823529,0.7647058823529411,0.6176470588235294,0.6666666666666666,0.6776960784313725,0.05374022536588404,133\\r\\n274,0.0029706358909606934,0.0006967288758239216,0.002266824245452881,0.00044410141675726257,entropy,15,15,50,\"{\\'criterion\\': \\'entropy\\', \\'max_depth\\': 15, \\'min_samples_leaf\\': 15, \\'min_samples_split\\': 50}\",0.6029411764705882,0.75,0.6764705882352942,0.6231884057971014,0.663150042625746,0.05688231714021497,215\\r\\n275,0.0034621357917785645,0.001112325411308138,0.0017535686492919922,0.0004369132514078773,entropy,15,15,100,\"{\\'criterion\\': \\'entropy\\', \\'max_depth\\': 15, \\'min_samples_leaf\\': 15, \\'min_samples_split\\': 100}\",0.6764705882352942,0.7647058823529411,0.7058823529411765,0.4927536231884058,0.6599531116794544,0.10162570313421032,228\\r\\n276,0.003227710723876953,0.0010706910007597826,0.001998603343963623,5.4421717273949714e-05,entropy,15,20,2,\"{\\'criterion\\': \\'entropy\\', \\'max_depth\\': 15, \\'min_samples_leaf\\': 20, \\'min_samples_split\\': 2}\",0.6617647058823529,0.7352941176470589,0.6617647058823529,0.6231884057971014,0.6705029838022165,0.04058717567998526,176\\r\\n277,0.002996385097503662,0.0007220828031037896,0.0020052194595336914,0.0007049470240260432,entropy,15,20,5,\"{\\'criterion\\': \\'entropy\\', \\'max_depth\\': 15, \\'min_samples_leaf\\': 20, \\'min_samples_split\\': 5}\",0.6617647058823529,0.7352941176470589,0.6617647058823529,0.6231884057971014,0.6705029838022165,0.04058717567998526,176\\r\\n278,0.003003835678100586,0.0010016877619240423,0.0019692182540893555,0.0006718717943279345,entropy,15,20,10,\"{\\'criterion\\': \\'entropy\\', \\'max_depth\\': 15, \\'min_samples_leaf\\': 20, \\'min_samples_split\\': 10}\",0.6617647058823529,0.7352941176470589,0.6617647058823529,0.6231884057971014,0.6705029838022165,0.04058717567998526,176\\r\\n279,0.0032739639282226562,0.0008424253207827871,0.0017085075378417969,0.0007797639916158655,entropy,15,20,15,\"{\\'criterion\\': \\'entropy\\', \\'max_depth\\': 15, \\'min_samples_leaf\\': 20, \\'min_samples_split\\': 15}\",0.6617647058823529,0.7352941176470589,0.6617647058823529,0.6231884057971014,0.6705029838022165,0.04058717567998526,176\\r\\n280,0.002764463424682617,0.00086394216733948,0.002244710922241211,0.0008255519500821799,entropy,15,20,50,\"{\\'criterion\\': \\'entropy\\', \\'max_depth\\': 15, \\'min_samples_leaf\\': 20, \\'min_samples_split\\': 50}\",0.6323529411764706,0.7352941176470589,0.6617647058823529,0.6231884057971014,0.663150042625746,0.04402295024835018,215\\r\\n281,0.00347900390625,0.000857919284272625,0.0019962191581726074,0.0007049668372844436,entropy,15,20,100,\"{\\'criterion\\': \\'entropy\\', \\'max_depth\\': 15, \\'min_samples_leaf\\': 20, \\'min_samples_split\\': 100}\",0.6323529411764706,0.7647058823529411,0.7058823529411765,0.4927536231884058,0.6489236999147485,0.1016285944439481,286\\r\\n282,0.002980172634124756,0.0006947607062203944,0.002501368522644043,0.0011250520619993957,entropy,15,25,2,\"{\\'criterion\\': \\'entropy\\', \\'max_depth\\': 15, \\'min_samples_leaf\\': 25, \\'min_samples_split\\': 2}\",0.5882352941176471,0.75,0.5588235294117647,0.6376811594202898,0.6336849957374254,0.0728269593944061,335\\r\\n283,0.0030053257942199707,0.0012428118544348162,0.0024910569190979004,0.000503036997070785,entropy,15,25,5,\"{\\'criterion\\': \\'entropy\\', \\'max_depth\\': 15, \\'min_samples_leaf\\': 25, \\'min_samples_split\\': 5}\",0.5882352941176471,0.75,0.5588235294117647,0.6376811594202898,0.6336849957374254,0.0728269593944061,335\\r\\n284,0.0029900074005126953,0.0009964704584855756,0.001993417739868164,0.0,entropy,15,25,10,\"{\\'criterion\\': \\'entropy\\', \\'max_depth\\': 15, \\'min_samples_leaf\\': 25, \\'min_samples_split\\': 10}\",0.5882352941176471,0.75,0.5588235294117647,0.6376811594202898,0.6336849957374254,0.0728269593944061,335\\r\\n285,0.00272524356842041,0.0008289990647452224,0.0017461180686950684,0.0004328900286912665,entropy,15,25,15,\"{\\'criterion\\': \\'entropy\\', \\'max_depth\\': 15, \\'min_samples_leaf\\': 25, \\'min_samples_split\\': 15}\",0.5882352941176471,0.75,0.5588235294117647,0.6376811594202898,0.6336849957374254,0.0728269593944061,335\\r\\n286,0.0029904842376708984,0.0007052012909506719,0.00199282169342041,5.462855929083633e-07,entropy,15,25,50,\"{\\'criterion\\': \\'entropy\\', \\'max_depth\\': 15, \\'min_samples_leaf\\': 25, \\'min_samples_split\\': 50}\",0.5882352941176471,0.75,0.5588235294117647,0.6376811594202898,0.6336849957374254,0.0728269593944061,335\\r\\n287,0.002740800380706787,0.0008264543251760837,0.0017523765563964844,0.0008390803597182055,entropy,15,25,100,\"{\\'criterion\\': \\'entropy\\', \\'max_depth\\': 15, \\'min_samples_leaf\\': 25, \\'min_samples_split\\': 100}\",0.6323529411764706,0.7794117647058824,0.6323529411764706,0.5072463768115942,0.6378410059676044,0.09638137087169762,326\\r\\n288,0.0029901862144470215,3.5262583393452264e-07,0.001993119716644287,0.0007048639020566166,entropy,20,2,2,\"{\\'criterion\\': \\'entropy\\', \\'max_depth\\': 20, \\'min_samples_leaf\\': 2, \\'min_samples_split\\': 2}\",0.5441176470588235,0.75,0.6176470588235294,0.6956521739130435,0.6518542199488491,0.07798742514604512,281\\r\\n289,0.0032426118850708008,0.0010852870352824403,0.0022467970848083496,0.0008302439703918441,entropy,20,2,5,\"{\\'criterion\\': \\'entropy\\', \\'max_depth\\': 20, \\'min_samples_leaf\\': 2, \\'min_samples_split\\': 5}\",0.5294117647058824,0.75,0.6323529411764706,0.7101449275362319,0.6554774083546462,0.08418780415783955,250\\r\\n290,0.0034711360931396484,0.0011019520895227545,0.0022403597831726074,0.00043240787997861075,entropy,20,2,10,\"{\\'criterion\\': \\'entropy\\', \\'max_depth\\': 20, \\'min_samples_leaf\\': 2, \\'min_samples_split\\': 10}\",0.6176470588235294,0.75,0.6176470588235294,0.6956521739130435,0.6702365728900256,0.055989889844484025,203\\r\\n291,0.0034881234169006348,0.0004984738224361749,0.0024919509887695312,0.0004986528144222322,entropy,20,2,15,\"{\\'criterion\\': \\'entropy\\', \\'max_depth\\': 20, \\'min_samples_leaf\\': 2, \\'min_samples_split\\': 15}\",0.6029411764705882,0.7647058823529411,0.5882352941176471,0.7101449275362319,0.6665068201193521,0.07367897101208841,214\\r\\n292,0.002986133098602295,0.0007047259864159797,0.001744091510772705,0.00043157040536732525,entropy,20,2,50,\"{\\'criterion\\': \\'entropy\\', \\'max_depth\\': 20, \\'min_samples_leaf\\': 2, \\'min_samples_split\\': 50}\",0.6617647058823529,0.7647058823529411,0.7058823529411765,0.7681159420289855,0.725117220801364,0.04415787992764831,5\\r\\n293,0.002740800380706787,0.0008263105455515549,0.0024986863136291504,0.0005054823725835433,entropy,20,2,100,\"{\\'criterion\\': \\'entropy\\', \\'max_depth\\': 20, \\'min_samples_leaf\\': 2, \\'min_samples_split\\': 100}\",0.6764705882352942,0.7647058823529411,0.6911764705882353,0.4927536231884058,0.6562766410912191,0.10015297217858166,241\\r\\n294,0.002992093563079834,0.0007049819356062925,0.0022341012954711914,0.00043723901995755245,entropy,20,5,2,\"{\\'criterion\\': \\'entropy\\', \\'max_depth\\': 20, \\'min_samples_leaf\\': 5, \\'min_samples_split\\': 2}\",0.6764705882352942,0.7941176470588235,0.5882352941176471,0.7536231884057971,0.7031116794543906,0.07864450127877236,25\\r\\n295,0.0027480125427246094,0.000435995391336835,0.002234935760498047,0.00043667620576451506,entropy,20,5,5,\"{\\'criterion\\': \\'entropy\\', \\'max_depth\\': 20, \\'min_samples_leaf\\': 5, \\'min_samples_split\\': 5}\",0.6764705882352942,0.7941176470588235,0.5882352941176471,0.7536231884057971,0.7031116794543906,0.07864450127877236,25\\r\\n296,0.00299757719039917,0.0007046816218472203,0.0024840235710144043,0.0004907623163570864,entropy,20,5,10,\"{\\'criterion\\': \\'entropy\\', \\'max_depth\\': 20, \\'min_samples_leaf\\': 5, \\'min_samples_split\\': 10}\",0.6764705882352942,0.7941176470588235,0.5882352941176471,0.7536231884057971,0.7031116794543906,0.07864450127877236,25\\r\\n297,0.0024914145469665527,0.0004985930601850356,0.0020020604133605957,0.0007170557256363309,entropy,20,5,15,\"{\\'criterion\\': \\'entropy\\', \\'max_depth\\': 20, \\'min_samples_leaf\\': 5, \\'min_samples_split\\': 15}\",0.6470588235294118,0.7794117647058824,0.5735294117647058,0.6811594202898551,0.6702898550724637,0.07404053421222596,201\\r\\n298,0.0027354955673217773,0.0004283898401393247,0.001744091510772705,0.0004317080563946496,entropy,20,5,50,\"{\\'criterion\\': \\'entropy\\', \\'max_depth\\': 20, \\'min_samples_leaf\\': 5, \\'min_samples_split\\': 50}\",0.6323529411764706,0.7941176470588235,0.6764705882352942,0.7681159420289855,0.7177642796248933,0.06588890708891537,14\\r\\n299,0.0027408599853515625,0.0008264722700785309,0.0019932985305786133,2.6656007498500226e-07,entropy,20,5,100,\"{\\'criterion\\': \\'entropy\\', \\'max_depth\\': 20, \\'min_samples_leaf\\': 5, \\'min_samples_split\\': 100}\",0.6764705882352942,0.7647058823529411,0.6617647058823529,0.4927536231884058,0.6489236999147485,0.09838486815215457,286\\r\\n300,0.002989828586578369,0.0007046110159261726,0.001495063304901123,0.000498473708401249,entropy,20,10,2,\"{\\'criterion\\': \\'entropy\\', \\'max_depth\\': 20, \\'min_samples_leaf\\': 10, \\'min_samples_split\\': 2}\",0.6617647058823529,0.75,0.5882352941176471,0.7536231884057971,0.6884057971014492,0.06854019143652941,88\\r\\n301,0.002242565155029297,0.00043153598163353843,0.0019933581352233887,1.97686242482388e-07,entropy,20,10,5,\"{\\'criterion\\': \\'entropy\\', \\'max_depth\\': 20, \\'min_samples_leaf\\': 10, \\'min_samples_split\\': 5}\",0.6617647058823529,0.75,0.5882352941176471,0.7536231884057971,0.6884057971014492,0.06854019143652941,88\\r\\n302,0.0027409791946411133,0.0004314672000329529,0.0014948844909667969,0.0004982948588412336,entropy,20,10,10,\"{\\'criterion\\': \\'entropy\\', \\'max_depth\\': 20, \\'min_samples_leaf\\': 10, \\'min_samples_split\\': 10}\",0.6617647058823529,0.75,0.5882352941176471,0.7536231884057971,0.6884057971014492,0.06854019143652941,88\\r\\n303,0.002491593360900879,0.0004985333201646868,0.0014949440956115723,0.0004983544706114871,entropy,20,10,15,\"{\\'criterion\\': \\'entropy\\', \\'max_depth\\': 20, \\'min_samples_leaf\\': 10, \\'min_samples_split\\': 15}\",0.6617647058823529,0.75,0.5882352941176471,0.7536231884057971,0.6884057971014492,0.06854019143652941,88\\r\\n304,0.0024917125701904297,0.0004982948303222656,0.0012457966804504395,0.0004315015798536639,entropy,20,10,50,\"{\\'criterion\\': \\'entropy\\', \\'max_depth\\': 20, \\'min_samples_leaf\\': 10, \\'min_samples_split\\': 50}\",0.6029411764705882,0.7941176470588235,0.6764705882352942,0.6666666666666666,0.685049019607843,0.06900935404559357,105\\r\\n305,0.0019934773445129395,2.5981062314156735e-07,0.001993238925933838,1.0323827311807139e-07,entropy,20,10,100,\"{\\'criterion\\': \\'entropy\\', \\'max_depth\\': 20, \\'min_samples_leaf\\': 10, \\'min_samples_split\\': 100}\",0.6764705882352942,0.7647058823529411,0.6617647058823529,0.4927536231884058,0.6489236999147485,0.09838486815215457,286\\r\\n306,0.0029898881912231445,0.0009969473027675528,0.0019930601119995117,0.0007054540762770194,entropy,20,15,2,\"{\\'criterion\\': \\'entropy\\', \\'max_depth\\': 20, \\'min_samples_leaf\\': 15, \\'min_samples_split\\': 2}\",0.6617647058823529,0.7647058823529411,0.6176470588235294,0.6666666666666666,0.6776960784313725,0.05374022536588404,133\\r\\n307,0.0027449727058410645,0.00043424311387635324,0.001995384693145752,1.4881956122188521e-05,entropy,20,15,5,\"{\\'criterion\\': \\'entropy\\', \\'max_depth\\': 20, \\'min_samples_leaf\\': 15, \\'min_samples_split\\': 5}\",0.6617647058823529,0.7647058823529411,0.6176470588235294,0.6666666666666666,0.6776960784313725,0.05374022536588404,133\\r\\n308,0.002520740032196045,0.0005292808518893306,0.001744687557220459,0.00043205375178942927,entropy,20,15,10,\"{\\'criterion\\': \\'entropy\\', \\'max_depth\\': 20, \\'min_samples_leaf\\': 15, \\'min_samples_split\\': 10}\",0.6617647058823529,0.7647058823529411,0.6176470588235294,0.6666666666666666,0.6776960784313725,0.05374022536588404,133\\r\\n309,0.003238976001739502,0.00043150171158762003,0.0014963746070861816,0.000499669839709519,entropy,20,15,15,\"{\\'criterion\\': \\'entropy\\', \\'max_depth\\': 20, \\'min_samples_leaf\\': 15, \\'min_samples_split\\': 15}\",0.6617647058823529,0.7647058823529411,0.6176470588235294,0.6666666666666666,0.6776960784313725,0.05374022536588404,133\\r\\n310,0.0027405619621276855,0.0008264544627358069,0.0019931793212890625,0.0009965896606445312,entropy,20,15,50,\"{\\'criterion\\': \\'entropy\\', \\'max_depth\\': 20, \\'min_samples_leaf\\': 15, \\'min_samples_split\\': 50}\",0.6029411764705882,0.75,0.6764705882352942,0.6231884057971014,0.663150042625746,0.05688231714021497,215\\r\\n311,0.00274050235748291,0.00043105741186737494,0.001992940902709961,2.9200193199910854e-07,entropy,20,15,100,\"{\\'criterion\\': \\'entropy\\', \\'max_depth\\': 20, \\'min_samples_leaf\\': 15, \\'min_samples_split\\': 100}\",0.6764705882352942,0.7647058823529411,0.7058823529411765,0.4927536231884058,0.6599531116794544,0.10162570313421032,228\\r\\n312,0.0030360817909240723,0.0007012693817114246,0.001767575740814209,0.00045425238654295676,entropy,20,20,2,\"{\\'criterion\\': \\'entropy\\', \\'max_depth\\': 20, \\'min_samples_leaf\\': 20, \\'min_samples_split\\': 2}\",0.6617647058823529,0.7352941176470589,0.6617647058823529,0.6231884057971014,0.6705029838022165,0.04058717567998526,176\\r\\n313,0.002494215965270996,0.000495684281482854,0.0017417669296264648,0.0008260195758005359,entropy,20,20,5,\"{\\'criterion\\': \\'entropy\\', \\'max_depth\\': 20, \\'min_samples_leaf\\': 20, \\'min_samples_split\\': 5}\",0.6617647058823529,0.7352941176470589,0.6617647058823529,0.6231884057971014,0.6705029838022165,0.04058717567998526,176\\r\\n314,0.002757549285888672,0.00044152085800375045,0.002225816249847412,0.00041975601464895845,entropy,20,20,10,\"{\\'criterion\\': \\'entropy\\', \\'max_depth\\': 20, \\'min_samples_leaf\\': 20, \\'min_samples_split\\': 10}\",0.6617647058823529,0.7352941176470589,0.6617647058823529,0.6231884057971014,0.6705029838022165,0.04058717567998526,176\\r\\n315,0.0027445554733276367,0.00043384853008819786,0.0024878978729248047,0.001112798010976207,entropy,20,20,15,\"{\\'criterion\\': \\'entropy\\', \\'max_depth\\': 20, \\'min_samples_leaf\\': 20, \\'min_samples_split\\': 15}\",0.6617647058823529,0.7352941176470589,0.6617647058823529,0.6231884057971014,0.6705029838022165,0.04058717567998526,176\\r\\n316,0.0024920105934143066,0.0004984736798925135,0.0009963512420654297,1.6858739404357614e-07,entropy,20,20,50,\"{\\'criterion\\': \\'entropy\\', \\'max_depth\\': 20, \\'min_samples_leaf\\': 20, \\'min_samples_split\\': 50}\",0.6323529411764706,0.7352941176470589,0.6617647058823529,0.6231884057971014,0.663150042625746,0.04402295024835018,215\\r\\n317,0.0019931793212890625,0.0,0.0014949440956115723,0.0004983544420959304,entropy,20,20,100,\"{\\'criterion\\': \\'entropy\\', \\'max_depth\\': 20, \\'min_samples_leaf\\': 20, \\'min_samples_split\\': 100}\",0.6323529411764706,0.7647058823529411,0.7058823529411765,0.4927536231884058,0.6489236999147485,0.1016285944439481,286\\r\\n318,0.002540767192840576,0.000454985156233079,0.001268625259399414,0.00047145479062004643,entropy,20,25,2,\"{\\'criterion\\': \\'entropy\\', \\'max_depth\\': 20, \\'min_samples_leaf\\': 25, \\'min_samples_split\\': 2}\",0.5882352941176471,0.75,0.5588235294117647,0.6376811594202898,0.6336849957374254,0.0728269593944061,335\\r\\n319,0.001993417739868164,0.0,0.0017440319061279297,0.00043167364363781827,entropy,20,25,5,\"{\\'criterion\\': \\'entropy\\', \\'max_depth\\': 20, \\'min_samples_leaf\\': 25, \\'min_samples_split\\': 5}\",0.5882352941176471,0.75,0.5588235294117647,0.6376811594202898,0.6336849957374254,0.0728269593944061,335\\r\\n320,0.002740800380706787,0.00043150161278715667,0.0017441511154174805,0.00043174255692512254,entropy,20,25,10,\"{\\'criterion\\': \\'entropy\\', \\'max_depth\\': 20, \\'min_samples_leaf\\': 25, \\'min_samples_split\\': 10}\",0.5882352941176471,0.75,0.5588235294117647,0.6376811594202898,0.6336849957374254,0.0728269593944061,335\\r\\n321,0.002740621566772461,0.0004319490663235345,0.0019934773445129395,0.000705116798260397,entropy,20,25,15,\"{\\'criterion\\': \\'entropy\\', \\'max_depth\\': 20, \\'min_samples_leaf\\': 25, \\'min_samples_split\\': 15}\",0.5882352941176471,0.75,0.5588235294117647,0.6376811594202898,0.6336849957374254,0.0728269593944061,335\\r\\n322,0.002742469310760498,0.0008283964843890061,0.0014933943748474121,0.0004969280486858207,entropy,20,25,50,\"{\\'criterion\\': \\'entropy\\', \\'max_depth\\': 20, \\'min_samples_leaf\\': 25, \\'min_samples_split\\': 50}\",0.5882352941176471,0.75,0.5588235294117647,0.6376811594202898,0.6336849957374254,0.0728269593944061,335\\r\\n323,0.0019928812980651855,7.97455797210911e-07,0.0017442107200622559,0.0004316392199066565,entropy,20,25,100,\"{\\'criterion\\': \\'entropy\\', \\'max_depth\\': 20, \\'min_samples_leaf\\': 25, \\'min_samples_split\\': 100}\",0.6323529411764706,0.7794117647058824,0.6323529411764706,0.5072463768115942,0.6378410059676044,0.09638137087169762,326\\r\\n324,0.0029875636100769043,4.515420667295139e-06,0.0017465949058532715,0.0004330359567754774,entropy,50,2,2,\"{\\'criterion\\': \\'entropy\\', \\'max_depth\\': 50, \\'min_samples_leaf\\': 2, \\'min_samples_split\\': 2}\",0.5,0.7352941176470589,0.6176470588235294,0.6956521739130435,0.6371483375959079,0.08978482525564974,331\\r\\n325,0.0024917125701904297,0.00049841405386789,0.0014950037002563477,0.0004984140396118164,entropy,50,2,5,\"{\\'criterion\\': \\'entropy\\', \\'max_depth\\': 50, \\'min_samples_leaf\\': 2, \\'min_samples_split\\': 5}\",0.5294117647058824,0.7647058823529411,0.6176470588235294,0.7101449275362319,0.6554774083546462,0.08978178968990429,250\\r\\n326,0.0024915337562561035,0.0004984737369099829,0.0014951229095458984,0.0004981756923471926,entropy,50,2,10,\"{\\'criterion\\': \\'entropy\\', \\'max_depth\\': 50, \\'min_samples_leaf\\': 2, \\'min_samples_split\\': 10}\",0.6176470588235294,0.75,0.6176470588235294,0.6956521739130435,0.6702365728900256,0.055989889844484025,203\\r\\n327,0.002740800380706787,0.00043150161278715667,0.001744091510772705,0.00043143274336042035,entropy,50,2,15,\"{\\'criterion\\': \\'entropy\\', \\'max_depth\\': 50, \\'min_samples_leaf\\': 2, \\'min_samples_split\\': 15}\",0.5882352941176471,0.7647058823529411,0.5882352941176471,0.7101449275362319,0.6628303495311169,0.0770489098946409,225\\r\\n328,0.0024916529655456543,0.0004983544420959304,0.0014951229095458984,0.0004981756352956113,entropy,50,2,50,\"{\\'criterion\\': \\'entropy\\', \\'max_depth\\': 50, \\'min_samples_leaf\\': 2, \\'min_samples_split\\': 50}\",0.6617647058823529,0.7647058823529411,0.7058823529411765,0.7681159420289855,0.725117220801364,0.04415787992764831,5\\r\\n329,0.001993417739868164,1.6858739404357614e-07,0.0019932985305786133,2.6656007498500226e-07,entropy,50,2,100,\"{\\'criterion\\': \\'entropy\\', \\'max_depth\\': 50, \\'min_samples_leaf\\': 2, \\'min_samples_split\\': 100}\",0.6764705882352942,0.7647058823529411,0.6911764705882353,0.4927536231884058,0.6562766410912191,0.10015297217858166,241\\r\\n330,0.002491593360900879,0.0004984140681239633,0.0014951825141906738,0.0004985930316831244,entropy,50,5,2,\"{\\'criterion\\': \\'entropy\\', \\'max_depth\\': 50, \\'min_samples_leaf\\': 5, \\'min_samples_split\\': 2}\",0.6911764705882353,0.7941176470588235,0.5882352941176471,0.7536231884057971,0.7067881500426259,0.07765060535974141,20\\r\\n331,0.0024916529655456543,0.0004977585955045989,0.001743912696838379,0.0004314672000329529,entropy,50,5,5,\"{\\'criterion\\': \\'entropy\\', \\'max_depth\\': 50, \\'min_samples_leaf\\': 5, \\'min_samples_split\\': 5}\",0.6911764705882353,0.7941176470588235,0.5882352941176471,0.7536231884057971,0.7067881500426259,0.07765060535974141,20\\r\\n332,0.002491593360900879,0.0004984140681239633,0.0014950037002563477,0.0004984140396118164,entropy,50,5,10,\"{\\'criterion\\': \\'entropy\\', \\'max_depth\\': 50, \\'min_samples_leaf\\': 5, \\'min_samples_split\\': 10}\",0.6911764705882353,0.7941176470588235,0.5882352941176471,0.7536231884057971,0.7067881500426259,0.07765060535974141,20\\r\\n333,0.0024918317794799805,0.0004982948445817498,0.0014948248863220215,0.0004983544420959304,entropy,50,5,15,\"{\\'criterion\\': \\'entropy\\', \\'max_depth\\': 50, \\'min_samples_leaf\\': 5, \\'min_samples_split\\': 15}\",0.6617647058823529,0.7794117647058824,0.5735294117647058,0.6811594202898551,0.673966325660699,0.07315554391832163,173\\r\\n334,0.0022426247596740723,0.0004313639288263429,0.0017440319061279297,0.0004315360145644058,entropy,50,5,50,\"{\\'criterion\\': \\'entropy\\', \\'max_depth\\': 50, \\'min_samples_leaf\\': 5, \\'min_samples_split\\': 50}\",0.6323529411764706,0.7941176470588235,0.6764705882352942,0.7681159420289855,0.7177642796248933,0.06588890708891537,14\\r\\n335,0.0019933581352233887,1.0323827311807139e-07,0.0019932985305786133,1.1920928955078125e-07,entropy,50,5,100,\"{\\'criterion\\': \\'entropy\\', \\'max_depth\\': 50, \\'min_samples_leaf\\': 5, \\'min_samples_split\\': 100}\",0.6764705882352942,0.7647058823529411,0.6617647058823529,0.4927536231884058,0.6489236999147485,0.09838486815215457,286\\r\\n336,0.0024917125701904297,0.0004982948303222656,0.0014950037002563477,0.0004981756210327148,entropy,50,10,2,\"{\\'criterion\\': \\'entropy\\', \\'max_depth\\': 50, \\'min_samples_leaf\\': 10, \\'min_samples_split\\': 2}\",0.6617647058823529,0.75,0.5882352941176471,0.7536231884057971,0.6884057971014492,0.06854019143652941,88\\r\\n337,0.0024917125701904297,0.0004981756923471926,0.0014948248863220215,0.0004981161376370525,entropy,50,10,5,\"{\\'criterion\\': \\'entropy\\', \\'max_depth\\': 50, \\'min_samples_leaf\\': 10, \\'min_samples_split\\': 5}\",0.6617647058823529,0.75,0.5882352941176471,0.7536231884057971,0.6884057971014492,0.06854019143652941,88\\r\\n338,0.0022425055503845215,0.00043143274336042035,0.001744091510772705,0.0004314327762991678,entropy,50,10,10,\"{\\'criterion\\': \\'entropy\\', \\'max_depth\\': 50, \\'min_samples_leaf\\': 10, \\'min_samples_split\\': 10}\",0.6617647058823529,0.75,0.5882352941176471,0.7536231884057971,0.6884057971014492,0.06854019143652941,88\\r\\n339,0.002987086772918701,0.0007005720587147153,0.0019962191581726074,0.0007090008223653268,entropy,50,10,15,\"{\\'criterion\\': \\'entropy\\', \\'max_depth\\': 50, \\'min_samples_leaf\\': 10, \\'min_samples_split\\': 15}\",0.6617647058823529,0.75,0.5882352941176471,0.7536231884057971,0.6884057971014492,0.06854019143652941,88\\r\\n340,0.002494335174560547,0.0005008152651458807,0.0019908547401428223,0.0007050501461569292,entropy,50,10,50,\"{\\'criterion\\': \\'entropy\\', \\'max_depth\\': 50, \\'min_samples_leaf\\': 10, \\'min_samples_split\\': 50}\",0.6029411764705882,0.7941176470588235,0.6764705882352942,0.6666666666666666,0.685049019607843,0.06900935404559357,105\\r\\n341,0.0034896135330200195,0.0011188524457978663,0.00224149227142334,0.0004321893458844364,entropy,50,10,100,\"{\\'criterion\\': \\'entropy\\', \\'max_depth\\': 50, \\'min_samples_leaf\\': 10, \\'min_samples_split\\': 100}\",0.6764705882352942,0.7647058823529411,0.6617647058823529,0.4927536231884058,0.6489236999147485,0.09838486815215457,286\\r\\n342,0.0033121109008789062,0.00040757521860348473,0.001993834972381592,7.42071843027397e-07,entropy,50,15,2,\"{\\'criterion\\': \\'entropy\\', \\'max_depth\\': 50, \\'min_samples_leaf\\': 15, \\'min_samples_split\\': 2}\",0.6617647058823529,0.7647058823529411,0.6176470588235294,0.6666666666666666,0.6776960784313725,0.05374022536588404,133\\r\\n343,0.002741217613220215,0.0008261496795339931,0.0027406811714172363,0.000431709504772898,entropy,50,15,5,\"{\\'criterion\\': \\'entropy\\', \\'max_depth\\': 50, \\'min_samples_leaf\\': 15, \\'min_samples_split\\': 5}\",0.6617647058823529,0.7647058823529411,0.6176470588235294,0.6666666666666666,0.6776960784313725,0.05374022536588404,133\\r\\n344,0.0029901862144470215,0.0007041060005111166,0.001993238925933838,0.0007046954558260597,entropy,50,15,10,\"{\\'criterion\\': \\'entropy\\', \\'max_depth\\': 50, \\'min_samples_leaf\\': 15, \\'min_samples_split\\': 10}\",0.6617647058823529,0.7647058823529411,0.6176470588235294,0.6666666666666666,0.6776960784313725,0.05374022536588404,133\\r\\n345,0.003238379955291748,0.0004314377170828048,0.0019937753677368164,0.000705791492620632,entropy,50,15,15,\"{\\'criterion\\': \\'entropy\\', \\'max_depth\\': 50, \\'min_samples_leaf\\': 15, \\'min_samples_split\\': 15}\",0.6617647058823529,0.7647058823529411,0.6176470588235294,0.6666666666666666,0.6776960784313725,0.05374022536588404,133\\r\\n346,0.0027414560317993164,0.0004320178369944202,0.00224226713180542,0.00043088221619240946,entropy,50,15,50,\"{\\'criterion\\': \\'entropy\\', \\'max_depth\\': 50, \\'min_samples_leaf\\': 15, \\'min_samples_split\\': 50}\",0.6029411764705882,0.75,0.6764705882352942,0.6231884057971014,0.663150042625746,0.05688231714021497,215\\r\\n347,0.0024968385696411133,0.0005039829703568222,0.002488553524017334,0.0004952653590435324,entropy,50,15,100,\"{\\'criterion\\': \\'entropy\\', \\'max_depth\\': 50, \\'min_samples_leaf\\': 15, \\'min_samples_split\\': 100}\",0.6764705882352942,0.7647058823529411,0.7058823529411765,0.4927536231884058,0.6599531116794544,0.10162570313421032,228\\r\\n348,0.0022425055503845215,0.0004317080563946496,0.001993417739868164,2.384185791015625e-07,entropy,50,20,2,\"{\\'criterion\\': \\'entropy\\', \\'max_depth\\': 50, \\'min_samples_leaf\\': 20, \\'min_samples_split\\': 2}\",0.6617647058823529,0.7352941176470589,0.6617647058823529,0.6231884057971014,0.6705029838022165,0.04058717567998526,176\\r\\n349,0.0019932985305786133,1.1920928955078125e-07,0.0019968748092651367,6.266146469569885e-06,entropy,50,20,5,\"{\\'criterion\\': \\'entropy\\', \\'max_depth\\': 50, \\'min_samples_leaf\\': 20, \\'min_samples_split\\': 5}\",0.6617647058823529,0.7352941176470589,0.6617647058823529,0.6231884057971014,0.6705029838022165,0.04058717567998526,176\\r\\n350,0.002491593360900879,0.0004981756495585071,0.001495063304901123,0.0004983544706114871,entropy,50,20,10,\"{\\'criterion\\': \\'entropy\\', \\'max_depth\\': 50, \\'min_samples_leaf\\': 20, \\'min_samples_split\\': 10}\",0.6617647058823529,0.7352941176470589,0.6617647058823529,0.6231884057971014,0.6705029838022165,0.04058717567998526,176\\r\\n351,0.002242565155029297,0.00043167364363781827,0.03463292121887207,0.057110660204348164,entropy,50,20,15,\"{\\'criterion\\': \\'entropy\\', \\'max_depth\\': 50, \\'min_samples_leaf\\': 20, \\'min_samples_split\\': 15}\",0.6617647058823529,0.7352941176470589,0.6617647058823529,0.6231884057971014,0.6705029838022165,0.04058717567998526,176\\r\\n352,0.002491593360900879,0.0004981756210327148,0.0012458562850952148,0.0004317424581797746,entropy,50,20,50,\"{\\'criterion\\': \\'entropy\\', \\'max_depth\\': 50, \\'min_samples_leaf\\': 20, \\'min_samples_split\\': 50}\",0.6323529411764706,0.7352941176470589,0.6617647058823529,0.6231884057971014,0.663150042625746,0.04402295024835018,215\\r\\n353,0.0019931793212890625,2.9200193199910854e-07,0.001245737075805664,0.00043153598163353843,entropy,50,20,100,\"{\\'criterion\\': \\'entropy\\', \\'max_depth\\': 50, \\'min_samples_leaf\\': 20, \\'min_samples_split\\': 100}\",0.6323529411764706,0.7647058823529411,0.7058823529411765,0.4927536231884058,0.6489236999147485,0.1016285944439481,286\\r\\n354,0.0019934773445129395,3.097148193542142e-07,0.0019932985305786133,2.6656007498500226e-07,entropy,50,25,2,\"{\\'criterion\\': \\'entropy\\', \\'max_depth\\': 50, \\'min_samples_leaf\\': 25, \\'min_samples_split\\': 2}\",0.5882352941176471,0.75,0.5588235294117647,0.6376811594202898,0.6336849957374254,0.0728269593944061,335\\r\\n355,0.00224226713180542,0.00043157040536732525,0.0017442703247070312,0.00043167364363781827,entropy,50,25,5,\"{\\'criterion\\': \\'entropy\\', \\'max_depth\\': 50, \\'min_samples_leaf\\': 25, \\'min_samples_split\\': 5}\",0.5882352941176471,0.75,0.5588235294117647,0.6376811594202898,0.6336849957374254,0.0728269593944061,335\\r\\n356,0.0024919509887695312,0.0004982949729170892,0.0012456774711608887,0.00043157040536732525,entropy,50,25,10,\"{\\'criterion\\': \\'entropy\\', \\'max_depth\\': 50, \\'min_samples_leaf\\': 25, \\'min_samples_split\\': 10}\",0.5882352941176471,0.75,0.5588235294117647,0.6376811594202898,0.6336849957374254,0.0728269593944061,335\\r\\n357,0.0020026564598083496,1.6278398421241968e-05,0.001993238925933838,2.5981062314156735e-07,entropy,50,25,15,\"{\\'criterion\\': \\'entropy\\', \\'max_depth\\': 50, \\'min_samples_leaf\\': 25, \\'min_samples_split\\': 15}\",0.5882352941176471,0.75,0.5588235294117647,0.6376811594202898,0.6336849957374254,0.0728269593944061,335\\r\\n358,0.0029900074005126953,1.6858739404357614e-07,0.0012458562850952148,0.00043146716709683343,entropy,50,25,50,\"{\\'criterion\\': \\'entropy\\', \\'max_depth\\': 50, \\'min_samples_leaf\\': 25, \\'min_samples_split\\': 50}\",0.5882352941176471,0.75,0.5588235294117647,0.6376811594202898,0.6336849957374254,0.0728269593944061,335\\r\\n359,0.0022423863410949707,0.0004316392199066565,0.0017442107200622559,0.0004317768819083126,entropy,50,25,100,\"{\\'criterion\\': \\'entropy\\', \\'max_depth\\': 50, \\'min_samples_leaf\\': 25, \\'min_samples_split\\': 100}\",0.6323529411764706,0.7794117647058824,0.6323529411764706,0.5072463768115942,0.6378410059676044,0.09638137087169762,326\\r\\n'"
      ]
     },
     "execution_count": 169,
     "metadata": {},
     "output_type": "execute_result"
    }
   ],
   "source": [
    "results=pd.DataFrame(grid.cv_results_)\n",
    "results.to_csv('results.csv')"
   ]
  },
  {
   "cell_type": "code",
   "execution_count": 170,
   "metadata": {},
   "outputs": [
    {
     "name": "stdout",
     "output_type": "stream",
     "text": [
      "              precision    recall  f1-score   support\n",
      "\n",
      "           0       0.82      0.86      0.84       110\n",
      "           1       0.76      0.70      0.73        69\n",
      "\n",
      "    accuracy                           0.80       179\n",
      "   macro avg       0.79      0.78      0.78       179\n",
      "weighted avg       0.80      0.80      0.80       179\n",
      "\n"
     ]
    }
   ],
   "source": [
    "predicted= grid.predict(test_x)\n",
    "from sklearn import metrics\n",
    "print(metrics.classification_report(test_y,predicted))"
   ]
  },
  {
   "cell_type": "code",
   "execution_count": 171,
   "metadata": {},
   "outputs": [
    {
     "data": {
      "text/plain": [
       "array([[0.75 , 0.25 ],\n",
       "       [0.915, 0.085],\n",
       "       [0.438, 0.562],\n",
       "       [0.   , 1.   ],\n",
       "       [0.449, 0.551],\n",
       "       [0.778, 0.222],\n",
       "       [0.167, 0.833],\n",
       "       [0.167, 0.833],\n",
       "       [0.524, 0.476],\n",
       "       [0.156, 0.844],\n",
       "       [0.969, 0.031],\n",
       "       [0.267, 0.733],\n",
       "       [0.915, 0.085],\n",
       "       [0.053, 0.947],\n",
       "       [0.   , 1.   ],\n",
       "       [0.156, 0.844],\n",
       "       [0.915, 0.085],\n",
       "       [0.969, 0.031],\n",
       "       [0.769, 0.231],\n",
       "       [0.438, 0.562],\n",
       "       [0.915, 0.085],\n",
       "       [0.167, 0.833],\n",
       "       [0.915, 0.085],\n",
       "       [0.778, 0.222],\n",
       "       [0.449, 0.551],\n",
       "       [0.   , 1.   ],\n",
       "       [0.611, 0.389],\n",
       "       [0.156, 0.844],\n",
       "       [0.053, 0.947],\n",
       "       [0.87 , 0.13 ],\n",
       "       [0.959, 0.041],\n",
       "       [0.267, 0.733],\n",
       "       [0.915, 0.085],\n",
       "       [0.778, 0.222],\n",
       "       [0.969, 0.031],\n",
       "       [0.778, 0.222],\n",
       "       [1.   , 0.   ],\n",
       "       [0.915, 0.085],\n",
       "       [0.915, 0.085],\n",
       "       [0.959, 0.041],\n",
       "       [0.882, 0.118],\n",
       "       [0.75 , 0.25 ],\n",
       "       [0.915, 0.085],\n",
       "       [0.438, 0.562],\n",
       "       [0.   , 1.   ],\n",
       "       [0.915, 0.085],\n",
       "       [0.915, 0.085],\n",
       "       [0.167, 0.833],\n",
       "       [0.959, 0.041],\n",
       "       [0.524, 0.476],\n",
       "       [0.778, 0.222],\n",
       "       [0.778, 0.222],\n",
       "       [0.053, 0.947],\n",
       "       [0.915, 0.085],\n",
       "       [0.778, 0.222],\n",
       "       [0.969, 0.031],\n",
       "       [0.882, 0.118],\n",
       "       [0.87 , 0.13 ],\n",
       "       [0.438, 0.562],\n",
       "       [0.969, 0.031],\n",
       "       [0.75 , 0.25 ],\n",
       "       [0.449, 0.551],\n",
       "       [0.   , 1.   ],\n",
       "       [0.778, 0.222],\n",
       "       [0.449, 0.551],\n",
       "       [0.611, 0.389],\n",
       "       [0.267, 0.733],\n",
       "       [0.915, 0.085],\n",
       "       [0.053, 0.947],\n",
       "       [0.   , 1.   ],\n",
       "       [0.053, 0.947],\n",
       "       [0.524, 0.476],\n",
       "       [0.524, 0.476],\n",
       "       [0.915, 0.085],\n",
       "       [0.915, 0.085],\n",
       "       [0.053, 0.947],\n",
       "       [0.524, 0.476],\n",
       "       [0.778, 0.222],\n",
       "       [1.   , 0.   ],\n",
       "       [0.75 , 0.25 ],\n",
       "       [0.969, 0.031],\n",
       "       [0.438, 0.562],\n",
       "       [0.053, 0.947],\n",
       "       [0.915, 0.085],\n",
       "       [0.959, 0.041],\n",
       "       [0.   , 1.   ],\n",
       "       [0.167, 0.833],\n",
       "       [0.727, 0.273],\n",
       "       [0.053, 0.947],\n",
       "       [0.524, 0.476],\n",
       "       [1.   , 0.   ],\n",
       "       [0.915, 0.085],\n",
       "       [0.438, 0.562],\n",
       "       [0.   , 1.   ],\n",
       "       [0.87 , 0.13 ],\n",
       "       [0.75 , 0.25 ],\n",
       "       [0.053, 0.947],\n",
       "       [0.969, 0.031],\n",
       "       [0.882, 0.118],\n",
       "       [0.778, 0.222],\n",
       "       [0.438, 0.562],\n",
       "       [0.959, 0.041],\n",
       "       [0.915, 0.085],\n",
       "       [0.969, 0.031],\n",
       "       [0.449, 0.551],\n",
       "       [0.727, 0.273],\n",
       "       [0.053, 0.947],\n",
       "       [0.87 , 0.13 ],\n",
       "       [0.969, 0.031],\n",
       "       [0.449, 0.551],\n",
       "       [1.   , 0.   ],\n",
       "       [0.   , 1.   ],\n",
       "       [0.611, 0.389],\n",
       "       [0.449, 0.551],\n",
       "       [0.524, 0.476],\n",
       "       [0.053, 0.947],\n",
       "       [0.449, 0.551],\n",
       "       [0.167, 0.833],\n",
       "       [1.   , 0.   ],\n",
       "       [0.267, 0.733],\n",
       "       [0.667, 0.333],\n",
       "       [0.915, 0.085],\n",
       "       [0.915, 0.085],\n",
       "       [1.   , 0.   ],\n",
       "       [0.959, 0.041],\n",
       "       [0.882, 0.118],\n",
       "       [0.75 , 0.25 ],\n",
       "       [0.969, 0.031],\n",
       "       [0.833, 0.167],\n",
       "       [0.959, 0.041],\n",
       "       [0.156, 0.844],\n",
       "       [0.915, 0.085],\n",
       "       [0.833, 0.167],\n",
       "       [0.449, 0.551],\n",
       "       [0.882, 0.118],\n",
       "       [0.915, 0.085],\n",
       "       [0.969, 0.031],\n",
       "       [0.727, 0.273],\n",
       "       [0.959, 0.041],\n",
       "       [0.915, 0.085],\n",
       "       [0.915, 0.085],\n",
       "       [0.   , 1.   ],\n",
       "       [0.915, 0.085],\n",
       "       [0.156, 0.844],\n",
       "       [0.   , 1.   ],\n",
       "       [0.449, 0.551],\n",
       "       [0.8  , 0.2  ],\n",
       "       [0.267, 0.733],\n",
       "       [0.167, 0.833],\n",
       "       [0.915, 0.085],\n",
       "       [0.524, 0.476],\n",
       "       [0.727, 0.273],\n",
       "       [0.727, 0.273],\n",
       "       [0.8  , 0.2  ],\n",
       "       [0.053, 0.947],\n",
       "       [0.915, 0.085],\n",
       "       [0.727, 0.273],\n",
       "       [0.959, 0.041],\n",
       "       [0.156, 0.844],\n",
       "       [0.449, 0.551],\n",
       "       [0.915, 0.085],\n",
       "       [0.75 , 0.25 ],\n",
       "       [0.   , 1.   ],\n",
       "       [0.727, 0.273],\n",
       "       [0.75 , 0.25 ],\n",
       "       [0.915, 0.085],\n",
       "       [1.   , 0.   ],\n",
       "       [0.915, 0.085],\n",
       "       [0.915, 0.085],\n",
       "       [0.915, 0.085],\n",
       "       [0.769, 0.231],\n",
       "       [0.   , 1.   ],\n",
       "       [0.915, 0.085],\n",
       "       [0.915, 0.085],\n",
       "       [0.156, 0.844],\n",
       "       [0.915, 0.085],\n",
       "       [0.   , 1.   ],\n",
       "       [0.915, 0.085],\n",
       "       [0.915, 0.085]])"
      ]
     },
     "execution_count": 171,
     "metadata": {},
     "output_type": "execute_result"
    }
   ],
   "source": [
    "predicted_prob = grid.predict_proba(test_x)\n",
    "np.round(predicted_prob,3)"
   ]
  },
  {
   "cell_type": "code",
   "execution_count": 2,
   "metadata": {},
   "outputs": [
    {
     "ename": "NameError",
     "evalue": "name 'grid' is not defined",
     "output_type": "error",
     "traceback": [
      "\u001b[1;31m---------------------------------------------------------------------------\u001b[0m",
      "\u001b[1;31mNameError\u001b[0m                                 Traceback (most recent call last)",
      "\u001b[1;32m<ipython-input-2-7036201bad09>\u001b[0m in \u001b[0;36m<module>\u001b[1;34m\u001b[0m\n\u001b[1;32m----> 1\u001b[1;33m \u001b[0mpredicted_prob\u001b[0m\u001b[1;33m=\u001b[0m\u001b[0mgrid\u001b[0m\u001b[1;33m.\u001b[0m\u001b[0mpredict_proba\u001b[0m\u001b[1;33m(\u001b[0m\u001b[0mtest_x\u001b[0m\u001b[1;33m)\u001b[0m\u001b[1;33m\u001b[0m\u001b[1;33m\u001b[0m\u001b[0m\n\u001b[0m\u001b[0;32m      2\u001b[0m \u001b[0mpredicted_prob\u001b[0m\u001b[1;33m\u001b[0m\u001b[1;33m\u001b[0m\u001b[0m\n\u001b[0;32m      3\u001b[0m \u001b[0mpredicted_prob_df\u001b[0m\u001b[1;33m=\u001b[0m\u001b[0mpd\u001b[0m\u001b[1;33m.\u001b[0m\u001b[0mDataFrame\u001b[0m\u001b[1;33m(\u001b[0m\u001b[0mpredicted_prob\u001b[0m\u001b[1;33m)\u001b[0m\u001b[1;33m\u001b[0m\u001b[1;33m\u001b[0m\u001b[0m\n\u001b[0;32m      4\u001b[0m \u001b[0mpredicted_prob_df\u001b[0m\u001b[1;33m\u001b[0m\u001b[1;33m\u001b[0m\u001b[0m\n\u001b[0;32m      5\u001b[0m \u001b[0mpredicted_classes_df\u001b[0m \u001b[1;33m=\u001b[0m \u001b[0mpd\u001b[0m\u001b[1;33m.\u001b[0m\u001b[0mDataFrame\u001b[0m\u001b[1;33m(\u001b[0m\u001b[0mpredicted\u001b[0m\u001b[1;33m)\u001b[0m\u001b[1;33m\u001b[0m\u001b[1;33m\u001b[0m\u001b[0m\n",
      "\u001b[1;31mNameError\u001b[0m: name 'grid' is not defined"
     ]
    }
   ],
   "source": [
    "predicted_prob=grid.predict_proba(test_x)\n",
    "predicted_prob\n",
    "predicted_prob_df=pd.DataFrame(predicted_prob)\n",
    "predicted_prob_df\n",
    "predicted_classes_df = pd.DataFrame(predicted)\n",
    "predicted\n",
    "predicted_classes_df\n",
    "y_actual_df = pd.DataFrame(test_y.values)\n",
    "predicted_df=pd.concat([predicted_prob_df,predicted_classes_df,y_actual_df],axis=1)\n",
    "predicted_df.columns=['Prob_0','Prob_1','Predicted_Class','Actual_Class']\n",
    "predicted_df.sample(20)"
   ]
  },
  {
   "cell_type": "code",
   "execution_count": 173,
   "metadata": {},
   "outputs": [],
   "source": [
    "#Apply new threshold for optimising Precision and Recall\n",
    "\n",
    "new_y_test = predicted_prob[:,1]>=0.15"
   ]
  },
  {
   "cell_type": "code",
   "execution_count": 174,
   "metadata": {},
   "outputs": [
    {
     "data": {
      "text/plain": [
       "array([ True, False,  True,  True,  True,  True,  True,  True,  True,\n",
       "        True, False,  True, False,  True,  True,  True, False, False,\n",
       "        True,  True, False,  True, False,  True,  True,  True,  True,\n",
       "        True,  True, False, False,  True, False,  True, False,  True,\n",
       "       False, False, False, False, False,  True, False,  True,  True,\n",
       "       False, False,  True, False,  True,  True,  True,  True, False,\n",
       "        True, False, False, False,  True, False,  True,  True,  True,\n",
       "        True,  True,  True,  True, False,  True,  True,  True,  True,\n",
       "        True, False, False,  True,  True,  True, False,  True, False,\n",
       "        True,  True, False, False,  True,  True,  True,  True,  True,\n",
       "       False, False,  True,  True, False,  True,  True, False, False,\n",
       "        True,  True, False, False, False,  True,  True,  True, False,\n",
       "       False,  True, False,  True,  True,  True,  True,  True,  True,\n",
       "        True, False,  True,  True, False, False, False, False, False,\n",
       "        True, False,  True, False,  True, False,  True,  True, False,\n",
       "       False, False,  True, False, False, False,  True, False,  True,\n",
       "        True,  True,  True,  True,  True, False,  True,  True,  True,\n",
       "        True,  True, False,  True, False,  True,  True, False,  True,\n",
       "        True,  True,  True, False, False, False, False, False,  True,\n",
       "        True, False, False,  True, False,  True, False, False])"
      ]
     },
     "execution_count": 174,
     "metadata": {},
     "output_type": "execute_result"
    }
   ],
   "source": [
    "new_y_test"
   ]
  },
  {
   "cell_type": "code",
   "execution_count": 175,
   "metadata": {},
   "outputs": [
    {
     "name": "stdout",
     "output_type": "stream",
     "text": [
      "              precision    recall  f1-score   support\n",
      "\n",
      "           0       0.95      0.63      0.75       110\n",
      "           1       0.61      0.94      0.74        69\n",
      "\n",
      "    accuracy                           0.75       179\n",
      "   macro avg       0.78      0.78      0.75       179\n",
      "weighted avg       0.82      0.75      0.75       179\n",
      "\n"
     ]
    }
   ],
   "source": [
    "print(metrics.classification_report(test_y,new_y_test))"
   ]
  },
  {
   "cell_type": "code",
   "execution_count": 176,
   "metadata": {},
   "outputs": [
    {
     "data": {
      "text/plain": [
       "array([[0.75      , 0.25      ],\n",
       "       [0.91472868, 0.08527132],\n",
       "       [0.4375    , 0.5625    ],\n",
       "       [0.        , 1.        ],\n",
       "       [0.44897959, 0.55102041],\n",
       "       [0.77777778, 0.22222222],\n",
       "       [0.16666667, 0.83333333],\n",
       "       [0.16666667, 0.83333333],\n",
       "       [0.52380952, 0.47619048],\n",
       "       [0.15625   , 0.84375   ],\n",
       "       [0.96875   , 0.03125   ],\n",
       "       [0.26666667, 0.73333333],\n",
       "       [0.91472868, 0.08527132],\n",
       "       [0.05263158, 0.94736842],\n",
       "       [0.        , 1.        ],\n",
       "       [0.15625   , 0.84375   ],\n",
       "       [0.91472868, 0.08527132],\n",
       "       [0.96875   , 0.03125   ],\n",
       "       [0.76923077, 0.23076923],\n",
       "       [0.4375    , 0.5625    ],\n",
       "       [0.91472868, 0.08527132],\n",
       "       [0.16666667, 0.83333333],\n",
       "       [0.91472868, 0.08527132],\n",
       "       [0.77777778, 0.22222222],\n",
       "       [0.44897959, 0.55102041],\n",
       "       [0.        , 1.        ],\n",
       "       [0.61111111, 0.38888889],\n",
       "       [0.15625   , 0.84375   ],\n",
       "       [0.05263158, 0.94736842],\n",
       "       [0.86956522, 0.13043478],\n",
       "       [0.95918367, 0.04081633],\n",
       "       [0.26666667, 0.73333333],\n",
       "       [0.91472868, 0.08527132],\n",
       "       [0.77777778, 0.22222222],\n",
       "       [0.96875   , 0.03125   ],\n",
       "       [0.77777778, 0.22222222],\n",
       "       [1.        , 0.        ],\n",
       "       [0.91472868, 0.08527132],\n",
       "       [0.91472868, 0.08527132],\n",
       "       [0.95918367, 0.04081633],\n",
       "       [0.88235294, 0.11764706],\n",
       "       [0.75      , 0.25      ],\n",
       "       [0.91472868, 0.08527132],\n",
       "       [0.4375    , 0.5625    ],\n",
       "       [0.        , 1.        ],\n",
       "       [0.91472868, 0.08527132],\n",
       "       [0.91472868, 0.08527132],\n",
       "       [0.16666667, 0.83333333],\n",
       "       [0.95918367, 0.04081633],\n",
       "       [0.52380952, 0.47619048],\n",
       "       [0.77777778, 0.22222222],\n",
       "       [0.77777778, 0.22222222],\n",
       "       [0.05263158, 0.94736842],\n",
       "       [0.91472868, 0.08527132],\n",
       "       [0.77777778, 0.22222222],\n",
       "       [0.96875   , 0.03125   ],\n",
       "       [0.88235294, 0.11764706],\n",
       "       [0.86956522, 0.13043478],\n",
       "       [0.4375    , 0.5625    ],\n",
       "       [0.96875   , 0.03125   ],\n",
       "       [0.75      , 0.25      ],\n",
       "       [0.44897959, 0.55102041],\n",
       "       [0.        , 1.        ],\n",
       "       [0.77777778, 0.22222222],\n",
       "       [0.44897959, 0.55102041],\n",
       "       [0.61111111, 0.38888889],\n",
       "       [0.26666667, 0.73333333],\n",
       "       [0.91472868, 0.08527132],\n",
       "       [0.05263158, 0.94736842],\n",
       "       [0.        , 1.        ],\n",
       "       [0.05263158, 0.94736842],\n",
       "       [0.52380952, 0.47619048],\n",
       "       [0.52380952, 0.47619048],\n",
       "       [0.91472868, 0.08527132],\n",
       "       [0.91472868, 0.08527132],\n",
       "       [0.05263158, 0.94736842],\n",
       "       [0.52380952, 0.47619048],\n",
       "       [0.77777778, 0.22222222],\n",
       "       [1.        , 0.        ],\n",
       "       [0.75      , 0.25      ],\n",
       "       [0.96875   , 0.03125   ],\n",
       "       [0.4375    , 0.5625    ],\n",
       "       [0.05263158, 0.94736842],\n",
       "       [0.91472868, 0.08527132],\n",
       "       [0.95918367, 0.04081633],\n",
       "       [0.        , 1.        ],\n",
       "       [0.16666667, 0.83333333],\n",
       "       [0.72727273, 0.27272727],\n",
       "       [0.05263158, 0.94736842],\n",
       "       [0.52380952, 0.47619048],\n",
       "       [1.        , 0.        ],\n",
       "       [0.91472868, 0.08527132],\n",
       "       [0.4375    , 0.5625    ],\n",
       "       [0.        , 1.        ],\n",
       "       [0.86956522, 0.13043478],\n",
       "       [0.75      , 0.25      ],\n",
       "       [0.05263158, 0.94736842],\n",
       "       [0.96875   , 0.03125   ],\n",
       "       [0.88235294, 0.11764706],\n",
       "       [0.77777778, 0.22222222],\n",
       "       [0.4375    , 0.5625    ],\n",
       "       [0.95918367, 0.04081633],\n",
       "       [0.91472868, 0.08527132],\n",
       "       [0.96875   , 0.03125   ],\n",
       "       [0.44897959, 0.55102041],\n",
       "       [0.72727273, 0.27272727],\n",
       "       [0.05263158, 0.94736842],\n",
       "       [0.86956522, 0.13043478],\n",
       "       [0.96875   , 0.03125   ],\n",
       "       [0.44897959, 0.55102041],\n",
       "       [1.        , 0.        ],\n",
       "       [0.        , 1.        ],\n",
       "       [0.61111111, 0.38888889],\n",
       "       [0.44897959, 0.55102041],\n",
       "       [0.52380952, 0.47619048],\n",
       "       [0.05263158, 0.94736842],\n",
       "       [0.44897959, 0.55102041],\n",
       "       [0.16666667, 0.83333333],\n",
       "       [1.        , 0.        ],\n",
       "       [0.26666667, 0.73333333],\n",
       "       [0.66666667, 0.33333333],\n",
       "       [0.91472868, 0.08527132],\n",
       "       [0.91472868, 0.08527132],\n",
       "       [1.        , 0.        ],\n",
       "       [0.95918367, 0.04081633],\n",
       "       [0.88235294, 0.11764706],\n",
       "       [0.75      , 0.25      ],\n",
       "       [0.96875   , 0.03125   ],\n",
       "       [0.83333333, 0.16666667],\n",
       "       [0.95918367, 0.04081633],\n",
       "       [0.15625   , 0.84375   ],\n",
       "       [0.91472868, 0.08527132],\n",
       "       [0.83333333, 0.16666667],\n",
       "       [0.44897959, 0.55102041],\n",
       "       [0.88235294, 0.11764706],\n",
       "       [0.91472868, 0.08527132],\n",
       "       [0.96875   , 0.03125   ],\n",
       "       [0.72727273, 0.27272727],\n",
       "       [0.95918367, 0.04081633],\n",
       "       [0.91472868, 0.08527132],\n",
       "       [0.91472868, 0.08527132],\n",
       "       [0.        , 1.        ],\n",
       "       [0.91472868, 0.08527132],\n",
       "       [0.15625   , 0.84375   ],\n",
       "       [0.        , 1.        ],\n",
       "       [0.44897959, 0.55102041],\n",
       "       [0.8       , 0.2       ],\n",
       "       [0.26666667, 0.73333333],\n",
       "       [0.16666667, 0.83333333],\n",
       "       [0.91472868, 0.08527132],\n",
       "       [0.52380952, 0.47619048],\n",
       "       [0.72727273, 0.27272727],\n",
       "       [0.72727273, 0.27272727],\n",
       "       [0.8       , 0.2       ],\n",
       "       [0.05263158, 0.94736842],\n",
       "       [0.91472868, 0.08527132],\n",
       "       [0.72727273, 0.27272727],\n",
       "       [0.95918367, 0.04081633],\n",
       "       [0.15625   , 0.84375   ],\n",
       "       [0.44897959, 0.55102041],\n",
       "       [0.91472868, 0.08527132],\n",
       "       [0.75      , 0.25      ],\n",
       "       [0.        , 1.        ],\n",
       "       [0.72727273, 0.27272727],\n",
       "       [0.75      , 0.25      ],\n",
       "       [0.91472868, 0.08527132],\n",
       "       [1.        , 0.        ],\n",
       "       [0.91472868, 0.08527132],\n",
       "       [0.91472868, 0.08527132],\n",
       "       [0.91472868, 0.08527132],\n",
       "       [0.76923077, 0.23076923],\n",
       "       [0.        , 1.        ],\n",
       "       [0.91472868, 0.08527132],\n",
       "       [0.91472868, 0.08527132],\n",
       "       [0.15625   , 0.84375   ],\n",
       "       [0.91472868, 0.08527132],\n",
       "       [0.        , 1.        ],\n",
       "       [0.91472868, 0.08527132],\n",
       "       [0.91472868, 0.08527132]])"
      ]
     },
     "execution_count": 176,
     "metadata": {},
     "output_type": "execute_result"
    }
   ],
   "source": [
    "predicted_prob"
   ]
  },
  {
   "cell_type": "code",
   "execution_count": 177,
   "metadata": {},
   "outputs": [
    {
     "data": {
      "text/plain": [
       "495    0\n",
       "648    0\n",
       "278    0\n",
       "31     1\n",
       "255    1\n",
       "      ..\n",
       "780    1\n",
       "837    0\n",
       "215    1\n",
       "833    0\n",
       "372    0\n",
       "Name: survived, Length: 179, dtype: int64"
      ]
     },
     "execution_count": 177,
     "metadata": {},
     "output_type": "execute_result"
    }
   ],
   "source": [
    "test_y"
   ]
  },
  {
   "cell_type": "code",
   "execution_count": 178,
   "metadata": {},
   "outputs": [],
   "source": [
    "#Random Forest\n",
    "\n",
    "my_estimators = [10,100,1000]\n",
    "my_max_depth = [5,10,15]\n",
    "my_criterion = ['gini','entropy']\n",
    "my_min_samples_leaf = [2,5,10,15]\n",
    "my_min_samples_split = [2,5,10,15,50,100]\n"
   ]
  },
  {
   "cell_type": "code",
   "execution_count": 179,
   "metadata": {},
   "outputs": [],
   "source": [
    "from sklearn.ensemble import RandomForestClassifier\n",
    "forest = RandomForestClassifier(class_weight='balanced',random_state = 23)"
   ]
  },
  {
   "cell_type": "code",
   "execution_count": 180,
   "metadata": {},
   "outputs": [],
   "source": [
    "#Importing GridSearch\n",
    "from sklearn.model_selection import GridSearchCV"
   ]
  },
  {
   "cell_type": "code",
   "execution_count": 181,
   "metadata": {},
   "outputs": [],
   "source": [
    "grid_rf=GridSearchCV(estimator= forest,cv=4,scoring='recall',param_grid=dict(max_depth=my_max_depth,criterion=my_criterion,min_samples_leaf=my_min_samples_leaf,\n",
    "                                                                            min_samples_split=my_min_samples_split,n_estimators=my_estimators))"
   ]
  },
  {
   "cell_type": "raw",
   "metadata": {},
   "source": [
    "\n",
    "grid_rf.fit(train_x,train_y)"
   ]
  },
  {
   "cell_type": "code",
   "execution_count": 182,
   "metadata": {},
   "outputs": [],
   "source": [
    "#forest_predicted=grid_rf.predict(test_x)"
   ]
  },
  {
   "cell_type": "code",
   "execution_count": 183,
   "metadata": {},
   "outputs": [],
   "source": [
    "#grid_rf"
   ]
  },
  {
   "cell_type": "code",
   "execution_count": 184,
   "metadata": {},
   "outputs": [],
   "source": [
    "#grid_rf.best_estimator_.feature_importances_"
   ]
  },
  {
   "cell_type": "code",
   "execution_count": 185,
   "metadata": {},
   "outputs": [],
   "source": [
    "#grid_rf.best_score_"
   ]
  },
  {
   "cell_type": "code",
   "execution_count": null,
   "metadata": {},
   "outputs": [],
   "source": []
  }
 ],
 "metadata": {
  "kernelspec": {
   "display_name": "Python 3",
   "language": "python",
   "name": "python3"
  },
  "language_info": {
   "codemirror_mode": {
    "name": "ipython",
    "version": 3
   },
   "file_extension": ".py",
   "mimetype": "text/x-python",
   "name": "python",
   "nbconvert_exporter": "python",
   "pygments_lexer": "ipython3",
   "version": "3.8.3"
  }
 },
 "nbformat": 4,
 "nbformat_minor": 4
}
