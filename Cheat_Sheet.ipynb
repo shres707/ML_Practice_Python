{
 "cells": [
  {
   "cell_type": "code",
   "execution_count": null,
   "metadata": {},
   "outputs": [],
   "source": [
    "#Check missing values \n",
    "titanic.isna().sum()\n",
    "#Drop Columns \n",
    "titanic.drop(columns=['who','adult_male','embark_town','alone','alive','class','deck'],inplace=True)\n",
    "#Replacing missing values of categorical var with mode\n",
    "titanic['embarked']= titanic['embarked'].fillna(titanic['embarked'].mode()[0])\n",
    "#Replacing missng values of continuous var with median\n",
    "titanic['age']=titanic['age'].fillna(titanic['age'].median())\n",
    "#Plotting box plot \n",
    "titanic.boxplot(column=['age','fare'])\n",
    "#Outlier treatment \n",
    "titanic.fare.quantile([0.01,0.05,0.5,0.95,0.99])\n",
    "# Dummy coding categorical variables\n",
    "for x in titanic_treated.columns:\n",
    "    if titanic_treated[x].dtype == \"object\":\n",
    "        titanic_treated[x]=pd.Categorical(titanic_treated[x]).codes\n",
    "        \n",
    "#Scaling \n",
    "from sklearn.preprocessing import MinMaxScaler\n",
    "scld_iris= MinMaxScaler()\n",
    "iris_transformed = scld_iris.fit_transform(iris_df)\n",
    "iris_transformed\n",
    "\n",
    "scld_iris_df = pd.DataFrame(iris_transformed,columns=iris_df.columns)\n",
    "scld_iris_df.head()\n",
    "scld_iris_df.describe()\n",
    "\n"
   ]
  }
 ],
 "metadata": {
  "kernelspec": {
   "display_name": "Python 3",
   "language": "python",
   "name": "python3"
  },
  "language_info": {
   "codemirror_mode": {
    "name": "ipython",
    "version": 3
   },
   "file_extension": ".py",
   "mimetype": "text/x-python",
   "name": "python",
   "nbconvert_exporter": "python",
   "pygments_lexer": "ipython3",
   "version": "3.8.3"
  }
 },
 "nbformat": 4,
 "nbformat_minor": 4
}
