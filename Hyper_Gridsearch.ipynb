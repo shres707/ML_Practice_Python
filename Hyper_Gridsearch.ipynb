{
 "cells": [
  {
   "cell_type": "code",
   "execution_count": null,
   "metadata": {},
   "outputs": [],
   "source": [
    "from sklearn import svm\n",
    "from sklearn.ensemble import RandomForestClassifier\n",
    "from sklearn.linear_model import LogisticRegression\n"
   ]
  },
  {
   "cell_type": "code",
   "execution_count": null,
   "metadata": {},
   "outputs": [],
   "source": [
    "model_params={\n",
    "    'svm':{ \n",
    "    'model':svm.SVC(gamma='auto'),\n",
    "    'params':{\n",
    "        'C':[1,10,20],\n",
    "        'kernel':['rbf','linear']\n",
    "     }\n",
    "   },\n",
    "   \n",
    "    'random_forest':{ \n",
    "    'model': RandomForestClassifier(),\n",
    "    'params':{\n",
    "        'C':[1,10,20],\n",
    "        'kernel':['rbf','linear']\n",
    "     }\n",
    "   },\n",
    "    \n",
    "    'logistic_regression':{ \n",
    "    'model': LogisticRegression(solver='liblinear',multiclass='auto'),\n",
    "    'params':{\n",
    "        'C':[1,5,10],\n",
    "       \n",
    "     }\n",
    "   } \n",
    "}"
   ]
  },
  {
   "cell_type": "code",
   "execution_count": null,
   "metadata": {},
   "outputs": [],
   "source": [
    "scores=[]\n",
    "for model_name,mp in model_params.items():\n",
    "    clf=GridSearchCV(mp[model],mp['params'],cv=5,return_train_score=False)\n",
    "    clf.fit(iris.data,iris.target)\n",
    "    scores.append({'model':model_name,'best_score':clf.best_score_,'best_params':clf.best_params_})\n"
   ]
  },
  {
   "cell_type": "code",
   "execution_count": null,
   "metadata": {},
   "outputs": [],
   "source": [
    "from sklearn.model_selection import RandomisedSearchCV\n",
    "rs=RandomizedSearchCV(svm.SVC(gamma='auto'),{'C':[1,10,20],'kernel':['rbf','linear']},cv=5,return_train_score=False,n_iter=2)"
   ]
  }
 ],
 "metadata": {
  "kernelspec": {
   "display_name": "Python 3",
   "language": "python",
   "name": "python3"
  },
  "language_info": {
   "codemirror_mode": {
    "name": "ipython",
    "version": 3
   },
   "file_extension": ".py",
   "mimetype": "text/x-python",
   "name": "python",
   "nbconvert_exporter": "python",
   "pygments_lexer": "ipython3",
   "version": "3.8.3"
  }
 },
 "nbformat": 4,
 "nbformat_minor": 4
}
