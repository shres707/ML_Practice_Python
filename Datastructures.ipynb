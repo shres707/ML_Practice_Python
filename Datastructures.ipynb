{
 "cells": [
  {
   "cell_type": "code",
   "execution_count": 6,
   "metadata": {},
   "outputs": [
    {
     "name": "stdout",
     "output_type": "stream",
     "text": [
      "['hate', 'idlis', 'india', 'love', 'smoking']\n",
      "[[0.         0.         0.79596054 0.60534851 0.        ]\n",
      " [0.         0.79596054 0.         0.60534851 0.        ]\n",
      " [0.70710678 0.         0.         0.         0.70710678]]\n",
      "  (0, 2)\t0.7959605415681652\n",
      "  (0, 3)\t0.6053485081062916\n",
      "  (1, 1)\t0.7959605415681652\n",
      "  (1, 3)\t0.6053485081062916\n",
      "  (2, 4)\t0.7071067811865476\n",
      "  (2, 0)\t0.7071067811865476\n"
     ]
    }
   ],
   "source": [
    "\n",
    "data=['i love india','i love idlis','i hate smoking']\n",
    "from sklearn.feature_extraction.text import TfidfVectorizer\n",
    "vectorizer=TfidfVectorizer()\n",
    "X=vectorizer.fit_transform(data)\n",
    "print(vectorizer.get_feature_names())\n",
    "print(X.toarray())\n",
    "print(X)\n"
   ]
  },
  {
   "cell_type": "code",
   "execution_count": 2,
   "metadata": {},
   "outputs": [
    {
     "name": "stdout",
     "output_type": "stream",
     "text": [
      "['hate', 'idlis', 'india', 'love', 'smoking']\n",
      "[[0 0 1 1 0]\n",
      " [0 1 0 1 0]\n",
      " [1 0 0 0 1]]\n",
      "  (0, 3)\t1\n",
      "  (0, 2)\t1\n",
      "  (1, 3)\t1\n",
      "  (1, 1)\t1\n",
      "  (2, 0)\t1\n",
      "  (2, 4)\t1\n"
     ]
    }
   ],
   "source": [
    "data=['i love india','i love idlis','i hate smoking']\n",
    "from sklearn.feature_extraction.text import CountVectorizer\n",
    "vectorizer=CountVectorizer()\n",
    "X=vectorizer.fit_transform(data)\n",
    "print(vectorizer.get_feature_names())\n",
    "print(X.toarray())\n",
    "print(X)\n"
   ]
  },
  {
   "cell_type": "code",
   "execution_count": null,
   "metadata": {},
   "outputs": [],
   "source": []
  }
 ],
 "metadata": {
  "kernelspec": {
   "display_name": "Python 3",
   "language": "python",
   "name": "python3"
  },
  "language_info": {
   "codemirror_mode": {
    "name": "ipython",
    "version": 3
   },
   "file_extension": ".py",
   "mimetype": "text/x-python",
   "name": "python",
   "nbconvert_exporter": "python",
   "pygments_lexer": "ipython3",
   "version": "3.8.3"
  }
 },
 "nbformat": 4,
 "nbformat_minor": 4
}
